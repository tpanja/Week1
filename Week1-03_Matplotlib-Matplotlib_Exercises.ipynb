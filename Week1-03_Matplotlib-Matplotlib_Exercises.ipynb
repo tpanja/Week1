{
  "cells": [
    {
      "cell_type": "markdown",
      "source": "# Matplotlib Exercises",
      "metadata": {
        "id": "62aBklHO062y",
        "colab_type": "text",
        "cell_id": "7aa81b6b6ddd4ec7b1a26fd835737587",
        "deepnote_cell_type": "markdown"
      }
    },
    {
      "cell_type": "code",
      "source": "import matplotlib.pyplot as plt\nimport numpy as np\nimport seaborn as sns\nimport pandas as pd",
      "metadata": {
        "id": "5BPzhruU08-J",
        "colab": {},
        "colab_type": "code",
        "source_hash": null,
        "execution_start": 1625522960806,
        "execution_millis": 1132,
        "deepnote_to_be_reexecuted": false,
        "cell_id": "8c1fef9a5ff34bc487b1ebca33eb1eaf",
        "deepnote_cell_type": "code"
      },
      "outputs": [],
      "execution_count": null
    },
    {
      "cell_type": "markdown",
      "source": "Below are the temperatures in degrees Celsius for this day (July 10) in Boston each year from 1961 to 2010. Plot the dates on the x-axis and temperatures on the y-axis.",
      "metadata": {
        "id": "5RSW40kR1Vzz",
        "colab_type": "text",
        "cell_id": "c22c9971c3aa4572bda330b2c2f6bd56",
        "deepnote_cell_type": "markdown"
      }
    },
    {
      "cell_type": "code",
      "source": "temp_boston = [17.8, 22.8, 17.5, 16.4, 23.35, 25.3, 27.25, 24.45, 22.5, 23.6, 26.7, 22.75, 21.95, 26.4,\n23.05, 22.5, 21.1, 26.1, 23.9, 20.25, 27.8, 23.9, 21.7, 19.7, 25.0, 21.4, 21.1, 27.8, 22.25, 27.25, \n23.35, 25.0, 30.0, 25.8, 23.6, 22.5,19.15, 22.8, 23.6, 25.0, 20.8, 21.4, 18.6, 23.05, 25.0, 25.0,\n18.35, 25.3, 18.6]",
      "metadata": {
        "id": "4rqalSZf1Yjq",
        "colab": {},
        "colab_type": "code",
        "source_hash": null,
        "execution_start": 1625522961951,
        "execution_millis": 3,
        "deepnote_to_be_reexecuted": false,
        "cell_id": "14ef50200b1c47c4af18e90f4d9b11e9",
        "deepnote_cell_type": "code"
      },
      "outputs": [],
      "execution_count": null
    },
    {
      "cell_type": "code",
      "source": "# YOUR CODE HERE",
      "metadata": {
        "id": "7FwkcZzK1b-s",
        "colab": {},
        "colab_type": "code",
        "cell_id": "c19c7d13792348e8b4f8d35b35741b7a",
        "deepnote_cell_type": "code"
      },
      "outputs": [],
      "execution_count": null
    },
    {
      "cell_type": "markdown",
      "source": "Now below is the temperature in degrees Celsius for this day (July 10) each year in New York from 1961 to 2010. Plot the temperatures of New York and Boston on the same graph in different colors.",
      "metadata": {
        "id": "IqPLuWxZ10ZB",
        "colab_type": "text",
        "cell_id": "2d466970d36c43d796bc6f866a236541",
        "deepnote_cell_type": "markdown"
      }
    },
    {
      "cell_type": "code",
      "source": "temp_new_york =[23.35, 25.25, 20.25, 22.25, 25.85, 25.85, 25.55, 24.2, 22.5, 23.9, 28.3, 22.8, 26.7,\n29.7, 23.6, 22.8, 23.05, 26.7, 20.3, 23.65, 28.05, 25.0, 21.4, 21.35, 26.1, 25.25, 28.35, 25.85, 27.5,\n26.4, 21.7, 27.2, 32.25, 28.3, 22.5, 23.05, 22.8, 25.0, 24.7, 27.5, 25.85, 24.45, 20.0, 24.15, 26.95,\n22.5, 25.85, 27.25, 19.4]",
      "metadata": {
        "id": "LDu1bMEy1gM6",
        "colab": {},
        "colab_type": "code",
        "cell_id": "374024c2a41c4bcb83ff4136865e4c2e",
        "deepnote_cell_type": "code"
      },
      "outputs": [],
      "execution_count": null
    },
    {
      "cell_type": "code",
      "source": "# YOUR CODE HERE",
      "metadata": {
        "id": "PF0sY5F013tJ",
        "colab": {},
        "colab_type": "code",
        "cell_id": "f2d229ce73fd4592a5e4312d513c7755",
        "deepnote_cell_type": "code"
      },
      "outputs": [],
      "execution_count": null
    },
    {
      "cell_type": "markdown",
      "source": "Plot the temperatures of New York and Boston on different graphs in the same figure¶",
      "metadata": {
        "id": "sNTQP1WC17TT",
        "colab_type": "text",
        "cell_id": "4a8a914ea1454778bb27909e2bd49ef9",
        "deepnote_cell_type": "markdown"
      }
    },
    {
      "cell_type": "code",
      "source": "# YOUR CODE HERE",
      "metadata": {
        "id": "vMLUmGgX18ZM",
        "colab": {},
        "colab_type": "code",
        "cell_id": "cb23415c82694baf89ec1f91ad3bce5c",
        "deepnote_cell_type": "code"
      },
      "outputs": [],
      "execution_count": null
    },
    {
      "cell_type": "markdown",
      "source": "Univariate Analysis\n\n---\n",
      "metadata": {
        "id": "GcAKU8n-lLFc",
        "colab_type": "text",
        "cell_id": "36737e2f89404ca29d65c62526ae3e30",
        "deepnote_cell_type": "markdown"
      }
    },
    {
      "cell_type": "markdown",
      "source": "Read the csv file into a dataframe and print the first 7 rows",
      "metadata": {
        "id": "dfGrcCTRt3-Q",
        "colab_type": "text",
        "cell_id": "3375828655064c1b88c3a26cd66f5cdd",
        "deepnote_cell_type": "markdown"
      }
    },
    {
      "cell_type": "code",
      "source": "url = \"https://raw.githubusercontent.com/BeaverWorksMedlytics2020/Data_Public/master/NotebookExampleData/Week1/BWSI_Dataset1.csv\"\n\n# YOUR CODE HERE",
      "metadata": {
        "id": "KBp3-kGns6LM",
        "colab": {},
        "colab_type": "code",
        "source_hash": null,
        "execution_start": 1625522966311,
        "execution_millis": 3,
        "deepnote_to_be_reexecuted": false,
        "cell_id": "9b1af15e80594afca2be4dbe2929e589",
        "deepnote_cell_type": "code"
      },
      "outputs": [],
      "execution_count": null
    },
    {
      "cell_type": "markdown",
      "source": "Conduct a Univariate Analysis of the participants' Cholesterol. What is noticeable about it? Create a function that normalizes the participants' Cholesterol and create two visualizations, one before the `\"Chol\"` data is modified, and one after normalizing the `\"Chol\"` data.",
      "metadata": {
        "id": "wtOdaXyhuO8_",
        "colab_type": "text",
        "cell_id": "707e0cd866004605aed1dc5c64287415",
        "deepnote_cell_type": "markdown"
      }
    },
    {
      "cell_type": "code",
      "source": "# YOUR CODE HERE",
      "metadata": {
        "id": "ub7tLlnjtxCA",
        "colab": {},
        "colab_type": "code",
        "cell_id": "c03b86f4c9634c3698cc20a32136a092",
        "deepnote_cell_type": "code"
      },
      "outputs": [],
      "execution_count": null
    },
    {
      "cell_type": "markdown",
      "source": "Bivariate Analysis\n\n---",
      "metadata": {
        "id": "QaB2YCMIuTNH",
        "colab_type": "text",
        "cell_id": "49b1cd82e9d94755b7f5b4fdc18c386a",
        "deepnote_cell_type": "markdown"
      }
    },
    {
      "cell_type": "markdown",
      "source": "Conduct a Bivariate Analysis for `\"Protein\"` and `\"Chol\"`. What is familar about this compared to the tutorial? What is another way to deal with overplotting other than the Hex plot? Create two data visualizations, one that shows the overplotting, another that resolves this issue. After you are done, play around with the sns.kdeplot function or try to create a 3D graph to reduce the effects of overplotting.",
      "metadata": {
        "id": "E5FzaWsyufXy",
        "colab_type": "text",
        "cell_id": "a4188038c33b4f6490fb89c52a990571",
        "deepnote_cell_type": "markdown"
      }
    },
    {
      "cell_type": "code",
      "source": "# YOUR CODE HERE",
      "metadata": {
        "id": "w5tGZu0zP4jE",
        "colab": {},
        "colab_type": "code",
        "cell_id": "80c3a0b5157a4a7f9d039e6ad417d969",
        "deepnote_cell_type": "code"
      },
      "outputs": [],
      "execution_count": null
    },
    {
      "cell_type": "markdown",
      "source": "If you have time here are some challenge python problems\n\n---",
      "metadata": {
        "id": "sv_3v0gL3I7V",
        "colab_type": "text",
        "cell_id": "b6a105e14b974402b1b6ac9a116ccc4b",
        "deepnote_cell_type": "markdown"
      }
    },
    {
      "cell_type": "markdown",
      "source": "As depicted below, create a numpy array of zeros (a) and an array of ones (b). Using slicing and assignment, update a using b, so that a is the array on the right side of the arrow. <br>\nhint: use np.zeros and np.ones\n",
      "metadata": {
        "id": "QNEH7fO23PCK",
        "colab_type": "text",
        "cell_id": "3639f9ceb67d468d8fc99c97a637bc9a",
        "deepnote_cell_type": "markdown"
      }
    },
    {
      "cell_type": "code",
      "source": "# 0 0 0 0 0 0                  0 0 0 0 0 0\n# 0 0 0 0 0 0    1 1 1  --->   0 0 0 0 0 0\n# 0 0 0 0 0 0    1 1 1         0 0 1 1 1 0\n# 0 0 0 0 0 0                  0 0 1 1 1 0",
      "metadata": {
        "id": "OZfpY4943Pki",
        "colab": {},
        "colab_type": "code",
        "cell_id": "91c7cb656f2945c3ac0b51940d923ad2",
        "deepnote_cell_type": "code"
      },
      "outputs": [],
      "execution_count": null
    },
    {
      "cell_type": "code",
      "source": "# YOUR CODE HERE\n",
      "metadata": {
        "id": "NOHGOiQX3Po6",
        "colab": {},
        "colab_type": "code",
        "cell_id": "48666bec470e490683b493714941a4e7",
        "deepnote_cell_type": "code"
      },
      "outputs": [],
      "execution_count": null
    },
    {
      "cell_type": "markdown",
      "source": "Fill in the function below. The function recieves a non-empty string and an int n, and returns a new string where the character at index n has been removed.¶\n",
      "metadata": {
        "id": "uOImCP-Z3QAy",
        "colab_type": "text",
        "cell_id": "bf4dd04f73ab48bb88efaeb4b513fb2d",
        "deepnote_cell_type": "markdown"
      }
    },
    {
      "cell_type": "code",
      "source": "def remove_char(old_string, n):\n    # YOUR CODE HERE\n    return new_string\n\nremove_char(\"words\", \"o\")\n\"words\"[len(\"words\")-1:]",
      "metadata": {
        "id": "tqaqr_wl3QSb",
        "colab": {},
        "colab_type": "code",
        "source_hash": null,
        "execution_start": 1625522970074,
        "execution_millis": 254,
        "deepnote_to_be_reexecuted": false,
        "cell_id": "e420a5c7ca724091881c754ecd10fa1f",
        "deepnote_cell_type": "code"
      },
      "outputs": [
        {
          "output_type": "error",
          "ename": "NameError",
          "evalue": "name 'new_string' is not defined",
          "traceback": [
            "\u001b[0;31m---------------------------------------------------------------------------\u001b[0m",
            "\u001b[0;31mNameError\u001b[0m                                 Traceback (most recent call last)",
            "\u001b[0;32m<ipython-input-4-dc861f27a96e>\u001b[0m in \u001b[0;36m<module>\u001b[0;34m\u001b[0m\n\u001b[1;32m      3\u001b[0m     \u001b[0;32mreturn\u001b[0m \u001b[0mnew_string\u001b[0m\u001b[0;34m\u001b[0m\u001b[0;34m\u001b[0m\u001b[0m\n\u001b[1;32m      4\u001b[0m \u001b[0;34m\u001b[0m\u001b[0m\n\u001b[0;32m----> 5\u001b[0;31m \u001b[0mremove_char\u001b[0m\u001b[0;34m(\u001b[0m\u001b[0;34m\"words\"\u001b[0m\u001b[0;34m,\u001b[0m \u001b[0;34m\"o\"\u001b[0m\u001b[0;34m)\u001b[0m\u001b[0;34m\u001b[0m\u001b[0;34m\u001b[0m\u001b[0m\n\u001b[0m\u001b[1;32m      6\u001b[0m \u001b[0;34m\"words\"\u001b[0m\u001b[0;34m[\u001b[0m\u001b[0mlen\u001b[0m\u001b[0;34m(\u001b[0m\u001b[0;34m\"words\"\u001b[0m\u001b[0;34m)\u001b[0m\u001b[0;34m-\u001b[0m\u001b[0;36m1\u001b[0m\u001b[0;34m:\u001b[0m\u001b[0;34m]\u001b[0m\u001b[0;34m\u001b[0m\u001b[0;34m\u001b[0m\u001b[0m\n",
            "\u001b[0;32m<ipython-input-4-dc861f27a96e>\u001b[0m in \u001b[0;36mremove_char\u001b[0;34m(old_string, n)\u001b[0m\n\u001b[1;32m      1\u001b[0m \u001b[0;32mdef\u001b[0m \u001b[0mremove_char\u001b[0m\u001b[0;34m(\u001b[0m\u001b[0mold_string\u001b[0m\u001b[0;34m,\u001b[0m \u001b[0mn\u001b[0m\u001b[0;34m)\u001b[0m\u001b[0;34m:\u001b[0m\u001b[0;34m\u001b[0m\u001b[0;34m\u001b[0m\u001b[0m\n\u001b[1;32m      2\u001b[0m     \u001b[0;31m# YOUR CODE HERE\u001b[0m\u001b[0;34m\u001b[0m\u001b[0;34m\u001b[0m\u001b[0;34m\u001b[0m\u001b[0m\n\u001b[0;32m----> 3\u001b[0;31m     \u001b[0;32mreturn\u001b[0m \u001b[0mnew_string\u001b[0m\u001b[0;34m\u001b[0m\u001b[0;34m\u001b[0m\u001b[0m\n\u001b[0m\u001b[1;32m      4\u001b[0m \u001b[0;34m\u001b[0m\u001b[0m\n\u001b[1;32m      5\u001b[0m \u001b[0mremove_char\u001b[0m\u001b[0;34m(\u001b[0m\u001b[0;34m\"words\"\u001b[0m\u001b[0;34m,\u001b[0m \u001b[0;34m\"o\"\u001b[0m\u001b[0;34m)\u001b[0m\u001b[0;34m\u001b[0m\u001b[0;34m\u001b[0m\u001b[0m\n",
            "\u001b[0;31mNameError\u001b[0m: name 'new_string' is not defined"
          ]
        }
      ],
      "execution_count": null
    },
    {
      "cell_type": "markdown",
      "source": "Given a string, return a new string where the first and last characters have been exchanged.",
      "metadata": {
        "id": "2xl10TMi3R3T",
        "colab_type": "text",
        "cell_id": "7817880176f24d6dac57d2d6e592f0f7",
        "deepnote_cell_type": "markdown"
      }
    },
    {
      "cell_type": "code",
      "source": "def swap_chars(old_string):\n  # YOUR CODE HERE\n",
      "metadata": {
        "id": "G3aMdeSv3R_B",
        "colab": {},
        "colab_type": "code",
        "cell_id": "1122a1a0a4264ef29f57878aea21f3e9",
        "deepnote_cell_type": "code"
      },
      "outputs": [],
      "execution_count": null
    },
    {
      "cell_type": "markdown",
      "source": "Test the function with three different parameters\n",
      "metadata": {
        "id": "ijou0sJ33SDp",
        "colab_type": "text",
        "cell_id": "67f910656fd94ca5ac446db181287b31",
        "deepnote_cell_type": "markdown"
      }
    },
    {
      "cell_type": "code",
      "source": "# YOUR CODE HERE",
      "metadata": {
        "id": "oBzMdJLZ3NvL",
        "colab": {},
        "colab_type": "code",
        "cell_id": "d0fd5093225442d18ede9a3bef01b985",
        "deepnote_cell_type": "code"
      },
      "outputs": [],
      "execution_count": null
    },
    {
      "cell_type": "markdown",
      "source": "<a style='text-decoration:none;line-height:16px;display:flex;color:#5B5B62;padding:10px;justify-content:end;' href='https://deepnote.com?utm_source=created-in-deepnote-cell&projectId=b6e455a0-5918-4cf0-b0c5-9015a522052b' target=\"_blank\">\n<img alt='Created in deepnote.com' style='display:inline;max-height:16px;margin:0px;margin-right:7.5px;' src='data:image/svg+xml;base64,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' > </img>\nCreated in <span style='font-weight:600;margin-left:4px;'>Deepnote</span></a>",
      "metadata": {
        "created_in_deepnote_cell": true,
        "deepnote_cell_type": "markdown"
      }
    }
  ],
  "nbformat": 4,
  "nbformat_minor": 0,
  "metadata": {
    "colab": {
      "name": "Matplotlib_Exercises",
      "provenance": [],
      "collapsed_sections": []
    },
    "deepnote": {},
    "kernelspec": {
      "name": "python3",
      "language": "python",
      "display_name": "Python 3"
    },
    "language_info": {
      "name": "python",
      "version": "3.7.3",
      "mimetype": "text/x-python",
      "file_extension": ".py",
      "pygments_lexer": "ipython3",
      "codemirror_mode": {
        "name": "ipython",
        "version": 3
      },
      "nbconvert_exporter": "python"
    },
    "deepnote_notebook_id": "ffb9a2a0865b4da398dc1b92ec611ba8",
    "deepnote_execution_queue": []
  }
}