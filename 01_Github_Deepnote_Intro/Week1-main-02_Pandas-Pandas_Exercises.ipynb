{
  "cells": [
    {
      "cell_type": "markdown",
      "source": "# Pandas Exercises",
      "metadata": {
        "id": "bSU6eKZTdMXZ",
        "colab_type": "text",
        "cell_id": "ad7b825a2ef747bca8d133f75448a72e",
        "deepnote_cell_type": "markdown"
      }
    },
    {
      "cell_type": "code",
      "source": "import pandas as pd\nimport numpy as np\n\nurl = \"https://raw.githubusercontent.com/BeaverWorksMedlytics2020/Data_Public/master/NotebookExampleData/Week1/diabetes.csv\"\nnames = ['preg', 'plas', 'pres', 'skin', 'test', 'mass', 'pedi', 'age', 'class']",
      "metadata": {
        "id": "c5ewTg7vdQFm",
        "colab": {},
        "colab_type": "code",
        "source_hash": "20075735",
        "execution_start": 1689091152575,
        "execution_millis": 9,
        "deepnote_to_be_reexecuted": false,
        "cell_id": "ff90c84dae404427afc117486ea9afcd",
        "deepnote_cell_type": "code"
      },
      "outputs": [],
      "execution_count": 30
    },
    {
      "cell_type": "markdown",
      "source": "Read in csv above to a pandas dataframe",
      "metadata": {
        "id": "QOLgFaSKeShR",
        "colab_type": "text",
        "cell_id": "4780584e7e91441889f593488ef037e8",
        "deepnote_cell_type": "markdown"
      }
    },
    {
      "cell_type": "code",
      "source": "df = pd.read_csv(url, names=names)\ndf.head()",
      "metadata": {
        "id": "Okcb8dnXeX2C",
        "colab": {},
        "colab_type": "code",
        "source_hash": "61add1c",
        "execution_start": 1689090874890,
        "execution_millis": 175,
        "deepnote_to_be_reexecuted": false,
        "cell_id": "e6b538a3a5304b26be65bad332eea36d",
        "deepnote_cell_type": "code"
      },
      "outputs": [
        {
          "output_type": "execute_result",
          "execution_count": 2,
          "data": {
            "application/vnd.deepnote.dataframe.v3+json": {
              "column_count": 9,
              "row_count": 5,
              "columns": [
                {
                  "name": "preg",
                  "dtype": "int64",
                  "stats": {
                    "unique_count": 4,
                    "nan_count": 0,
                    "min": "0",
                    "max": "8",
                    "histogram": [
                      {
                        "bin_start": 0,
                        "bin_end": 0.8,
                        "count": 1
                      },
                      {
                        "bin_start": 0.8,
                        "bin_end": 1.6,
                        "count": 2
                      },
                      {
                        "bin_start": 1.6,
                        "bin_end": 2.4000000000000004,
                        "count": 0
                      },
                      {
                        "bin_start": 2.4000000000000004,
                        "bin_end": 3.2,
                        "count": 0
                      },
                      {
                        "bin_start": 3.2,
                        "bin_end": 4,
                        "count": 0
                      },
                      {
                        "bin_start": 4,
                        "bin_end": 4.800000000000001,
                        "count": 0
                      },
                      {
                        "bin_start": 4.800000000000001,
                        "bin_end": 5.6000000000000005,
                        "count": 0
                      },
                      {
                        "bin_start": 5.6000000000000005,
                        "bin_end": 6.4,
                        "count": 1
                      },
                      {
                        "bin_start": 6.4,
                        "bin_end": 7.2,
                        "count": 0
                      },
                      {
                        "bin_start": 7.2,
                        "bin_end": 8,
                        "count": 1
                      }
                    ]
                  }
                },
                {
                  "name": "plas",
                  "dtype": "int64",
                  "stats": {
                    "unique_count": 5,
                    "nan_count": 0,
                    "min": "85",
                    "max": "183",
                    "histogram": [
                      {
                        "bin_start": 85,
                        "bin_end": 94.8,
                        "count": 2
                      },
                      {
                        "bin_start": 94.8,
                        "bin_end": 104.6,
                        "count": 0
                      },
                      {
                        "bin_start": 104.6,
                        "bin_end": 114.4,
                        "count": 0
                      },
                      {
                        "bin_start": 114.4,
                        "bin_end": 124.2,
                        "count": 0
                      },
                      {
                        "bin_start": 124.2,
                        "bin_end": 134,
                        "count": 0
                      },
                      {
                        "bin_start": 134,
                        "bin_end": 143.8,
                        "count": 1
                      },
                      {
                        "bin_start": 143.8,
                        "bin_end": 153.60000000000002,
                        "count": 1
                      },
                      {
                        "bin_start": 153.60000000000002,
                        "bin_end": 163.4,
                        "count": 0
                      },
                      {
                        "bin_start": 163.4,
                        "bin_end": 173.2,
                        "count": 0
                      },
                      {
                        "bin_start": 173.2,
                        "bin_end": 183,
                        "count": 1
                      }
                    ]
                  }
                },
                {
                  "name": "pres",
                  "dtype": "int64",
                  "stats": {
                    "unique_count": 4,
                    "nan_count": 0,
                    "min": "40",
                    "max": "72",
                    "histogram": [
                      {
                        "bin_start": 40,
                        "bin_end": 43.2,
                        "count": 1
                      },
                      {
                        "bin_start": 43.2,
                        "bin_end": 46.4,
                        "count": 0
                      },
                      {
                        "bin_start": 46.4,
                        "bin_end": 49.6,
                        "count": 0
                      },
                      {
                        "bin_start": 49.6,
                        "bin_end": 52.8,
                        "count": 0
                      },
                      {
                        "bin_start": 52.8,
                        "bin_end": 56,
                        "count": 0
                      },
                      {
                        "bin_start": 56,
                        "bin_end": 59.2,
                        "count": 0
                      },
                      {
                        "bin_start": 59.2,
                        "bin_end": 62.400000000000006,
                        "count": 0
                      },
                      {
                        "bin_start": 62.400000000000006,
                        "bin_end": 65.6,
                        "count": 1
                      },
                      {
                        "bin_start": 65.6,
                        "bin_end": 68.8,
                        "count": 2
                      },
                      {
                        "bin_start": 68.8,
                        "bin_end": 72,
                        "count": 1
                      }
                    ]
                  }
                },
                {
                  "name": "skin",
                  "dtype": "int64",
                  "stats": {
                    "unique_count": 4,
                    "nan_count": 0,
                    "min": "0",
                    "max": "35",
                    "histogram": [
                      {
                        "bin_start": 0,
                        "bin_end": 3.5,
                        "count": 1
                      },
                      {
                        "bin_start": 3.5,
                        "bin_end": 7,
                        "count": 0
                      },
                      {
                        "bin_start": 7,
                        "bin_end": 10.5,
                        "count": 0
                      },
                      {
                        "bin_start": 10.5,
                        "bin_end": 14,
                        "count": 0
                      },
                      {
                        "bin_start": 14,
                        "bin_end": 17.5,
                        "count": 0
                      },
                      {
                        "bin_start": 17.5,
                        "bin_end": 21,
                        "count": 0
                      },
                      {
                        "bin_start": 21,
                        "bin_end": 24.5,
                        "count": 1
                      },
                      {
                        "bin_start": 24.5,
                        "bin_end": 28,
                        "count": 0
                      },
                      {
                        "bin_start": 28,
                        "bin_end": 31.5,
                        "count": 1
                      },
                      {
                        "bin_start": 31.5,
                        "bin_end": 35,
                        "count": 2
                      }
                    ]
                  }
                },
                {
                  "name": "test",
                  "dtype": "int64",
                  "stats": {
                    "unique_count": 3,
                    "nan_count": 0,
                    "min": "0",
                    "max": "168",
                    "histogram": [
                      {
                        "bin_start": 0,
                        "bin_end": 16.8,
                        "count": 3
                      },
                      {
                        "bin_start": 16.8,
                        "bin_end": 33.6,
                        "count": 0
                      },
                      {
                        "bin_start": 33.6,
                        "bin_end": 50.400000000000006,
                        "count": 0
                      },
                      {
                        "bin_start": 50.400000000000006,
                        "bin_end": 67.2,
                        "count": 0
                      },
                      {
                        "bin_start": 67.2,
                        "bin_end": 84,
                        "count": 0
                      },
                      {
                        "bin_start": 84,
                        "bin_end": 100.80000000000001,
                        "count": 1
                      },
                      {
                        "bin_start": 100.80000000000001,
                        "bin_end": 117.60000000000001,
                        "count": 0
                      },
                      {
                        "bin_start": 117.60000000000001,
                        "bin_end": 134.4,
                        "count": 0
                      },
                      {
                        "bin_start": 134.4,
                        "bin_end": 151.20000000000002,
                        "count": 0
                      },
                      {
                        "bin_start": 151.20000000000002,
                        "bin_end": 168,
                        "count": 1
                      }
                    ]
                  }
                },
                {
                  "name": "mass",
                  "dtype": "float64",
                  "stats": {
                    "unique_count": 5,
                    "nan_count": 0,
                    "min": "23.3",
                    "max": "43.1",
                    "histogram": [
                      {
                        "bin_start": 23.3,
                        "bin_end": 25.28,
                        "count": 1
                      },
                      {
                        "bin_start": 25.28,
                        "bin_end": 27.26,
                        "count": 1
                      },
                      {
                        "bin_start": 27.26,
                        "bin_end": 29.240000000000002,
                        "count": 1
                      },
                      {
                        "bin_start": 29.240000000000002,
                        "bin_end": 31.22,
                        "count": 0
                      },
                      {
                        "bin_start": 31.22,
                        "bin_end": 33.2,
                        "count": 0
                      },
                      {
                        "bin_start": 33.2,
                        "bin_end": 35.18,
                        "count": 1
                      },
                      {
                        "bin_start": 35.18,
                        "bin_end": 37.16,
                        "count": 0
                      },
                      {
                        "bin_start": 37.16,
                        "bin_end": 39.14,
                        "count": 0
                      },
                      {
                        "bin_start": 39.14,
                        "bin_end": 41.120000000000005,
                        "count": 0
                      },
                      {
                        "bin_start": 41.120000000000005,
                        "bin_end": 43.1,
                        "count": 1
                      }
                    ]
                  }
                },
                {
                  "name": "pedi",
                  "dtype": "float64",
                  "stats": {
                    "unique_count": 5,
                    "nan_count": 0,
                    "min": "0.167",
                    "max": "2.288",
                    "histogram": [
                      {
                        "bin_start": 0.167,
                        "bin_end": 0.3791,
                        "count": 2
                      },
                      {
                        "bin_start": 0.3791,
                        "bin_end": 0.5912000000000001,
                        "count": 0
                      },
                      {
                        "bin_start": 0.5912000000000001,
                        "bin_end": 0.8033000000000001,
                        "count": 2
                      },
                      {
                        "bin_start": 0.8033000000000001,
                        "bin_end": 1.0154,
                        "count": 0
                      },
                      {
                        "bin_start": 1.0154,
                        "bin_end": 1.2275,
                        "count": 0
                      },
                      {
                        "bin_start": 1.2275,
                        "bin_end": 1.4396000000000002,
                        "count": 0
                      },
                      {
                        "bin_start": 1.4396000000000002,
                        "bin_end": 1.6517000000000002,
                        "count": 0
                      },
                      {
                        "bin_start": 1.6517000000000002,
                        "bin_end": 1.8638000000000001,
                        "count": 0
                      },
                      {
                        "bin_start": 1.8638000000000001,
                        "bin_end": 2.0759,
                        "count": 0
                      },
                      {
                        "bin_start": 2.0759,
                        "bin_end": 2.288,
                        "count": 1
                      }
                    ]
                  }
                },
                {
                  "name": "age",
                  "dtype": "int64",
                  "stats": {
                    "unique_count": 5,
                    "nan_count": 0,
                    "min": "21",
                    "max": "50",
                    "histogram": [
                      {
                        "bin_start": 21,
                        "bin_end": 23.9,
                        "count": 1
                      },
                      {
                        "bin_start": 23.9,
                        "bin_end": 26.8,
                        "count": 0
                      },
                      {
                        "bin_start": 26.8,
                        "bin_end": 29.7,
                        "count": 0
                      },
                      {
                        "bin_start": 29.7,
                        "bin_end": 32.6,
                        "count": 2
                      },
                      {
                        "bin_start": 32.6,
                        "bin_end": 35.5,
                        "count": 1
                      },
                      {
                        "bin_start": 35.5,
                        "bin_end": 38.4,
                        "count": 0
                      },
                      {
                        "bin_start": 38.4,
                        "bin_end": 41.3,
                        "count": 0
                      },
                      {
                        "bin_start": 41.3,
                        "bin_end": 44.2,
                        "count": 0
                      },
                      {
                        "bin_start": 44.2,
                        "bin_end": 47.099999999999994,
                        "count": 0
                      },
                      {
                        "bin_start": 47.099999999999994,
                        "bin_end": 50,
                        "count": 1
                      }
                    ]
                  }
                },
                {
                  "name": "class",
                  "dtype": "int64",
                  "stats": {
                    "unique_count": 2,
                    "nan_count": 0,
                    "min": "0",
                    "max": "1",
                    "histogram": [
                      {
                        "bin_start": 0,
                        "bin_end": 0.1,
                        "count": 2
                      },
                      {
                        "bin_start": 0.1,
                        "bin_end": 0.2,
                        "count": 0
                      },
                      {
                        "bin_start": 0.2,
                        "bin_end": 0.30000000000000004,
                        "count": 0
                      },
                      {
                        "bin_start": 0.30000000000000004,
                        "bin_end": 0.4,
                        "count": 0
                      },
                      {
                        "bin_start": 0.4,
                        "bin_end": 0.5,
                        "count": 0
                      },
                      {
                        "bin_start": 0.5,
                        "bin_end": 0.6000000000000001,
                        "count": 0
                      },
                      {
                        "bin_start": 0.6000000000000001,
                        "bin_end": 0.7000000000000001,
                        "count": 0
                      },
                      {
                        "bin_start": 0.7000000000000001,
                        "bin_end": 0.8,
                        "count": 0
                      },
                      {
                        "bin_start": 0.8,
                        "bin_end": 0.9,
                        "count": 0
                      },
                      {
                        "bin_start": 0.9,
                        "bin_end": 1,
                        "count": 3
                      }
                    ]
                  }
                },
                {
                  "name": "_deepnote_index_column",
                  "dtype": "int64"
                }
              ],
              "rows": [
                {
                  "preg": 6,
                  "plas": 148,
                  "pres": 72,
                  "skin": 35,
                  "test": 0,
                  "mass": 33.6,
                  "pedi": 0.627,
                  "age": 50,
                  "class": 1,
                  "_deepnote_index_column": 0
                },
                {
                  "preg": 1,
                  "plas": 85,
                  "pres": 66,
                  "skin": 29,
                  "test": 0,
                  "mass": 26.6,
                  "pedi": 0.351,
                  "age": 31,
                  "class": 0,
                  "_deepnote_index_column": 1
                },
                {
                  "preg": 8,
                  "plas": 183,
                  "pres": 64,
                  "skin": 0,
                  "test": 0,
                  "mass": 23.3,
                  "pedi": 0.672,
                  "age": 32,
                  "class": 1,
                  "_deepnote_index_column": 2
                },
                {
                  "preg": 1,
                  "plas": 89,
                  "pres": 66,
                  "skin": 23,
                  "test": 94,
                  "mass": 28.1,
                  "pedi": 0.167,
                  "age": 21,
                  "class": 0,
                  "_deepnote_index_column": 3
                },
                {
                  "preg": 0,
                  "plas": 137,
                  "pres": 40,
                  "skin": 35,
                  "test": 168,
                  "mass": 43.1,
                  "pedi": 2.288,
                  "age": 33,
                  "class": 1,
                  "_deepnote_index_column": 4
                }
              ]
            },
            "text/plain": "   preg  plas  pres  skin  test  mass   pedi  age  class\n0     6   148    72    35     0  33.6  0.627   50      1\n1     1    85    66    29     0  26.6  0.351   31      0\n2     8   183    64     0     0  23.3  0.672   32      1\n3     1    89    66    23    94  28.1  0.167   21      0\n4     0   137    40    35   168  43.1  2.288   33      1",
            "text/html": "<div>\n<style scoped>\n    .dataframe tbody tr th:only-of-type {\n        vertical-align: middle;\n    }\n\n    .dataframe tbody tr th {\n        vertical-align: top;\n    }\n\n    .dataframe thead th {\n        text-align: right;\n    }\n</style>\n<table border=\"1\" class=\"dataframe\">\n  <thead>\n    <tr style=\"text-align: right;\">\n      <th></th>\n      <th>preg</th>\n      <th>plas</th>\n      <th>pres</th>\n      <th>skin</th>\n      <th>test</th>\n      <th>mass</th>\n      <th>pedi</th>\n      <th>age</th>\n      <th>class</th>\n    </tr>\n  </thead>\n  <tbody>\n    <tr>\n      <th>0</th>\n      <td>6</td>\n      <td>148</td>\n      <td>72</td>\n      <td>35</td>\n      <td>0</td>\n      <td>33.6</td>\n      <td>0.627</td>\n      <td>50</td>\n      <td>1</td>\n    </tr>\n    <tr>\n      <th>1</th>\n      <td>1</td>\n      <td>85</td>\n      <td>66</td>\n      <td>29</td>\n      <td>0</td>\n      <td>26.6</td>\n      <td>0.351</td>\n      <td>31</td>\n      <td>0</td>\n    </tr>\n    <tr>\n      <th>2</th>\n      <td>8</td>\n      <td>183</td>\n      <td>64</td>\n      <td>0</td>\n      <td>0</td>\n      <td>23.3</td>\n      <td>0.672</td>\n      <td>32</td>\n      <td>1</td>\n    </tr>\n    <tr>\n      <th>3</th>\n      <td>1</td>\n      <td>89</td>\n      <td>66</td>\n      <td>23</td>\n      <td>94</td>\n      <td>28.1</td>\n      <td>0.167</td>\n      <td>21</td>\n      <td>0</td>\n    </tr>\n    <tr>\n      <th>4</th>\n      <td>0</td>\n      <td>137</td>\n      <td>40</td>\n      <td>35</td>\n      <td>168</td>\n      <td>43.1</td>\n      <td>2.288</td>\n      <td>33</td>\n      <td>1</td>\n    </tr>\n  </tbody>\n</table>\n</div>"
          },
          "metadata": {}
        }
      ],
      "execution_count": 2
    },
    {
      "cell_type": "markdown",
      "source": "Print out the age and class of the 100th patient",
      "metadata": {
        "id": "d4DyOsuoewE2",
        "colab_type": "text",
        "cell_id": "544e51e858d2427b9bc11e75954886c5",
        "deepnote_cell_type": "markdown"
      }
    },
    {
      "cell_type": "code",
      "source": "df.iloc[100][[\"age\", \"class\"]]",
      "metadata": {
        "id": "xZqBsg39eY8_",
        "colab": {},
        "colab_type": "code",
        "source_hash": "ccab27b1",
        "execution_start": 1689090874946,
        "execution_millis": 16,
        "deepnote_to_be_reexecuted": false,
        "cell_id": "d4056a8d0f4547068284763c91e68d19",
        "deepnote_cell_type": "code"
      },
      "outputs": [
        {
          "output_type": "execute_result",
          "execution_count": 3,
          "data": {
            "text/plain": "age      33.0\nclass     1.0\nName: 100, dtype: float64"
          },
          "metadata": {}
        }
      ],
      "execution_count": 3
    },
    {
      "cell_type": "markdown",
      "source": "Write code to figure out how many people are classified as not having diabetes, class is 0",
      "metadata": {
        "id": "j8L2EM-5iOWc",
        "colab_type": "text",
        "cell_id": "d48813eba12c4f73bc2a9ee6cfdd43a7",
        "deepnote_cell_type": "markdown"
      }
    },
    {
      "cell_type": "code",
      "source": "print(\"Please without diabetes: \", len(df[df['class']==0]))",
      "metadata": {
        "id": "vohzS51WiWvD",
        "colab": {},
        "colab_type": "code",
        "source_hash": "fb781534",
        "execution_start": 1689090946580,
        "execution_millis": 12,
        "deepnote_to_be_reexecuted": false,
        "cell_id": "45622a5227a8415b810a04fc432416cc",
        "deepnote_cell_type": "code"
      },
      "outputs": [
        {
          "name": "stdout",
          "text": "Please without diabetes:  500\n",
          "output_type": "stream"
        }
      ],
      "execution_count": 9
    },
    {
      "cell_type": "markdown",
      "source": "Write code to figure out how many people are classified as having diabetes, class is 1",
      "metadata": {
        "id": "ieGRz4iiiX4E",
        "colab_type": "text",
        "cell_id": "19e3fb8071d4406598ac1eaf03104f26",
        "deepnote_cell_type": "markdown"
      }
    },
    {
      "cell_type": "code",
      "source": "print(\"Please with diabetes: \", len(df[df['class']==1]))",
      "metadata": {
        "id": "-jq2O-vriXRT",
        "colab": {},
        "colab_type": "code",
        "source_hash": "d6fa7903",
        "execution_start": 1689090966367,
        "execution_millis": 11,
        "deepnote_to_be_reexecuted": false,
        "cell_id": "86c0ab5500714b6e8cf16ebcea98eff7",
        "deepnote_cell_type": "code"
      },
      "outputs": [
        {
          "name": "stdout",
          "text": "Please with diabetes:  268\n",
          "output_type": "stream"
        }
      ],
      "execution_count": 11
    },
    {
      "cell_type": "markdown",
      "source": "What percent of people have diabetes in the study",
      "metadata": {
        "id": "oeFT7T9OnuSd",
        "colab_type": "text",
        "cell_id": "bf10e7846fd1416db24b21694a1dea4f",
        "deepnote_cell_type": "markdown"
      }
    },
    {
      "cell_type": "code",
      "source": "print(\"Percent: \", len(df[df['class']==1])/len(df))",
      "metadata": {
        "id": "zGGHptFYnwq0",
        "colab": {},
        "colab_type": "code",
        "source_hash": "11aa1dd4",
        "execution_start": 1689091002488,
        "execution_millis": 11,
        "deepnote_to_be_reexecuted": false,
        "cell_id": "441c7cc09d7c4f8687cc1c1088e8ff0d",
        "deepnote_cell_type": "code"
      },
      "outputs": [
        {
          "name": "stdout",
          "text": "Percent:  0.3489583333333333\n",
          "output_type": "stream"
        }
      ],
      "execution_count": 16
    },
    {
      "cell_type": "markdown",
      "source": "Print out the `\"pres\"` and `\"class\"` (no other columns) for the first 5 people",
      "metadata": {
        "id": "nbrjnRPafs0p",
        "colab_type": "text",
        "cell_id": "81dd41a92c94400c94f3e27e9e957d86",
        "deepnote_cell_type": "markdown"
      }
    },
    {
      "cell_type": "code",
      "source": "df[[\"pres\", \"class\"]].head()",
      "metadata": {
        "id": "GiNCJ19KfHJQ",
        "colab": {},
        "colab_type": "code",
        "source_hash": "eaf6733e",
        "execution_start": 1689090988269,
        "execution_millis": 504,
        "deepnote_to_be_reexecuted": false,
        "cell_id": "b434bec32a264488bca862fd9584139b",
        "deepnote_cell_type": "code"
      },
      "outputs": [
        {
          "output_type": "execute_result",
          "execution_count": 13,
          "data": {
            "application/vnd.deepnote.dataframe.v3+json": {
              "column_count": 2,
              "row_count": 5,
              "columns": [
                {
                  "name": "pres",
                  "dtype": "int64",
                  "stats": {
                    "unique_count": 4,
                    "nan_count": 0,
                    "min": "40",
                    "max": "72",
                    "histogram": [
                      {
                        "bin_start": 40,
                        "bin_end": 43.2,
                        "count": 1
                      },
                      {
                        "bin_start": 43.2,
                        "bin_end": 46.4,
                        "count": 0
                      },
                      {
                        "bin_start": 46.4,
                        "bin_end": 49.6,
                        "count": 0
                      },
                      {
                        "bin_start": 49.6,
                        "bin_end": 52.8,
                        "count": 0
                      },
                      {
                        "bin_start": 52.8,
                        "bin_end": 56,
                        "count": 0
                      },
                      {
                        "bin_start": 56,
                        "bin_end": 59.2,
                        "count": 0
                      },
                      {
                        "bin_start": 59.2,
                        "bin_end": 62.400000000000006,
                        "count": 0
                      },
                      {
                        "bin_start": 62.400000000000006,
                        "bin_end": 65.6,
                        "count": 1
                      },
                      {
                        "bin_start": 65.6,
                        "bin_end": 68.8,
                        "count": 2
                      },
                      {
                        "bin_start": 68.8,
                        "bin_end": 72,
                        "count": 1
                      }
                    ]
                  }
                },
                {
                  "name": "class",
                  "dtype": "int64",
                  "stats": {
                    "unique_count": 2,
                    "nan_count": 0,
                    "min": "0",
                    "max": "1",
                    "histogram": [
                      {
                        "bin_start": 0,
                        "bin_end": 0.1,
                        "count": 2
                      },
                      {
                        "bin_start": 0.1,
                        "bin_end": 0.2,
                        "count": 0
                      },
                      {
                        "bin_start": 0.2,
                        "bin_end": 0.30000000000000004,
                        "count": 0
                      },
                      {
                        "bin_start": 0.30000000000000004,
                        "bin_end": 0.4,
                        "count": 0
                      },
                      {
                        "bin_start": 0.4,
                        "bin_end": 0.5,
                        "count": 0
                      },
                      {
                        "bin_start": 0.5,
                        "bin_end": 0.6000000000000001,
                        "count": 0
                      },
                      {
                        "bin_start": 0.6000000000000001,
                        "bin_end": 0.7000000000000001,
                        "count": 0
                      },
                      {
                        "bin_start": 0.7000000000000001,
                        "bin_end": 0.8,
                        "count": 0
                      },
                      {
                        "bin_start": 0.8,
                        "bin_end": 0.9,
                        "count": 0
                      },
                      {
                        "bin_start": 0.9,
                        "bin_end": 1,
                        "count": 3
                      }
                    ]
                  }
                },
                {
                  "name": "_deepnote_index_column",
                  "dtype": "int64"
                }
              ],
              "rows": [
                {
                  "pres": 72,
                  "class": 1,
                  "_deepnote_index_column": 0
                },
                {
                  "pres": 66,
                  "class": 0,
                  "_deepnote_index_column": 1
                },
                {
                  "pres": 64,
                  "class": 1,
                  "_deepnote_index_column": 2
                },
                {
                  "pres": 66,
                  "class": 0,
                  "_deepnote_index_column": 3
                },
                {
                  "pres": 40,
                  "class": 1,
                  "_deepnote_index_column": 4
                }
              ]
            },
            "text/plain": "   pres  class\n0    72      1\n1    66      0\n2    64      1\n3    66      0\n4    40      1",
            "text/html": "<div>\n<style scoped>\n    .dataframe tbody tr th:only-of-type {\n        vertical-align: middle;\n    }\n\n    .dataframe tbody tr th {\n        vertical-align: top;\n    }\n\n    .dataframe thead th {\n        text-align: right;\n    }\n</style>\n<table border=\"1\" class=\"dataframe\">\n  <thead>\n    <tr style=\"text-align: right;\">\n      <th></th>\n      <th>pres</th>\n      <th>class</th>\n    </tr>\n  </thead>\n  <tbody>\n    <tr>\n      <th>0</th>\n      <td>72</td>\n      <td>1</td>\n    </tr>\n    <tr>\n      <th>1</th>\n      <td>66</td>\n      <td>0</td>\n    </tr>\n    <tr>\n      <th>2</th>\n      <td>64</td>\n      <td>1</td>\n    </tr>\n    <tr>\n      <th>3</th>\n      <td>66</td>\n      <td>0</td>\n    </tr>\n    <tr>\n      <th>4</th>\n      <td>40</td>\n      <td>1</td>\n    </tr>\n  </tbody>\n</table>\n</div>"
          },
          "metadata": {}
        }
      ],
      "execution_count": 13
    },
    {
      "cell_type": "markdown",
      "source": "Run the cell below, it will print out the correlation among the columns",
      "metadata": {
        "id": "O-CcsoqlhxUn",
        "colab_type": "text",
        "cell_id": "bf28ab40b42946cbb9b11929b4978047",
        "deepnote_cell_type": "markdown"
      }
    },
    {
      "cell_type": "code",
      "source": "df.corr().iloc['class']",
      "metadata": {
        "cell_id": "fcafcc240d1e4399bbbe6e06040b192d",
        "deepnote_cell_type": "code"
      },
      "outputs": [],
      "execution_count": null
    },
    {
      "cell_type": "markdown",
      "source": "What column has the highest correlation with class? Find the mean() value of that column",
      "metadata": {
        "id": "P_7xRF11h4Uf",
        "colab_type": "text",
        "cell_id": "217da52fd81d4c14bdd199f36506a068",
        "deepnote_cell_type": "markdown"
      }
    },
    {
      "cell_type": "code",
      "source": "high_class = int(np.amax(df.corr()['class'].to_numpy()))\nmean = df[names[high_class]].mean()\n\nnames[high_class], mean",
      "metadata": {
        "id": "clb2Gh8Mn9d4",
        "colab": {},
        "colab_type": "code",
        "source_hash": "47324c78",
        "execution_start": 1689091377302,
        "execution_millis": 11,
        "deepnote_to_be_reexecuted": false,
        "cell_id": "cb62751b44c74ca581d746fd210076f4",
        "deepnote_cell_type": "code"
      },
      "outputs": [
        {
          "output_type": "execute_result",
          "execution_count": 37,
          "data": {
            "text/plain": "('plas', 120.89453125)"
          },
          "metadata": {}
        }
      ],
      "execution_count": 37
    },
    {
      "cell_type": "markdown",
      "source": "Create a new dataframe with only people that are above the mean found in the above cell.",
      "metadata": {
        "id": "64yWhAARoWw-",
        "colab_type": "text",
        "cell_id": "946363539fa342da8da31a47f2bb3d76",
        "deepnote_cell_type": "markdown"
      }
    },
    {
      "cell_type": "code",
      "source": "new_df = df[df[names[high_class]] > mean]\nnew_df.head()",
      "metadata": {
        "id": "HRLjs3agkdPY",
        "colab": {},
        "colab_type": "code",
        "source_hash": "66b9e498",
        "execution_start": 1689091417706,
        "execution_millis": 107,
        "deepnote_to_be_reexecuted": false,
        "cell_id": "650acbd9a47341ae91001baa957244ec",
        "deepnote_cell_type": "code"
      },
      "outputs": [
        {
          "output_type": "execute_result",
          "execution_count": 41,
          "data": {
            "application/vnd.deepnote.dataframe.v3+json": {
              "column_count": 9,
              "row_count": 5,
              "columns": [
                {
                  "name": "preg",
                  "dtype": "int64",
                  "stats": {
                    "unique_count": 4,
                    "nan_count": 0,
                    "min": "0",
                    "max": "8",
                    "histogram": [
                      {
                        "bin_start": 0,
                        "bin_end": 0.8,
                        "count": 1
                      },
                      {
                        "bin_start": 0.8,
                        "bin_end": 1.6,
                        "count": 0
                      },
                      {
                        "bin_start": 1.6,
                        "bin_end": 2.4000000000000004,
                        "count": 1
                      },
                      {
                        "bin_start": 2.4000000000000004,
                        "bin_end": 3.2,
                        "count": 0
                      },
                      {
                        "bin_start": 3.2,
                        "bin_end": 4,
                        "count": 0
                      },
                      {
                        "bin_start": 4,
                        "bin_end": 4.800000000000001,
                        "count": 0
                      },
                      {
                        "bin_start": 4.800000000000001,
                        "bin_end": 5.6000000000000005,
                        "count": 0
                      },
                      {
                        "bin_start": 5.6000000000000005,
                        "bin_end": 6.4,
                        "count": 1
                      },
                      {
                        "bin_start": 6.4,
                        "bin_end": 7.2,
                        "count": 0
                      },
                      {
                        "bin_start": 7.2,
                        "bin_end": 8,
                        "count": 2
                      }
                    ]
                  }
                },
                {
                  "name": "plas",
                  "dtype": "int64",
                  "stats": {
                    "unique_count": 5,
                    "nan_count": 0,
                    "min": "125",
                    "max": "197",
                    "histogram": [
                      {
                        "bin_start": 125,
                        "bin_end": 132.2,
                        "count": 1
                      },
                      {
                        "bin_start": 132.2,
                        "bin_end": 139.4,
                        "count": 1
                      },
                      {
                        "bin_start": 139.4,
                        "bin_end": 146.6,
                        "count": 0
                      },
                      {
                        "bin_start": 146.6,
                        "bin_end": 153.8,
                        "count": 1
                      },
                      {
                        "bin_start": 153.8,
                        "bin_end": 161,
                        "count": 0
                      },
                      {
                        "bin_start": 161,
                        "bin_end": 168.2,
                        "count": 0
                      },
                      {
                        "bin_start": 168.2,
                        "bin_end": 175.4,
                        "count": 0
                      },
                      {
                        "bin_start": 175.4,
                        "bin_end": 182.6,
                        "count": 0
                      },
                      {
                        "bin_start": 182.6,
                        "bin_end": 189.8,
                        "count": 1
                      },
                      {
                        "bin_start": 189.8,
                        "bin_end": 197,
                        "count": 1
                      }
                    ]
                  }
                },
                {
                  "name": "pres",
                  "dtype": "int64",
                  "stats": {
                    "unique_count": 5,
                    "nan_count": 0,
                    "min": "40",
                    "max": "96",
                    "histogram": [
                      {
                        "bin_start": 40,
                        "bin_end": 45.6,
                        "count": 1
                      },
                      {
                        "bin_start": 45.6,
                        "bin_end": 51.2,
                        "count": 0
                      },
                      {
                        "bin_start": 51.2,
                        "bin_end": 56.8,
                        "count": 0
                      },
                      {
                        "bin_start": 56.8,
                        "bin_end": 62.4,
                        "count": 0
                      },
                      {
                        "bin_start": 62.4,
                        "bin_end": 68,
                        "count": 1
                      },
                      {
                        "bin_start": 68,
                        "bin_end": 73.6,
                        "count": 2
                      },
                      {
                        "bin_start": 73.6,
                        "bin_end": 79.19999999999999,
                        "count": 0
                      },
                      {
                        "bin_start": 79.19999999999999,
                        "bin_end": 84.8,
                        "count": 0
                      },
                      {
                        "bin_start": 84.8,
                        "bin_end": 90.4,
                        "count": 0
                      },
                      {
                        "bin_start": 90.4,
                        "bin_end": 96,
                        "count": 1
                      }
                    ]
                  }
                },
                {
                  "name": "skin",
                  "dtype": "int64",
                  "stats": {
                    "unique_count": 3,
                    "nan_count": 0,
                    "min": "0",
                    "max": "45",
                    "histogram": [
                      {
                        "bin_start": 0,
                        "bin_end": 4.5,
                        "count": 2
                      },
                      {
                        "bin_start": 4.5,
                        "bin_end": 9,
                        "count": 0
                      },
                      {
                        "bin_start": 9,
                        "bin_end": 13.5,
                        "count": 0
                      },
                      {
                        "bin_start": 13.5,
                        "bin_end": 18,
                        "count": 0
                      },
                      {
                        "bin_start": 18,
                        "bin_end": 22.5,
                        "count": 0
                      },
                      {
                        "bin_start": 22.5,
                        "bin_end": 27,
                        "count": 0
                      },
                      {
                        "bin_start": 27,
                        "bin_end": 31.5,
                        "count": 0
                      },
                      {
                        "bin_start": 31.5,
                        "bin_end": 36,
                        "count": 2
                      },
                      {
                        "bin_start": 36,
                        "bin_end": 40.5,
                        "count": 0
                      },
                      {
                        "bin_start": 40.5,
                        "bin_end": 45,
                        "count": 1
                      }
                    ]
                  }
                },
                {
                  "name": "test",
                  "dtype": "int64",
                  "stats": {
                    "unique_count": 3,
                    "nan_count": 0,
                    "min": "0",
                    "max": "543",
                    "histogram": [
                      {
                        "bin_start": 0,
                        "bin_end": 54.3,
                        "count": 3
                      },
                      {
                        "bin_start": 54.3,
                        "bin_end": 108.6,
                        "count": 0
                      },
                      {
                        "bin_start": 108.6,
                        "bin_end": 162.89999999999998,
                        "count": 0
                      },
                      {
                        "bin_start": 162.89999999999998,
                        "bin_end": 217.2,
                        "count": 1
                      },
                      {
                        "bin_start": 217.2,
                        "bin_end": 271.5,
                        "count": 0
                      },
                      {
                        "bin_start": 271.5,
                        "bin_end": 325.79999999999995,
                        "count": 0
                      },
                      {
                        "bin_start": 325.79999999999995,
                        "bin_end": 380.09999999999997,
                        "count": 0
                      },
                      {
                        "bin_start": 380.09999999999997,
                        "bin_end": 434.4,
                        "count": 0
                      },
                      {
                        "bin_start": 434.4,
                        "bin_end": 488.7,
                        "count": 0
                      },
                      {
                        "bin_start": 488.7,
                        "bin_end": 543,
                        "count": 1
                      }
                    ]
                  }
                },
                {
                  "name": "mass",
                  "dtype": "float64",
                  "stats": {
                    "unique_count": 5,
                    "nan_count": 0,
                    "min": "0.0",
                    "max": "43.1",
                    "histogram": [
                      {
                        "bin_start": 0,
                        "bin_end": 4.3100000000000005,
                        "count": 1
                      },
                      {
                        "bin_start": 4.3100000000000005,
                        "bin_end": 8.620000000000001,
                        "count": 0
                      },
                      {
                        "bin_start": 8.620000000000001,
                        "bin_end": 12.930000000000001,
                        "count": 0
                      },
                      {
                        "bin_start": 12.930000000000001,
                        "bin_end": 17.240000000000002,
                        "count": 0
                      },
                      {
                        "bin_start": 17.240000000000002,
                        "bin_end": 21.550000000000004,
                        "count": 0
                      },
                      {
                        "bin_start": 21.550000000000004,
                        "bin_end": 25.860000000000003,
                        "count": 1
                      },
                      {
                        "bin_start": 25.860000000000003,
                        "bin_end": 30.17,
                        "count": 0
                      },
                      {
                        "bin_start": 30.17,
                        "bin_end": 34.480000000000004,
                        "count": 2
                      },
                      {
                        "bin_start": 34.480000000000004,
                        "bin_end": 38.790000000000006,
                        "count": 0
                      },
                      {
                        "bin_start": 38.790000000000006,
                        "bin_end": 43.1,
                        "count": 1
                      }
                    ]
                  }
                },
                {
                  "name": "pedi",
                  "dtype": "float64",
                  "stats": {
                    "unique_count": 5,
                    "nan_count": 0,
                    "min": "0.158",
                    "max": "2.288",
                    "histogram": [
                      {
                        "bin_start": 0.158,
                        "bin_end": 0.371,
                        "count": 2
                      },
                      {
                        "bin_start": 0.371,
                        "bin_end": 0.584,
                        "count": 0
                      },
                      {
                        "bin_start": 0.584,
                        "bin_end": 0.797,
                        "count": 2
                      },
                      {
                        "bin_start": 0.797,
                        "bin_end": 1.01,
                        "count": 0
                      },
                      {
                        "bin_start": 1.01,
                        "bin_end": 1.2229999999999999,
                        "count": 0
                      },
                      {
                        "bin_start": 1.2229999999999999,
                        "bin_end": 1.436,
                        "count": 0
                      },
                      {
                        "bin_start": 1.436,
                        "bin_end": 1.6489999999999998,
                        "count": 0
                      },
                      {
                        "bin_start": 1.6489999999999998,
                        "bin_end": 1.8619999999999999,
                        "count": 0
                      },
                      {
                        "bin_start": 1.8619999999999999,
                        "bin_end": 2.075,
                        "count": 0
                      },
                      {
                        "bin_start": 2.075,
                        "bin_end": 2.288,
                        "count": 1
                      }
                    ]
                  }
                },
                {
                  "name": "age",
                  "dtype": "int64",
                  "stats": {
                    "unique_count": 5,
                    "nan_count": 0,
                    "min": "32",
                    "max": "54",
                    "histogram": [
                      {
                        "bin_start": 32,
                        "bin_end": 34.2,
                        "count": 2
                      },
                      {
                        "bin_start": 34.2,
                        "bin_end": 36.4,
                        "count": 0
                      },
                      {
                        "bin_start": 36.4,
                        "bin_end": 38.6,
                        "count": 0
                      },
                      {
                        "bin_start": 38.6,
                        "bin_end": 40.8,
                        "count": 0
                      },
                      {
                        "bin_start": 40.8,
                        "bin_end": 43,
                        "count": 0
                      },
                      {
                        "bin_start": 43,
                        "bin_end": 45.2,
                        "count": 0
                      },
                      {
                        "bin_start": 45.2,
                        "bin_end": 47.400000000000006,
                        "count": 0
                      },
                      {
                        "bin_start": 47.400000000000006,
                        "bin_end": 49.6,
                        "count": 0
                      },
                      {
                        "bin_start": 49.6,
                        "bin_end": 51.8,
                        "count": 1
                      },
                      {
                        "bin_start": 51.8,
                        "bin_end": 54,
                        "count": 2
                      }
                    ]
                  }
                },
                {
                  "name": "class",
                  "dtype": "int64",
                  "stats": {
                    "unique_count": 1,
                    "nan_count": 0,
                    "min": "1",
                    "max": "1",
                    "histogram": [
                      {
                        "bin_start": 0.5,
                        "bin_end": 0.6,
                        "count": 0
                      },
                      {
                        "bin_start": 0.6,
                        "bin_end": 0.7,
                        "count": 0
                      },
                      {
                        "bin_start": 0.7,
                        "bin_end": 0.8,
                        "count": 0
                      },
                      {
                        "bin_start": 0.8,
                        "bin_end": 0.9,
                        "count": 0
                      },
                      {
                        "bin_start": 0.9,
                        "bin_end": 1,
                        "count": 0
                      },
                      {
                        "bin_start": 1,
                        "bin_end": 1.1,
                        "count": 5
                      },
                      {
                        "bin_start": 1.1,
                        "bin_end": 1.2000000000000002,
                        "count": 0
                      },
                      {
                        "bin_start": 1.2000000000000002,
                        "bin_end": 1.3,
                        "count": 0
                      },
                      {
                        "bin_start": 1.3,
                        "bin_end": 1.4,
                        "count": 0
                      },
                      {
                        "bin_start": 1.4,
                        "bin_end": 1.5,
                        "count": 0
                      }
                    ]
                  }
                },
                {
                  "name": "_deepnote_index_column",
                  "dtype": "int64"
                }
              ],
              "rows": [
                {
                  "preg": 6,
                  "plas": 148,
                  "pres": 72,
                  "skin": 35,
                  "test": 0,
                  "mass": 33.6,
                  "pedi": 0.627,
                  "age": 50,
                  "class": 1,
                  "_deepnote_index_column": 0
                },
                {
                  "preg": 8,
                  "plas": 183,
                  "pres": 64,
                  "skin": 0,
                  "test": 0,
                  "mass": 23.3,
                  "pedi": 0.672,
                  "age": 32,
                  "class": 1,
                  "_deepnote_index_column": 2
                },
                {
                  "preg": 0,
                  "plas": 137,
                  "pres": 40,
                  "skin": 35,
                  "test": 168,
                  "mass": 43.1,
                  "pedi": 2.288,
                  "age": 33,
                  "class": 1,
                  "_deepnote_index_column": 4
                },
                {
                  "preg": 2,
                  "plas": 197,
                  "pres": 70,
                  "skin": 45,
                  "test": 543,
                  "mass": 30.5,
                  "pedi": 0.158,
                  "age": 53,
                  "class": 1,
                  "_deepnote_index_column": 8
                },
                {
                  "preg": 8,
                  "plas": 125,
                  "pres": 96,
                  "skin": 0,
                  "test": 0,
                  "mass": 0,
                  "pedi": 0.232,
                  "age": 54,
                  "class": 1,
                  "_deepnote_index_column": 9
                }
              ]
            },
            "text/plain": "   preg  plas  pres  skin  test  mass   pedi  age  class\n0     6   148    72    35     0  33.6  0.627   50      1\n2     8   183    64     0     0  23.3  0.672   32      1\n4     0   137    40    35   168  43.1  2.288   33      1\n8     2   197    70    45   543  30.5  0.158   53      1\n9     8   125    96     0     0   0.0  0.232   54      1",
            "text/html": "<div>\n<style scoped>\n    .dataframe tbody tr th:only-of-type {\n        vertical-align: middle;\n    }\n\n    .dataframe tbody tr th {\n        vertical-align: top;\n    }\n\n    .dataframe thead th {\n        text-align: right;\n    }\n</style>\n<table border=\"1\" class=\"dataframe\">\n  <thead>\n    <tr style=\"text-align: right;\">\n      <th></th>\n      <th>preg</th>\n      <th>plas</th>\n      <th>pres</th>\n      <th>skin</th>\n      <th>test</th>\n      <th>mass</th>\n      <th>pedi</th>\n      <th>age</th>\n      <th>class</th>\n    </tr>\n  </thead>\n  <tbody>\n    <tr>\n      <th>0</th>\n      <td>6</td>\n      <td>148</td>\n      <td>72</td>\n      <td>35</td>\n      <td>0</td>\n      <td>33.6</td>\n      <td>0.627</td>\n      <td>50</td>\n      <td>1</td>\n    </tr>\n    <tr>\n      <th>2</th>\n      <td>8</td>\n      <td>183</td>\n      <td>64</td>\n      <td>0</td>\n      <td>0</td>\n      <td>23.3</td>\n      <td>0.672</td>\n      <td>32</td>\n      <td>1</td>\n    </tr>\n    <tr>\n      <th>4</th>\n      <td>0</td>\n      <td>137</td>\n      <td>40</td>\n      <td>35</td>\n      <td>168</td>\n      <td>43.1</td>\n      <td>2.288</td>\n      <td>33</td>\n      <td>1</td>\n    </tr>\n    <tr>\n      <th>8</th>\n      <td>2</td>\n      <td>197</td>\n      <td>70</td>\n      <td>45</td>\n      <td>543</td>\n      <td>30.5</td>\n      <td>0.158</td>\n      <td>53</td>\n      <td>1</td>\n    </tr>\n    <tr>\n      <th>9</th>\n      <td>8</td>\n      <td>125</td>\n      <td>96</td>\n      <td>0</td>\n      <td>0</td>\n      <td>0.0</td>\n      <td>0.232</td>\n      <td>54</td>\n      <td>1</td>\n    </tr>\n  </tbody>\n</table>\n</div>"
          },
          "metadata": {}
        }
      ],
      "execution_count": 41
    },
    {
      "cell_type": "markdown",
      "source": "Create a new dataframe that only includes people who are above the average value for each column in the dataset. In other words, find the average value for each column, and then find which users have values above all of these average column values.",
      "metadata": {
        "id": "RxGIQp0JrUnq",
        "colab_type": "text",
        "cell_id": "2772e7c6d0a84d29b151a97646f8cca2",
        "deepnote_cell_type": "markdown"
      }
    },
    {
      "cell_type": "code",
      "source": "# YOUR CODE HERE",
      "metadata": {
        "id": "Ylf4p6NNrfME",
        "colab": {},
        "colab_type": "code",
        "source_hash": "1015dca",
        "deepnote_to_be_reexecuted": true,
        "cell_id": "21f546e7ee0343c19a2af3e399a19205",
        "deepnote_cell_type": "code"
      },
      "outputs": [],
      "execution_count": null
    },
    {
      "cell_type": "markdown",
      "source": "*Note: the next 3 problems were not explicitly shown in our tutorial—being able to effectively google and look through documentation is a very important coding tool!* ¯\\\\\\_(ツ)_/¯",
      "metadata": {
        "id": "Cy_6ce7_8qAB",
        "colab_type": "text",
        "cell_id": "9761de7d950f426faece0a1f0512ce36",
        "deepnote_cell_type": "markdown"
      }
    },
    {
      "cell_type": "markdown",
      "source": "Ignoring the index (resetting the index to 0) and using the dataframe from the cell above, sort the values based on `\"skin\"`, `\"test\"`, and `\"pedi\"` values in ascending order. Please write this in one line.",
      "metadata": {
        "id": "24pCgP2xbCwZ",
        "colab_type": "text",
        "cell_id": "a390fc04cb034808bb5ec2c1db98360c",
        "deepnote_cell_type": "markdown"
      }
    },
    {
      "cell_type": "code",
      "source": "# YOUR CODE HERE",
      "metadata": {
        "id": "wXZysbVwa7i5",
        "colab": {},
        "colab_type": "code",
        "source_hash": "1015dca",
        "deepnote_to_be_reexecuted": true,
        "cell_id": "134f3b0c485b41e8b4e6c3c1fda6ec99",
        "deepnote_cell_type": "code"
      },
      "outputs": [],
      "execution_count": null
    },
    {
      "cell_type": "markdown",
      "source": "Now let's find the 4 largest values for `\"age\"`",
      "metadata": {
        "id": "BIJkXsK4ch-u",
        "colab_type": "text",
        "cell_id": "cc8ed55910ad405d8ba652550bed112d",
        "deepnote_cell_type": "markdown"
      }
    },
    {
      "cell_type": "code",
      "source": "# YOUR CODE HERE",
      "metadata": {
        "id": "kSl28jLLdAF9",
        "colab": {},
        "colab_type": "code",
        "source_hash": "1015dca",
        "deepnote_to_be_reexecuted": true,
        "cell_id": "2509842b7f5243afa7901ab2cceb8983",
        "deepnote_cell_type": "code"
      },
      "outputs": [],
      "execution_count": null
    },
    {
      "cell_type": "markdown",
      "source": "Now find the smallest 4 values for `\"pedi\"` and `\"plas\"` in reverse order (smallest to largest).",
      "metadata": {
        "id": "fJRwe8UfqvNG",
        "colab_type": "text",
        "cell_id": "130b91c6dd524728992934faf862c98d",
        "deepnote_cell_type": "markdown"
      }
    },
    {
      "cell_type": "code",
      "source": "# YOUR CODE HERE",
      "metadata": {
        "id": "icQcbPg1quNI",
        "colab": {},
        "colab_type": "code",
        "source_hash": "1015dca",
        "deepnote_to_be_reexecuted": true,
        "cell_id": "9a365f4d60914f15b842870ecd246ef7",
        "deepnote_cell_type": "code"
      },
      "outputs": [],
      "execution_count": null
    },
    {
      "cell_type": "markdown",
      "source": "<a style='text-decoration:none;line-height:16px;display:flex;color:#5B5B62;padding:10px;justify-content:end;' href='https://deepnote.com?utm_source=created-in-deepnote-cell&projectId=15bb2479-59c8-4dfc-b518-9976ce5eb9cb' target=\"_blank\">\n<img alt='Created in deepnote.com' style='display:inline;max-height:16px;margin:0px;margin-right:7.5px;' src='data:image/svg+xml;base64,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' > </img>\nCreated in <span style='font-weight:600;margin-left:4px;'>Deepnote</span></a>",
      "metadata": {
        "created_in_deepnote_cell": true,
        "deepnote_cell_type": "markdown"
      }
    }
  ],
  "nbformat": 4,
  "nbformat_minor": 0,
  "metadata": {
    "colab": {
      "name": "Pandas_Exercises",
      "provenance": [],
      "collapsed_sections": []
    },
    "deepnote": {},
    "kernelspec": {
      "name": "python3",
      "language": "python",
      "display_name": "Python 3"
    },
    "language_info": {
      "name": "python",
      "version": "3.7.3",
      "mimetype": "text/x-python",
      "file_extension": ".py",
      "pygments_lexer": "ipython3",
      "codemirror_mode": {
        "name": "ipython",
        "version": 3
      },
      "nbconvert_exporter": "python"
    },
    "deepnote_notebook_id": "3f0ab53feb8b475a9560d6699b9dfe8b",
    "deepnote_execution_queue": []
  }
}