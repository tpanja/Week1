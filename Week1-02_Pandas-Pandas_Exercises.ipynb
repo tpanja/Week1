{
  "cells": [
    {
      "cell_type": "markdown",
      "source": "# Pandas Exercises",
      "metadata": {
        "id": "bSU6eKZTdMXZ",
        "colab_type": "text",
        "cell_id": "187b7103b44341ca99a3657b0c71734f",
        "deepnote_cell_type": "markdown"
      }
    },
    {
      "cell_type": "code",
      "source": "import pandas as pd\n\nurl = \"https://raw.githubusercontent.com/BeaverWorksMedlytics2020/Data_Public/master/NotebookExampleData/Week1/diabetes.csv\"\nnames = ['preg', 'plas', 'pres', 'skin', 'test', 'mass', 'pedi', 'age', 'class']",
      "metadata": {
        "id": "c5ewTg7vdQFm",
        "colab": {},
        "colab_type": "code",
        "source_hash": null,
        "execution_start": 1625522830394,
        "execution_millis": 4,
        "deepnote_to_be_reexecuted": false,
        "cell_id": "73d6dbf6dea04450a2f718fd32f3426c",
        "deepnote_cell_type": "code"
      },
      "outputs": [],
      "execution_count": null
    },
    {
      "cell_type": "markdown",
      "source": "Read in csv above to a pandas dataframe",
      "metadata": {
        "id": "QOLgFaSKeShR",
        "colab_type": "text",
        "cell_id": "438174270d4e43d7b370ad15e39609fc",
        "deepnote_cell_type": "markdown"
      }
    },
    {
      "cell_type": "code",
      "source": "# YOUR CODE HERE",
      "metadata": {
        "id": "Okcb8dnXeX2C",
        "colab": {},
        "colab_type": "code",
        "cell_id": "fd12afaa62af47bf982e2a640e212e48",
        "deepnote_cell_type": "code"
      },
      "outputs": [],
      "execution_count": null
    },
    {
      "cell_type": "markdown",
      "source": "Print out the age and class of the 100th patient",
      "metadata": {
        "id": "d4DyOsuoewE2",
        "colab_type": "text",
        "cell_id": "8fb65677544c45aab98761f0e7c2b0ae",
        "deepnote_cell_type": "markdown"
      }
    },
    {
      "cell_type": "code",
      "source": "# YOUR CODE HERE",
      "metadata": {
        "id": "xZqBsg39eY8_",
        "colab": {},
        "colab_type": "code",
        "cell_id": "d540b8217ba442a096f49e9dfd4213c3",
        "deepnote_cell_type": "code"
      },
      "outputs": [],
      "execution_count": null
    },
    {
      "cell_type": "markdown",
      "source": "Write code to figure out how many people are classified as not having diabetes, class is 0",
      "metadata": {
        "id": "j8L2EM-5iOWc",
        "colab_type": "text",
        "cell_id": "1907e35c03d34b70a3eddd734756335c",
        "deepnote_cell_type": "markdown"
      }
    },
    {
      "cell_type": "code",
      "source": "# YOUR CODE HERE",
      "metadata": {
        "id": "vohzS51WiWvD",
        "colab": {},
        "colab_type": "code",
        "cell_id": "e0dc352bdf5840b7ab9fbde9068cd082",
        "deepnote_cell_type": "code"
      },
      "outputs": [],
      "execution_count": null
    },
    {
      "cell_type": "markdown",
      "source": "Write code to figure out how many people are classified as having diabetes, class is 1",
      "metadata": {
        "id": "ieGRz4iiiX4E",
        "colab_type": "text",
        "cell_id": "673ffd943f464ee7b14fbd7c29718d9d",
        "deepnote_cell_type": "markdown"
      }
    },
    {
      "cell_type": "code",
      "source": "# YOUR CODE HERE",
      "metadata": {
        "id": "-jq2O-vriXRT",
        "colab": {},
        "colab_type": "code",
        "cell_id": "2dc85daf1ffd4ef987c337d5c8c91e1f",
        "deepnote_cell_type": "code"
      },
      "outputs": [],
      "execution_count": null
    },
    {
      "cell_type": "markdown",
      "source": "What percent of people have diabetes in the study",
      "metadata": {
        "id": "oeFT7T9OnuSd",
        "colab_type": "text",
        "cell_id": "558a39803a3446e09ade7b0821af4cf5",
        "deepnote_cell_type": "markdown"
      }
    },
    {
      "cell_type": "code",
      "source": "# YOUR CODE HERE",
      "metadata": {
        "id": "zGGHptFYnwq0",
        "colab": {},
        "colab_type": "code",
        "cell_id": "03c4f8afca9b4bfe9266ff510ed0ef59",
        "deepnote_cell_type": "code"
      },
      "outputs": [],
      "execution_count": null
    },
    {
      "cell_type": "markdown",
      "source": "Print out the `\"pres\"` and `\"class\"` (no other columns) for the first 5 people",
      "metadata": {
        "id": "nbrjnRPafs0p",
        "colab_type": "text",
        "cell_id": "7ecca63ed8fa423299502f5118c6f98b",
        "deepnote_cell_type": "markdown"
      }
    },
    {
      "cell_type": "code",
      "source": "# YOUR CODE HERE",
      "metadata": {
        "id": "GiNCJ19KfHJQ",
        "colab": {},
        "colab_type": "code",
        "cell_id": "3fba7f6c8ea6402aaf6daca7634745d1",
        "deepnote_cell_type": "code"
      },
      "outputs": [],
      "execution_count": null
    },
    {
      "cell_type": "markdown",
      "source": "Run the cell below, it will print out the correlation among the columns",
      "metadata": {
        "id": "O-CcsoqlhxUn",
        "colab_type": "text",
        "cell_id": "ee8814b3fe3c4ccb83fdf017173f0717",
        "deepnote_cell_type": "markdown"
      }
    },
    {
      "cell_type": "code",
      "source": "data.corr()",
      "metadata": {
        "id": "pXpVFt6MffQt",
        "colab": {},
        "colab_type": "code",
        "cell_id": "8ac356fdadd04293b2b794105b39ec57",
        "deepnote_cell_type": "code"
      },
      "outputs": [],
      "execution_count": null
    },
    {
      "cell_type": "markdown",
      "source": "What column has the highest correlation with class? Find the mean() value of that column",
      "metadata": {
        "id": "P_7xRF11h4Uf",
        "colab_type": "text",
        "cell_id": "5fec062cd2c349c28254de8769d60959",
        "deepnote_cell_type": "markdown"
      }
    },
    {
      "cell_type": "code",
      "source": "# YOUR CODE HERE",
      "metadata": {
        "id": "clb2Gh8Mn9d4",
        "colab": {},
        "colab_type": "code",
        "cell_id": "061d250613ef4879ac7aac05ac6e85f2",
        "deepnote_cell_type": "code"
      },
      "outputs": [],
      "execution_count": null
    },
    {
      "cell_type": "markdown",
      "source": "Create a new dataframe with only people that are above the mean found in the above cell.",
      "metadata": {
        "id": "64yWhAARoWw-",
        "colab_type": "text",
        "cell_id": "a5ea13fc3a0d469d890e0e9c3b993bb8",
        "deepnote_cell_type": "markdown"
      }
    },
    {
      "cell_type": "code",
      "source": "# YOUR CODE HERE",
      "metadata": {
        "id": "HRLjs3agkdPY",
        "colab": {},
        "colab_type": "code",
        "cell_id": "0089d6d82ed641c794bd9ab9c1d72ace",
        "deepnote_cell_type": "code"
      },
      "outputs": [],
      "execution_count": null
    },
    {
      "cell_type": "markdown",
      "source": "Create a new dataframe that only includes people who are above the average value for each column in the dataset. In other words, find the average value for each column, and then find which users have values above all of these average column values.",
      "metadata": {
        "id": "RxGIQp0JrUnq",
        "colab_type": "text",
        "cell_id": "70555d10504d434891a81f667541f1c6",
        "deepnote_cell_type": "markdown"
      }
    },
    {
      "cell_type": "code",
      "source": "# YOUR CODE HERE",
      "metadata": {
        "id": "Ylf4p6NNrfME",
        "colab": {},
        "colab_type": "code",
        "cell_id": "4b4a807e49ab4466b65cb8261cc38dc1",
        "deepnote_cell_type": "code"
      },
      "outputs": [],
      "execution_count": null
    },
    {
      "cell_type": "markdown",
      "source": "*Note: the next 3 problems were not explicitly shown in our tutorial—being able to effectively google and look through documentation is a very important coding tool!* ¯\\\\\\_(ツ)_/¯",
      "metadata": {
        "id": "Cy_6ce7_8qAB",
        "colab_type": "text",
        "cell_id": "d7cb7e9f03a440e5a478424058a09a6b",
        "deepnote_cell_type": "markdown"
      }
    },
    {
      "cell_type": "markdown",
      "source": "Ignoring the index (resetting the index to 0) and using the dataframe from the cell above, sort the values based on `\"skin\"`, `\"test\"`, and `\"pedi\"` values in ascending order. Please write this in one line.",
      "metadata": {
        "id": "24pCgP2xbCwZ",
        "colab_type": "text",
        "cell_id": "86032d94e41e4313a5f6566173aca330",
        "deepnote_cell_type": "markdown"
      }
    },
    {
      "cell_type": "code",
      "source": "# YOUR CODE HERE",
      "metadata": {
        "id": "wXZysbVwa7i5",
        "colab": {},
        "colab_type": "code",
        "cell_id": "d6dc4570b96e45bb9b6f46ce2bf52dd4",
        "deepnote_cell_type": "code"
      },
      "outputs": [],
      "execution_count": null
    },
    {
      "cell_type": "markdown",
      "source": "Now let's find the 4 largest values for `\"age\"`",
      "metadata": {
        "id": "BIJkXsK4ch-u",
        "colab_type": "text",
        "cell_id": "b391c9c6d61d410c98365a0df473fe04",
        "deepnote_cell_type": "markdown"
      }
    },
    {
      "cell_type": "code",
      "source": "# YOUR CODE HERE",
      "metadata": {
        "id": "kSl28jLLdAF9",
        "colab": {},
        "colab_type": "code",
        "cell_id": "ee7b76ff3a44464e9989afd24c8fa6c9",
        "deepnote_cell_type": "code"
      },
      "outputs": [],
      "execution_count": null
    },
    {
      "cell_type": "markdown",
      "source": "Now find the smallest 4 values for `\"pedi\"` and `\"plas\"` in reverse order (smallest to largest).",
      "metadata": {
        "id": "fJRwe8UfqvNG",
        "colab_type": "text",
        "cell_id": "623f75593bd14376b912812de0fffce3",
        "deepnote_cell_type": "markdown"
      }
    },
    {
      "cell_type": "code",
      "source": "# YOUR CODE HERE",
      "metadata": {
        "id": "icQcbPg1quNI",
        "colab": {},
        "colab_type": "code",
        "cell_id": "9bb1a521d2c3492b8889a79db459582f",
        "deepnote_cell_type": "code"
      },
      "outputs": [],
      "execution_count": null
    },
    {
      "cell_type": "markdown",
      "source": "<a style='text-decoration:none;line-height:16px;display:flex;color:#5B5B62;padding:10px;justify-content:end;' href='https://deepnote.com?utm_source=created-in-deepnote-cell&projectId=b6e455a0-5918-4cf0-b0c5-9015a522052b' target=\"_blank\">\n<img alt='Created in deepnote.com' style='display:inline;max-height:16px;margin:0px;margin-right:7.5px;' src='data:image/svg+xml;base64,PD94bWwgdmVyc2lvbj0iMS4wIiBlbmNvZGluZz0iVVRGLTgiPz4KPHN2ZyB3aWR0aD0iODBweCIgaGVpZ2h0PSI4MHB4IiB2aWV3Qm94PSIwIDAgODAgODAiIHZlcnNpb249IjEuMSIgeG1sbnM9Imh0dHA6Ly93d3cudzMub3JnLzIwMDAvc3ZnIiB4bWxuczp4bGluaz0iaHR0cDovL3d3dy53My5vcmcvMTk5OS94bGluayI+CiAgICA8IS0tIEdlbmVyYXRvcjogU2tldGNoIDU0LjEgKDc2NDkwKSAtIGh0dHBzOi8vc2tldGNoYXBwLmNvbSAtLT4KICAgIDx0aXRsZT5Hcm91cCAzPC90aXRsZT4KICAgIDxkZXNjPkNyZWF0ZWQgd2l0aCBTa2V0Y2guPC9kZXNjPgogICAgPGcgaWQ9IkxhbmRpbmciIHN0cm9rZT0ibm9uZSIgc3Ryb2tlLXdpZHRoPSIxIiBmaWxsPSJub25lIiBmaWxsLXJ1bGU9ImV2ZW5vZGQiPgogICAgICAgIDxnIGlkPSJBcnRib2FyZCIgdHJhbnNmb3JtPSJ0cmFuc2xhdGUoLTEyMzUuMDAwMDAwLCAtNzkuMDAwMDAwKSI+CiAgICAgICAgICAgIDxnIGlkPSJHcm91cC0zIiB0cmFuc2Zvcm09InRyYW5zbGF0ZSgxMjM1LjAwMDAwMCwgNzkuMDAwMDAwKSI+CiAgICAgICAgICAgICAgICA8cG9seWdvbiBpZD0iUGF0aC0yMCIgZmlsbD0iIzAyNjVCNCIgcG9pbnRzPSIyLjM3NjIzNzYyIDgwIDM4LjA0NzY2NjcgODAgNTcuODIxNzgyMiA3My44MDU3NTkyIDU3LjgyMTc4MjIgMzIuNzU5MjczOSAzOS4xNDAyMjc4IDMxLjY4MzE2ODMiPjwvcG9seWdvbj4KICAgICAgICAgICAgICAgIDxwYXRoIGQ9Ik0zNS4wMDc3MTgsODAgQzQyLjkwNjIwMDcsNzYuNDU0OTM1OCA0Ny41NjQ5MTY3LDcxLjU0MjI2NzEgNDguOTgzODY2LDY1LjI2MTk5MzkgQzUxLjExMjI4OTksNTUuODQxNTg0MiA0MS42NzcxNzk1LDQ5LjIxMjIyODQgMjUuNjIzOTg0Niw0OS4yMTIyMjg0IEMyNS40ODQ5Mjg5LDQ5LjEyNjg0NDggMjkuODI2MTI5Niw0My4yODM4MjQ4IDM4LjY0NzU4NjksMzEuNjgzMTY4MyBMNzIuODcxMjg3MSwzMi41NTQ0MjUgTDY1LjI4MDk3Myw2Ny42NzYzNDIxIEw1MS4xMTIyODk5LDc3LjM3NjE0NCBMMzUuMDA3NzE4LDgwIFoiIGlkPSJQYXRoLTIyIiBmaWxsPSIjMDAyODY4Ij48L3BhdGg+CiAgICAgICAgICAgICAgICA8cGF0aCBkPSJNMCwzNy43MzA0NDA1IEwyNy4xMTQ1MzcsMC4yNTcxMTE0MzYgQzYyLjM3MTUxMjMsLTEuOTkwNzE3MDEgODAsMTAuNTAwMzkyNyA4MCwzNy43MzA0NDA1IEM4MCw2NC45NjA0ODgyIDY0Ljc3NjUwMzgsNzkuMDUwMzQxNCAzNC4zMjk1MTEzLDgwIEM0Ny4wNTUzNDg5LDc3LjU2NzA4MDggNTMuNDE4MjY3Nyw3MC4zMTM2MTAzIDUzLjQxODI2NzcsNTguMjM5NTg4NSBDNTMuNDE4MjY3Nyw0MC4xMjg1NTU3IDM2LjMwMzk1NDQsMzcuNzMwNDQwNSAyNS4yMjc0MTcsMzcuNzMwNDQwNSBDMTcuODQzMDU4NiwzNy43MzA0NDA1IDkuNDMzOTE5NjYsMzcuNzMwNDQwNSAwLDM3LjczMDQ0MDUgWiIgaWQ9IlBhdGgtMTkiIGZpbGw9IiMzNzkzRUYiPjwvcGF0aD4KICAgICAgICAgICAgPC9nPgogICAgICAgIDwvZz4KICAgIDwvZz4KPC9zdmc+' > </img>\nCreated in <span style='font-weight:600;margin-left:4px;'>Deepnote</span></a>",
      "metadata": {
        "created_in_deepnote_cell": true,
        "deepnote_cell_type": "markdown"
      }
    }
  ],
  "nbformat": 4,
  "nbformat_minor": 0,
  "metadata": {
    "colab": {
      "name": "Pandas_Exercises",
      "provenance": [],
      "collapsed_sections": []
    },
    "deepnote": {},
    "kernelspec": {
      "name": "python3",
      "language": "python",
      "display_name": "Python 3"
    },
    "language_info": {
      "name": "python",
      "version": "3.7.3",
      "mimetype": "text/x-python",
      "file_extension": ".py",
      "pygments_lexer": "ipython3",
      "codemirror_mode": {
        "name": "ipython",
        "version": 3
      },
      "nbconvert_exporter": "python"
    },
    "deepnote_notebook_id": "f5c5f766b96d42dcb9610d9ce488ec69",
    "deepnote_execution_queue": []
  }
}