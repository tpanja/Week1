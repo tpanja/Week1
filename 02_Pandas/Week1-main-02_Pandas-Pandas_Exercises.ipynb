{
  "cells": [
    {
      "cell_type": "markdown",
      "source": "# Pandas Exercises",
      "metadata": {
        "id": "bSU6eKZTdMXZ",
        "colab_type": "text",
        "cell_id": "ad7b825a2ef747bca8d133f75448a72e",
        "deepnote_cell_type": "markdown"
      }
    },
    {
      "cell_type": "code",
      "source": "import pandas as pd\nimport numpy as np\n\nurl = \"https://raw.githubusercontent.com/BeaverWorksMedlytics2020/Data_Public/master/NotebookExampleData/Week1/diabetes.csv\"\nnames = ['preg', 'plas', 'pres', 'skin', 'test', 'mass', 'pedi', 'age', 'class']",
      "metadata": {
        "id": "c5ewTg7vdQFm",
        "colab": {},
        "colab_type": "code",
        "source_hash": "20075735",
        "execution_start": 1689099101265,
        "execution_millis": 50,
        "deepnote_to_be_reexecuted": false,
        "cell_id": "ff90c84dae404427afc117486ea9afcd",
        "deepnote_cell_type": "code"
      },
      "outputs": [],
      "execution_count": 1
    },
    {
      "cell_type": "markdown",
      "source": "Read in csv above to a pandas dataframe",
      "metadata": {
        "id": "QOLgFaSKeShR",
        "colab_type": "text",
        "cell_id": "4780584e7e91441889f593488ef037e8",
        "deepnote_cell_type": "markdown"
      }
    },
    {
      "cell_type": "code",
      "source": "df = pd.read_csv(url, names=names)\ndf.head()",
      "metadata": {
        "id": "Okcb8dnXeX2C",
        "colab": {},
        "colab_type": "code",
        "source_hash": "61add1c",
        "execution_start": 1689099101308,
        "execution_millis": 669,
        "deepnote_to_be_reexecuted": false,
        "cell_id": "e6b538a3a5304b26be65bad332eea36d",
        "deepnote_cell_type": "code"
      },
      "outputs": [
        {
          "output_type": "execute_result",
          "execution_count": 2,
          "data": {
            "application/vnd.deepnote.dataframe.v3+json": {
              "column_count": 9,
              "row_count": 5,
              "columns": [
                {
                  "name": "preg",
                  "dtype": "int64",
                  "stats": {
                    "unique_count": 4,
                    "nan_count": 0,
                    "min": "0",
                    "max": "8",
                    "histogram": [
                      {
                        "bin_start": 0,
                        "bin_end": 0.8,
                        "count": 1
                      },
                      {
                        "bin_start": 0.8,
                        "bin_end": 1.6,
                        "count": 2
                      },
                      {
                        "bin_start": 1.6,
                        "bin_end": 2.4000000000000004,
                        "count": 0
                      },
                      {
                        "bin_start": 2.4000000000000004,
                        "bin_end": 3.2,
                        "count": 0
                      },
                      {
                        "bin_start": 3.2,
                        "bin_end": 4,
                        "count": 0
                      },
                      {
                        "bin_start": 4,
                        "bin_end": 4.800000000000001,
                        "count": 0
                      },
                      {
                        "bin_start": 4.800000000000001,
                        "bin_end": 5.6000000000000005,
                        "count": 0
                      },
                      {
                        "bin_start": 5.6000000000000005,
                        "bin_end": 6.4,
                        "count": 1
                      },
                      {
                        "bin_start": 6.4,
                        "bin_end": 7.2,
                        "count": 0
                      },
                      {
                        "bin_start": 7.2,
                        "bin_end": 8,
                        "count": 1
                      }
                    ]
                  }
                },
                {
                  "name": "plas",
                  "dtype": "int64",
                  "stats": {
                    "unique_count": 5,
                    "nan_count": 0,
                    "min": "85",
                    "max": "183",
                    "histogram": [
                      {
                        "bin_start": 85,
                        "bin_end": 94.8,
                        "count": 2
                      },
                      {
                        "bin_start": 94.8,
                        "bin_end": 104.6,
                        "count": 0
                      },
                      {
                        "bin_start": 104.6,
                        "bin_end": 114.4,
                        "count": 0
                      },
                      {
                        "bin_start": 114.4,
                        "bin_end": 124.2,
                        "count": 0
                      },
                      {
                        "bin_start": 124.2,
                        "bin_end": 134,
                        "count": 0
                      },
                      {
                        "bin_start": 134,
                        "bin_end": 143.8,
                        "count": 1
                      },
                      {
                        "bin_start": 143.8,
                        "bin_end": 153.60000000000002,
                        "count": 1
                      },
                      {
                        "bin_start": 153.60000000000002,
                        "bin_end": 163.4,
                        "count": 0
                      },
                      {
                        "bin_start": 163.4,
                        "bin_end": 173.2,
                        "count": 0
                      },
                      {
                        "bin_start": 173.2,
                        "bin_end": 183,
                        "count": 1
                      }
                    ]
                  }
                },
                {
                  "name": "pres",
                  "dtype": "int64",
                  "stats": {
                    "unique_count": 4,
                    "nan_count": 0,
                    "min": "40",
                    "max": "72",
                    "histogram": [
                      {
                        "bin_start": 40,
                        "bin_end": 43.2,
                        "count": 1
                      },
                      {
                        "bin_start": 43.2,
                        "bin_end": 46.4,
                        "count": 0
                      },
                      {
                        "bin_start": 46.4,
                        "bin_end": 49.6,
                        "count": 0
                      },
                      {
                        "bin_start": 49.6,
                        "bin_end": 52.8,
                        "count": 0
                      },
                      {
                        "bin_start": 52.8,
                        "bin_end": 56,
                        "count": 0
                      },
                      {
                        "bin_start": 56,
                        "bin_end": 59.2,
                        "count": 0
                      },
                      {
                        "bin_start": 59.2,
                        "bin_end": 62.400000000000006,
                        "count": 0
                      },
                      {
                        "bin_start": 62.400000000000006,
                        "bin_end": 65.6,
                        "count": 1
                      },
                      {
                        "bin_start": 65.6,
                        "bin_end": 68.8,
                        "count": 2
                      },
                      {
                        "bin_start": 68.8,
                        "bin_end": 72,
                        "count": 1
                      }
                    ]
                  }
                },
                {
                  "name": "skin",
                  "dtype": "int64",
                  "stats": {
                    "unique_count": 4,
                    "nan_count": 0,
                    "min": "0",
                    "max": "35",
                    "histogram": [
                      {
                        "bin_start": 0,
                        "bin_end": 3.5,
                        "count": 1
                      },
                      {
                        "bin_start": 3.5,
                        "bin_end": 7,
                        "count": 0
                      },
                      {
                        "bin_start": 7,
                        "bin_end": 10.5,
                        "count": 0
                      },
                      {
                        "bin_start": 10.5,
                        "bin_end": 14,
                        "count": 0
                      },
                      {
                        "bin_start": 14,
                        "bin_end": 17.5,
                        "count": 0
                      },
                      {
                        "bin_start": 17.5,
                        "bin_end": 21,
                        "count": 0
                      },
                      {
                        "bin_start": 21,
                        "bin_end": 24.5,
                        "count": 1
                      },
                      {
                        "bin_start": 24.5,
                        "bin_end": 28,
                        "count": 0
                      },
                      {
                        "bin_start": 28,
                        "bin_end": 31.5,
                        "count": 1
                      },
                      {
                        "bin_start": 31.5,
                        "bin_end": 35,
                        "count": 2
                      }
                    ]
                  }
                },
                {
                  "name": "test",
                  "dtype": "int64",
                  "stats": {
                    "unique_count": 3,
                    "nan_count": 0,
                    "min": "0",
                    "max": "168",
                    "histogram": [
                      {
                        "bin_start": 0,
                        "bin_end": 16.8,
                        "count": 3
                      },
                      {
                        "bin_start": 16.8,
                        "bin_end": 33.6,
                        "count": 0
                      },
                      {
                        "bin_start": 33.6,
                        "bin_end": 50.400000000000006,
                        "count": 0
                      },
                      {
                        "bin_start": 50.400000000000006,
                        "bin_end": 67.2,
                        "count": 0
                      },
                      {
                        "bin_start": 67.2,
                        "bin_end": 84,
                        "count": 0
                      },
                      {
                        "bin_start": 84,
                        "bin_end": 100.80000000000001,
                        "count": 1
                      },
                      {
                        "bin_start": 100.80000000000001,
                        "bin_end": 117.60000000000001,
                        "count": 0
                      },
                      {
                        "bin_start": 117.60000000000001,
                        "bin_end": 134.4,
                        "count": 0
                      },
                      {
                        "bin_start": 134.4,
                        "bin_end": 151.20000000000002,
                        "count": 0
                      },
                      {
                        "bin_start": 151.20000000000002,
                        "bin_end": 168,
                        "count": 1
                      }
                    ]
                  }
                },
                {
                  "name": "mass",
                  "dtype": "float64",
                  "stats": {
                    "unique_count": 5,
                    "nan_count": 0,
                    "min": "23.3",
                    "max": "43.1",
                    "histogram": [
                      {
                        "bin_start": 23.3,
                        "bin_end": 25.28,
                        "count": 1
                      },
                      {
                        "bin_start": 25.28,
                        "bin_end": 27.26,
                        "count": 1
                      },
                      {
                        "bin_start": 27.26,
                        "bin_end": 29.240000000000002,
                        "count": 1
                      },
                      {
                        "bin_start": 29.240000000000002,
                        "bin_end": 31.22,
                        "count": 0
                      },
                      {
                        "bin_start": 31.22,
                        "bin_end": 33.2,
                        "count": 0
                      },
                      {
                        "bin_start": 33.2,
                        "bin_end": 35.18,
                        "count": 1
                      },
                      {
                        "bin_start": 35.18,
                        "bin_end": 37.16,
                        "count": 0
                      },
                      {
                        "bin_start": 37.16,
                        "bin_end": 39.14,
                        "count": 0
                      },
                      {
                        "bin_start": 39.14,
                        "bin_end": 41.120000000000005,
                        "count": 0
                      },
                      {
                        "bin_start": 41.120000000000005,
                        "bin_end": 43.1,
                        "count": 1
                      }
                    ]
                  }
                },
                {
                  "name": "pedi",
                  "dtype": "float64",
                  "stats": {
                    "unique_count": 5,
                    "nan_count": 0,
                    "min": "0.167",
                    "max": "2.288",
                    "histogram": [
                      {
                        "bin_start": 0.167,
                        "bin_end": 0.3791,
                        "count": 2
                      },
                      {
                        "bin_start": 0.3791,
                        "bin_end": 0.5912000000000001,
                        "count": 0
                      },
                      {
                        "bin_start": 0.5912000000000001,
                        "bin_end": 0.8033000000000001,
                        "count": 2
                      },
                      {
                        "bin_start": 0.8033000000000001,
                        "bin_end": 1.0154,
                        "count": 0
                      },
                      {
                        "bin_start": 1.0154,
                        "bin_end": 1.2275,
                        "count": 0
                      },
                      {
                        "bin_start": 1.2275,
                        "bin_end": 1.4396000000000002,
                        "count": 0
                      },
                      {
                        "bin_start": 1.4396000000000002,
                        "bin_end": 1.6517000000000002,
                        "count": 0
                      },
                      {
                        "bin_start": 1.6517000000000002,
                        "bin_end": 1.8638000000000001,
                        "count": 0
                      },
                      {
                        "bin_start": 1.8638000000000001,
                        "bin_end": 2.0759,
                        "count": 0
                      },
                      {
                        "bin_start": 2.0759,
                        "bin_end": 2.288,
                        "count": 1
                      }
                    ]
                  }
                },
                {
                  "name": "age",
                  "dtype": "int64",
                  "stats": {
                    "unique_count": 5,
                    "nan_count": 0,
                    "min": "21",
                    "max": "50",
                    "histogram": [
                      {
                        "bin_start": 21,
                        "bin_end": 23.9,
                        "count": 1
                      },
                      {
                        "bin_start": 23.9,
                        "bin_end": 26.8,
                        "count": 0
                      },
                      {
                        "bin_start": 26.8,
                        "bin_end": 29.7,
                        "count": 0
                      },
                      {
                        "bin_start": 29.7,
                        "bin_end": 32.6,
                        "count": 2
                      },
                      {
                        "bin_start": 32.6,
                        "bin_end": 35.5,
                        "count": 1
                      },
                      {
                        "bin_start": 35.5,
                        "bin_end": 38.4,
                        "count": 0
                      },
                      {
                        "bin_start": 38.4,
                        "bin_end": 41.3,
                        "count": 0
                      },
                      {
                        "bin_start": 41.3,
                        "bin_end": 44.2,
                        "count": 0
                      },
                      {
                        "bin_start": 44.2,
                        "bin_end": 47.099999999999994,
                        "count": 0
                      },
                      {
                        "bin_start": 47.099999999999994,
                        "bin_end": 50,
                        "count": 1
                      }
                    ]
                  }
                },
                {
                  "name": "class",
                  "dtype": "int64",
                  "stats": {
                    "unique_count": 2,
                    "nan_count": 0,
                    "min": "0",
                    "max": "1",
                    "histogram": [
                      {
                        "bin_start": 0,
                        "bin_end": 0.1,
                        "count": 2
                      },
                      {
                        "bin_start": 0.1,
                        "bin_end": 0.2,
                        "count": 0
                      },
                      {
                        "bin_start": 0.2,
                        "bin_end": 0.30000000000000004,
                        "count": 0
                      },
                      {
                        "bin_start": 0.30000000000000004,
                        "bin_end": 0.4,
                        "count": 0
                      },
                      {
                        "bin_start": 0.4,
                        "bin_end": 0.5,
                        "count": 0
                      },
                      {
                        "bin_start": 0.5,
                        "bin_end": 0.6000000000000001,
                        "count": 0
                      },
                      {
                        "bin_start": 0.6000000000000001,
                        "bin_end": 0.7000000000000001,
                        "count": 0
                      },
                      {
                        "bin_start": 0.7000000000000001,
                        "bin_end": 0.8,
                        "count": 0
                      },
                      {
                        "bin_start": 0.8,
                        "bin_end": 0.9,
                        "count": 0
                      },
                      {
                        "bin_start": 0.9,
                        "bin_end": 1,
                        "count": 3
                      }
                    ]
                  }
                },
                {
                  "name": "_deepnote_index_column",
                  "dtype": "int64"
                }
              ],
              "rows": [
                {
                  "preg": 6,
                  "plas": 148,
                  "pres": 72,
                  "skin": 35,
                  "test": 0,
                  "mass": 33.6,
                  "pedi": 0.627,
                  "age": 50,
                  "class": 1,
                  "_deepnote_index_column": 0
                },
                {
                  "preg": 1,
                  "plas": 85,
                  "pres": 66,
                  "skin": 29,
                  "test": 0,
                  "mass": 26.6,
                  "pedi": 0.351,
                  "age": 31,
                  "class": 0,
                  "_deepnote_index_column": 1
                },
                {
                  "preg": 8,
                  "plas": 183,
                  "pres": 64,
                  "skin": 0,
                  "test": 0,
                  "mass": 23.3,
                  "pedi": 0.672,
                  "age": 32,
                  "class": 1,
                  "_deepnote_index_column": 2
                },
                {
                  "preg": 1,
                  "plas": 89,
                  "pres": 66,
                  "skin": 23,
                  "test": 94,
                  "mass": 28.1,
                  "pedi": 0.167,
                  "age": 21,
                  "class": 0,
                  "_deepnote_index_column": 3
                },
                {
                  "preg": 0,
                  "plas": 137,
                  "pres": 40,
                  "skin": 35,
                  "test": 168,
                  "mass": 43.1,
                  "pedi": 2.288,
                  "age": 33,
                  "class": 1,
                  "_deepnote_index_column": 4
                }
              ]
            },
            "text/plain": "   preg  plas  pres  skin  test  mass   pedi  age  class\n0     6   148    72    35     0  33.6  0.627   50      1\n1     1    85    66    29     0  26.6  0.351   31      0\n2     8   183    64     0     0  23.3  0.672   32      1\n3     1    89    66    23    94  28.1  0.167   21      0\n4     0   137    40    35   168  43.1  2.288   33      1",
            "text/html": "<div>\n<style scoped>\n    .dataframe tbody tr th:only-of-type {\n        vertical-align: middle;\n    }\n\n    .dataframe tbody tr th {\n        vertical-align: top;\n    }\n\n    .dataframe thead th {\n        text-align: right;\n    }\n</style>\n<table border=\"1\" class=\"dataframe\">\n  <thead>\n    <tr style=\"text-align: right;\">\n      <th></th>\n      <th>preg</th>\n      <th>plas</th>\n      <th>pres</th>\n      <th>skin</th>\n      <th>test</th>\n      <th>mass</th>\n      <th>pedi</th>\n      <th>age</th>\n      <th>class</th>\n    </tr>\n  </thead>\n  <tbody>\n    <tr>\n      <th>0</th>\n      <td>6</td>\n      <td>148</td>\n      <td>72</td>\n      <td>35</td>\n      <td>0</td>\n      <td>33.6</td>\n      <td>0.627</td>\n      <td>50</td>\n      <td>1</td>\n    </tr>\n    <tr>\n      <th>1</th>\n      <td>1</td>\n      <td>85</td>\n      <td>66</td>\n      <td>29</td>\n      <td>0</td>\n      <td>26.6</td>\n      <td>0.351</td>\n      <td>31</td>\n      <td>0</td>\n    </tr>\n    <tr>\n      <th>2</th>\n      <td>8</td>\n      <td>183</td>\n      <td>64</td>\n      <td>0</td>\n      <td>0</td>\n      <td>23.3</td>\n      <td>0.672</td>\n      <td>32</td>\n      <td>1</td>\n    </tr>\n    <tr>\n      <th>3</th>\n      <td>1</td>\n      <td>89</td>\n      <td>66</td>\n      <td>23</td>\n      <td>94</td>\n      <td>28.1</td>\n      <td>0.167</td>\n      <td>21</td>\n      <td>0</td>\n    </tr>\n    <tr>\n      <th>4</th>\n      <td>0</td>\n      <td>137</td>\n      <td>40</td>\n      <td>35</td>\n      <td>168</td>\n      <td>43.1</td>\n      <td>2.288</td>\n      <td>33</td>\n      <td>1</td>\n    </tr>\n  </tbody>\n</table>\n</div>"
          },
          "metadata": {}
        }
      ],
      "execution_count": 2
    },
    {
      "cell_type": "markdown",
      "source": "Print out the age and class of the 100th patient",
      "metadata": {
        "id": "d4DyOsuoewE2",
        "colab_type": "text",
        "cell_id": "544e51e858d2427b9bc11e75954886c5",
        "deepnote_cell_type": "markdown"
      }
    },
    {
      "cell_type": "code",
      "source": "df.iloc[100][[\"age\", \"class\"]]\nprint(\"Age of 100th patient: \", df.iloc[100][\"age\"])\nprint(\"Class of 100th patient: \", df.iloc[100][\"class\"])",
      "metadata": {
        "id": "xZqBsg39eY8_",
        "colab": {},
        "colab_type": "code",
        "source_hash": "e9e36cd0",
        "execution_start": 1689099101346,
        "execution_millis": 145,
        "deepnote_to_be_reexecuted": false,
        "cell_id": "d4056a8d0f4547068284763c91e68d19",
        "deepnote_cell_type": "code"
      },
      "outputs": [
        {
          "name": "stdout",
          "text": "Age of 100th patient:  33.0\nClass of 100th patient:  1.0\n",
          "output_type": "stream"
        }
      ],
      "execution_count": 3
    },
    {
      "cell_type": "markdown",
      "source": "Write code to figure out how many people are classified as not having diabetes, class is 0",
      "metadata": {
        "id": "j8L2EM-5iOWc",
        "colab_type": "text",
        "cell_id": "d48813eba12c4f73bc2a9ee6cfdd43a7",
        "deepnote_cell_type": "markdown"
      }
    },
    {
      "cell_type": "code",
      "source": "print(\"People without diabetes: \", len(df[df['class']==0]))",
      "metadata": {
        "id": "vohzS51WiWvD",
        "colab": {},
        "colab_type": "code",
        "source_hash": "7334c7b7",
        "execution_start": 1689099101392,
        "execution_millis": 21,
        "deepnote_to_be_reexecuted": false,
        "cell_id": "45622a5227a8415b810a04fc432416cc",
        "deepnote_cell_type": "code"
      },
      "outputs": [
        {
          "name": "stdout",
          "text": "People without diabetes:  500\n",
          "output_type": "stream"
        }
      ],
      "execution_count": 4
    },
    {
      "cell_type": "markdown",
      "source": "Write code to figure out how many people are classified as having diabetes, class is 1",
      "metadata": {
        "id": "ieGRz4iiiX4E",
        "colab_type": "text",
        "cell_id": "19e3fb8071d4406598ac1eaf03104f26",
        "deepnote_cell_type": "markdown"
      }
    },
    {
      "cell_type": "code",
      "source": "print(\"People with diabetes: \", len(df[df['class']==1]))",
      "metadata": {
        "id": "-jq2O-vriXRT",
        "colab": {},
        "colab_type": "code",
        "source_hash": "cca85159",
        "execution_start": 1689099101393,
        "execution_millis": 4,
        "deepnote_to_be_reexecuted": false,
        "cell_id": "86c0ab5500714b6e8cf16ebcea98eff7",
        "deepnote_cell_type": "code"
      },
      "outputs": [
        {
          "name": "stdout",
          "text": "People with diabetes:  268\n",
          "output_type": "stream"
        }
      ],
      "execution_count": 5
    },
    {
      "cell_type": "markdown",
      "source": "What percent of people have diabetes in the study",
      "metadata": {
        "id": "oeFT7T9OnuSd",
        "colab_type": "text",
        "cell_id": "bf10e7846fd1416db24b21694a1dea4f",
        "deepnote_cell_type": "markdown"
      }
    },
    {
      "cell_type": "code",
      "source": "print(\"Percent with diabetes: \", len(df[df['class']==1])/len(df))",
      "metadata": {
        "id": "zGGHptFYnwq0",
        "colab": {},
        "colab_type": "code",
        "source_hash": "b070227a",
        "execution_start": 1689099101393,
        "execution_millis": 192,
        "deepnote_to_be_reexecuted": false,
        "cell_id": "441c7cc09d7c4f8687cc1c1088e8ff0d",
        "deepnote_cell_type": "code"
      },
      "outputs": [
        {
          "name": "stdout",
          "text": "Percent with diabetes:  0.3489583333333333\n",
          "output_type": "stream"
        }
      ],
      "execution_count": 6
    },
    {
      "cell_type": "markdown",
      "source": "Print out the `\"pres\"` and `\"class\"` (no other columns) for the first 5 people",
      "metadata": {
        "id": "nbrjnRPafs0p",
        "colab_type": "text",
        "cell_id": "81dd41a92c94400c94f3e27e9e957d86",
        "deepnote_cell_type": "markdown"
      }
    },
    {
      "cell_type": "code",
      "source": "df[[\"pres\", \"class\"]].head()",
      "metadata": {
        "id": "GiNCJ19KfHJQ",
        "colab": {},
        "colab_type": "code",
        "source_hash": "eaf6733e",
        "execution_start": 1689099101436,
        "execution_millis": 10,
        "deepnote_table_state": {
          "sortBy": [],
          "filters": [],
          "pageSize": 25,
          "pageIndex": 0
        },
        "deepnote_table_loading": false,
        "deepnote_to_be_reexecuted": false,
        "cell_id": "b434bec32a264488bca862fd9584139b",
        "deepnote_cell_type": "code"
      },
      "outputs": [
        {
          "output_type": "execute_result",
          "execution_count": 7,
          "data": {
            "application/vnd.deepnote.dataframe.v3+json": {
              "column_count": 2,
              "row_count": 5,
              "columns": [
                {
                  "name": "pres",
                  "dtype": "int64",
                  "stats": {
                    "unique_count": 4,
                    "nan_count": 0,
                    "min": "40",
                    "max": "72",
                    "histogram": [
                      {
                        "bin_start": 40,
                        "bin_end": 43.2,
                        "count": 1
                      },
                      {
                        "bin_start": 43.2,
                        "bin_end": 46.4,
                        "count": 0
                      },
                      {
                        "bin_start": 46.4,
                        "bin_end": 49.6,
                        "count": 0
                      },
                      {
                        "bin_start": 49.6,
                        "bin_end": 52.8,
                        "count": 0
                      },
                      {
                        "bin_start": 52.8,
                        "bin_end": 56,
                        "count": 0
                      },
                      {
                        "bin_start": 56,
                        "bin_end": 59.2,
                        "count": 0
                      },
                      {
                        "bin_start": 59.2,
                        "bin_end": 62.400000000000006,
                        "count": 0
                      },
                      {
                        "bin_start": 62.400000000000006,
                        "bin_end": 65.6,
                        "count": 1
                      },
                      {
                        "bin_start": 65.6,
                        "bin_end": 68.8,
                        "count": 2
                      },
                      {
                        "bin_start": 68.8,
                        "bin_end": 72,
                        "count": 1
                      }
                    ]
                  }
                },
                {
                  "name": "class",
                  "dtype": "int64",
                  "stats": {
                    "unique_count": 2,
                    "nan_count": 0,
                    "min": "0",
                    "max": "1",
                    "histogram": [
                      {
                        "bin_start": 0,
                        "bin_end": 0.1,
                        "count": 2
                      },
                      {
                        "bin_start": 0.1,
                        "bin_end": 0.2,
                        "count": 0
                      },
                      {
                        "bin_start": 0.2,
                        "bin_end": 0.30000000000000004,
                        "count": 0
                      },
                      {
                        "bin_start": 0.30000000000000004,
                        "bin_end": 0.4,
                        "count": 0
                      },
                      {
                        "bin_start": 0.4,
                        "bin_end": 0.5,
                        "count": 0
                      },
                      {
                        "bin_start": 0.5,
                        "bin_end": 0.6000000000000001,
                        "count": 0
                      },
                      {
                        "bin_start": 0.6000000000000001,
                        "bin_end": 0.7000000000000001,
                        "count": 0
                      },
                      {
                        "bin_start": 0.7000000000000001,
                        "bin_end": 0.8,
                        "count": 0
                      },
                      {
                        "bin_start": 0.8,
                        "bin_end": 0.9,
                        "count": 0
                      },
                      {
                        "bin_start": 0.9,
                        "bin_end": 1,
                        "count": 3
                      }
                    ]
                  }
                },
                {
                  "name": "_deepnote_index_column",
                  "dtype": "int64"
                }
              ],
              "rows": [
                {
                  "pres": 72,
                  "class": 1,
                  "_deepnote_index_column": 0
                },
                {
                  "pres": 66,
                  "class": 0,
                  "_deepnote_index_column": 1
                },
                {
                  "pres": 64,
                  "class": 1,
                  "_deepnote_index_column": 2
                },
                {
                  "pres": 66,
                  "class": 0,
                  "_deepnote_index_column": 3
                },
                {
                  "pres": 40,
                  "class": 1,
                  "_deepnote_index_column": 4
                }
              ]
            },
            "text/plain": "   pres  class\n0    72      1\n1    66      0\n2    64      1\n3    66      0\n4    40      1",
            "text/html": "<div>\n<style scoped>\n    .dataframe tbody tr th:only-of-type {\n        vertical-align: middle;\n    }\n\n    .dataframe tbody tr th {\n        vertical-align: top;\n    }\n\n    .dataframe thead th {\n        text-align: right;\n    }\n</style>\n<table border=\"1\" class=\"dataframe\">\n  <thead>\n    <tr style=\"text-align: right;\">\n      <th></th>\n      <th>pres</th>\n      <th>class</th>\n    </tr>\n  </thead>\n  <tbody>\n    <tr>\n      <th>0</th>\n      <td>72</td>\n      <td>1</td>\n    </tr>\n    <tr>\n      <th>1</th>\n      <td>66</td>\n      <td>0</td>\n    </tr>\n    <tr>\n      <th>2</th>\n      <td>64</td>\n      <td>1</td>\n    </tr>\n    <tr>\n      <th>3</th>\n      <td>66</td>\n      <td>0</td>\n    </tr>\n    <tr>\n      <th>4</th>\n      <td>40</td>\n      <td>1</td>\n    </tr>\n  </tbody>\n</table>\n</div>"
          },
          "metadata": {}
        }
      ],
      "execution_count": 7
    },
    {
      "cell_type": "markdown",
      "source": "Run the cell below, it will print out the correlation among the columns",
      "metadata": {
        "id": "O-CcsoqlhxUn",
        "colab_type": "text",
        "cell_id": "bf28ab40b42946cbb9b11929b4978047",
        "deepnote_cell_type": "markdown"
      }
    },
    {
      "cell_type": "code",
      "source": "df.corr()",
      "metadata": {
        "source_hash": "f8453a83",
        "execution_start": 1689099101470,
        "execution_millis": 539,
        "deepnote_to_be_reexecuted": false,
        "cell_id": "fcafcc240d1e4399bbbe6e06040b192d",
        "deepnote_cell_type": "code"
      },
      "outputs": [
        {
          "output_type": "execute_result",
          "execution_count": 8,
          "data": {
            "application/vnd.deepnote.dataframe.v3+json": {
              "column_count": 9,
              "row_count": 9,
              "columns": [
                {
                  "name": "preg",
                  "dtype": "float64",
                  "stats": {
                    "unique_count": 9,
                    "nan_count": 0,
                    "min": "-0.08167177444900726",
                    "max": "1.0",
                    "histogram": [
                      {
                        "bin_start": -0.08167177444900726,
                        "bin_end": 0.026495402995893452,
                        "count": 4
                      },
                      {
                        "bin_start": 0.026495402995893452,
                        "bin_end": 0.13466258044079416,
                        "count": 1
                      },
                      {
                        "bin_start": 0.13466258044079416,
                        "bin_end": 0.24282975788569489,
                        "count": 2
                      },
                      {
                        "bin_start": 0.24282975788569489,
                        "bin_end": 0.3509969353305956,
                        "count": 0
                      },
                      {
                        "bin_start": 0.3509969353305956,
                        "bin_end": 0.45916411277549635,
                        "count": 0
                      },
                      {
                        "bin_start": 0.45916411277549635,
                        "bin_end": 0.567331290220397,
                        "count": 1
                      },
                      {
                        "bin_start": 0.567331290220397,
                        "bin_end": 0.6754984676652978,
                        "count": 0
                      },
                      {
                        "bin_start": 0.6754984676652978,
                        "bin_end": 0.7836656451101984,
                        "count": 0
                      },
                      {
                        "bin_start": 0.7836656451101984,
                        "bin_end": 0.8918328225550991,
                        "count": 0
                      },
                      {
                        "bin_start": 0.8918328225550991,
                        "bin_end": 1,
                        "count": 1
                      }
                    ]
                  }
                },
                {
                  "name": "plas",
                  "dtype": "float64",
                  "stats": {
                    "unique_count": 9,
                    "nan_count": 0,
                    "min": "0.05732789073817692",
                    "max": "1.0",
                    "histogram": [
                      {
                        "bin_start": 0.05732789073817692,
                        "bin_end": 0.15159510166435924,
                        "count": 3
                      },
                      {
                        "bin_start": 0.15159510166435924,
                        "bin_end": 0.24586231259054156,
                        "count": 2
                      },
                      {
                        "bin_start": 0.24586231259054156,
                        "bin_end": 0.3401295235167239,
                        "count": 2
                      },
                      {
                        "bin_start": 0.3401295235167239,
                        "bin_end": 0.43439673444290616,
                        "count": 0
                      },
                      {
                        "bin_start": 0.43439673444290616,
                        "bin_end": 0.5286639453690885,
                        "count": 1
                      },
                      {
                        "bin_start": 0.5286639453690885,
                        "bin_end": 0.6229311562952708,
                        "count": 0
                      },
                      {
                        "bin_start": 0.6229311562952708,
                        "bin_end": 0.7171983672214531,
                        "count": 0
                      },
                      {
                        "bin_start": 0.7171983672214531,
                        "bin_end": 0.8114655781476354,
                        "count": 0
                      },
                      {
                        "bin_start": 0.8114655781476354,
                        "bin_end": 0.9057327890738177,
                        "count": 0
                      },
                      {
                        "bin_start": 0.9057327890738177,
                        "bin_end": 1,
                        "count": 1
                      }
                    ]
                  }
                },
                {
                  "name": "pres",
                  "dtype": "float64",
                  "stats": {
                    "unique_count": 9,
                    "nan_count": 0,
                    "min": "0.04126494793009856",
                    "max": "1.0",
                    "histogram": [
                      {
                        "bin_start": 0.04126494793009856,
                        "bin_end": 0.1371384531370887,
                        "count": 3
                      },
                      {
                        "bin_start": 0.1371384531370887,
                        "bin_end": 0.23301195834407884,
                        "count": 3
                      },
                      {
                        "bin_start": 0.23301195834407884,
                        "bin_end": 0.328885463551069,
                        "count": 2
                      },
                      {
                        "bin_start": 0.328885463551069,
                        "bin_end": 0.42475896875805913,
                        "count": 0
                      },
                      {
                        "bin_start": 0.42475896875805913,
                        "bin_end": 0.5206324739650493,
                        "count": 0
                      },
                      {
                        "bin_start": 0.5206324739650493,
                        "bin_end": 0.6165059791720395,
                        "count": 0
                      },
                      {
                        "bin_start": 0.6165059791720395,
                        "bin_end": 0.7123794843790296,
                        "count": 0
                      },
                      {
                        "bin_start": 0.7123794843790296,
                        "bin_end": 0.8082529895860198,
                        "count": 0
                      },
                      {
                        "bin_start": 0.8082529895860198,
                        "bin_end": 0.9041264947930099,
                        "count": 0
                      },
                      {
                        "bin_start": 0.9041264947930099,
                        "bin_end": 1,
                        "count": 1
                      }
                    ]
                  }
                },
                {
                  "name": "skin",
                  "dtype": "float64",
                  "stats": {
                    "unique_count": 9,
                    "nan_count": 0,
                    "min": "-0.11397026236774152",
                    "max": "1.0",
                    "histogram": [
                      {
                        "bin_start": -0.11397026236774152,
                        "bin_end": -0.0025732361309673824,
                        "count": 2
                      },
                      {
                        "bin_start": -0.0025732361309673824,
                        "bin_end": 0.10882379010580676,
                        "count": 2
                      },
                      {
                        "bin_start": 0.10882379010580676,
                        "bin_end": 0.22022081634258087,
                        "count": 2
                      },
                      {
                        "bin_start": 0.22022081634258087,
                        "bin_end": 0.331617842579355,
                        "count": 0
                      },
                      {
                        "bin_start": 0.331617842579355,
                        "bin_end": 0.44301486881612917,
                        "count": 2
                      },
                      {
                        "bin_start": 0.44301486881612917,
                        "bin_end": 0.5544118950529032,
                        "count": 0
                      },
                      {
                        "bin_start": 0.5544118950529032,
                        "bin_end": 0.6658089212896774,
                        "count": 0
                      },
                      {
                        "bin_start": 0.6658089212896774,
                        "bin_end": 0.7772059475264516,
                        "count": 0
                      },
                      {
                        "bin_start": 0.7772059475264516,
                        "bin_end": 0.8886029737632256,
                        "count": 0
                      },
                      {
                        "bin_start": 0.8886029737632256,
                        "bin_end": 1,
                        "count": 1
                      }
                    ]
                  }
                },
                {
                  "name": "test",
                  "dtype": "float64",
                  "stats": {
                    "unique_count": 9,
                    "nan_count": 0,
                    "min": "-0.07353461435162822",
                    "max": "1.0",
                    "histogram": [
                      {
                        "bin_start": -0.07353461435162822,
                        "bin_end": 0.033818847083534595,
                        "count": 2
                      },
                      {
                        "bin_start": 0.033818847083534595,
                        "bin_end": 0.14117230851869741,
                        "count": 2
                      },
                      {
                        "bin_start": 0.14117230851869741,
                        "bin_end": 0.24852576995386022,
                        "count": 2
                      },
                      {
                        "bin_start": 0.24852576995386022,
                        "bin_end": 0.35587923138902305,
                        "count": 1
                      },
                      {
                        "bin_start": 0.35587923138902305,
                        "bin_end": 0.4632326928241859,
                        "count": 1
                      },
                      {
                        "bin_start": 0.4632326928241859,
                        "bin_end": 0.5705861542593487,
                        "count": 0
                      },
                      {
                        "bin_start": 0.5705861542593487,
                        "bin_end": 0.6779396156945116,
                        "count": 0
                      },
                      {
                        "bin_start": 0.6779396156945116,
                        "bin_end": 0.7852930771296743,
                        "count": 0
                      },
                      {
                        "bin_start": 0.7852930771296743,
                        "bin_end": 0.8926465385648371,
                        "count": 0
                      },
                      {
                        "bin_start": 0.8926465385648371,
                        "bin_end": 1,
                        "count": 1
                      }
                    ]
                  }
                },
                {
                  "name": "mass",
                  "dtype": "float64",
                  "stats": {
                    "unique_count": 9,
                    "nan_count": 0,
                    "min": "0.017683090727830565",
                    "max": "1.0",
                    "histogram": [
                      {
                        "bin_start": 0.017683090727830565,
                        "bin_end": 0.11591478165504751,
                        "count": 2
                      },
                      {
                        "bin_start": 0.11591478165504751,
                        "bin_end": 0.21414647258226444,
                        "count": 2
                      },
                      {
                        "bin_start": 0.21414647258226444,
                        "bin_end": 0.3123781635094814,
                        "count": 3
                      },
                      {
                        "bin_start": 0.3123781635094814,
                        "bin_end": 0.41060985443669834,
                        "count": 1
                      },
                      {
                        "bin_start": 0.41060985443669834,
                        "bin_end": 0.5088415453639152,
                        "count": 0
                      },
                      {
                        "bin_start": 0.5088415453639152,
                        "bin_end": 0.6070732362911322,
                        "count": 0
                      },
                      {
                        "bin_start": 0.6070732362911322,
                        "bin_end": 0.7053049272183491,
                        "count": 0
                      },
                      {
                        "bin_start": 0.7053049272183491,
                        "bin_end": 0.8035366181455661,
                        "count": 0
                      },
                      {
                        "bin_start": 0.8035366181455661,
                        "bin_end": 0.901768309072783,
                        "count": 0
                      },
                      {
                        "bin_start": 0.901768309072783,
                        "bin_end": 1,
                        "count": 1
                      }
                    ]
                  }
                },
                {
                  "name": "pedi",
                  "dtype": "float64",
                  "stats": {
                    "unique_count": 9,
                    "nan_count": 0,
                    "min": "-0.03352267296261304",
                    "max": "1.0",
                    "histogram": [
                      {
                        "bin_start": -0.03352267296261304,
                        "bin_end": 0.06982959433364827,
                        "count": 3
                      },
                      {
                        "bin_start": 0.06982959433364827,
                        "bin_end": 0.17318186162990956,
                        "count": 2
                      },
                      {
                        "bin_start": 0.17318186162990956,
                        "bin_end": 0.2765341289261709,
                        "count": 3
                      },
                      {
                        "bin_start": 0.2765341289261709,
                        "bin_end": 0.3798863962224322,
                        "count": 0
                      },
                      {
                        "bin_start": 0.3798863962224322,
                        "bin_end": 0.4832386635186935,
                        "count": 0
                      },
                      {
                        "bin_start": 0.4832386635186935,
                        "bin_end": 0.5865909308149548,
                        "count": 0
                      },
                      {
                        "bin_start": 0.5865909308149548,
                        "bin_end": 0.6899431981112161,
                        "count": 0
                      },
                      {
                        "bin_start": 0.6899431981112161,
                        "bin_end": 0.7932954654074774,
                        "count": 0
                      },
                      {
                        "bin_start": 0.7932954654074774,
                        "bin_end": 0.8966477327037388,
                        "count": 0
                      },
                      {
                        "bin_start": 0.8966477327037388,
                        "bin_end": 1,
                        "count": 1
                      }
                    ]
                  }
                },
                {
                  "name": "age",
                  "dtype": "float64",
                  "stats": {
                    "unique_count": 9,
                    "nan_count": 0,
                    "min": "-0.11397026236774152",
                    "max": "1.0",
                    "histogram": [
                      {
                        "bin_start": -0.11397026236774152,
                        "bin_end": -0.0025732361309673824,
                        "count": 2
                      },
                      {
                        "bin_start": -0.0025732361309673824,
                        "bin_end": 0.10882379010580676,
                        "count": 2
                      },
                      {
                        "bin_start": 0.10882379010580676,
                        "bin_end": 0.22022081634258087,
                        "count": 0
                      },
                      {
                        "bin_start": 0.22022081634258087,
                        "bin_end": 0.331617842579355,
                        "count": 3
                      },
                      {
                        "bin_start": 0.331617842579355,
                        "bin_end": 0.44301486881612917,
                        "count": 0
                      },
                      {
                        "bin_start": 0.44301486881612917,
                        "bin_end": 0.5544118950529032,
                        "count": 1
                      },
                      {
                        "bin_start": 0.5544118950529032,
                        "bin_end": 0.6658089212896774,
                        "count": 0
                      },
                      {
                        "bin_start": 0.6658089212896774,
                        "bin_end": 0.7772059475264516,
                        "count": 0
                      },
                      {
                        "bin_start": 0.7772059475264516,
                        "bin_end": 0.8886029737632256,
                        "count": 0
                      },
                      {
                        "bin_start": 0.8886029737632256,
                        "bin_end": 1,
                        "count": 1
                      }
                    ]
                  }
                },
                {
                  "name": "class",
                  "dtype": "float64",
                  "stats": {
                    "unique_count": 9,
                    "nan_count": 0,
                    "min": "0.06506835955033277",
                    "max": "1.0",
                    "histogram": [
                      {
                        "bin_start": 0.06506835955033277,
                        "bin_end": 0.15856152359529951,
                        "count": 3
                      },
                      {
                        "bin_start": 0.15856152359529951,
                        "bin_end": 0.25205468764026623,
                        "count": 3
                      },
                      {
                        "bin_start": 0.25205468764026623,
                        "bin_end": 0.34554785168523294,
                        "count": 1
                      },
                      {
                        "bin_start": 0.34554785168523294,
                        "bin_end": 0.4390410157301997,
                        "count": 0
                      },
                      {
                        "bin_start": 0.4390410157301997,
                        "bin_end": 0.5325341797751664,
                        "count": 1
                      },
                      {
                        "bin_start": 0.5325341797751664,
                        "bin_end": 0.6260273438201331,
                        "count": 0
                      },
                      {
                        "bin_start": 0.6260273438201331,
                        "bin_end": 0.7195205078650998,
                        "count": 0
                      },
                      {
                        "bin_start": 0.7195205078650998,
                        "bin_end": 0.8130136719100666,
                        "count": 0
                      },
                      {
                        "bin_start": 0.8130136719100666,
                        "bin_end": 0.9065068359550333,
                        "count": 0
                      },
                      {
                        "bin_start": 0.9065068359550333,
                        "bin_end": 1,
                        "count": 1
                      }
                    ]
                  }
                },
                {
                  "name": "_deepnote_index_column",
                  "dtype": "object"
                }
              ],
              "rows": [
                {
                  "preg": 1,
                  "plas": 0.12945867149927248,
                  "pres": 0.14128197740713966,
                  "skin": -0.08167177444900726,
                  "test": -0.07353461435162822,
                  "mass": 0.017683090727830565,
                  "pedi": -0.03352267296261304,
                  "age": 0.5443412284023392,
                  "class": 0.22189815303398636,
                  "_deepnote_index_column": "preg"
                },
                {
                  "preg": 0.12945867149927248,
                  "plas": 1,
                  "pres": 0.1525895865686646,
                  "skin": 0.05732789073817692,
                  "test": 0.3313571099202092,
                  "mass": 0.2210710694589828,
                  "pedi": 0.13733729982837092,
                  "age": 0.26351431982433343,
                  "class": 0.46658139830687373,
                  "_deepnote_index_column": "plas"
                },
                {
                  "preg": 0.14128197740713966,
                  "plas": 0.1525895865686646,
                  "pres": 1,
                  "skin": 0.2073705384030709,
                  "test": 0.08893337837319314,
                  "mass": 0.2818052888499109,
                  "pedi": 0.04126494793009856,
                  "age": 0.23952794642136344,
                  "class": 0.06506835955033277,
                  "_deepnote_index_column": "pres"
                },
                {
                  "preg": -0.08167177444900726,
                  "plas": 0.05732789073817692,
                  "pres": 0.2073705384030709,
                  "skin": 1,
                  "test": 0.43678257012001326,
                  "mass": 0.39257320415903835,
                  "pedi": 0.1839275729541631,
                  "age": -0.11397026236774152,
                  "class": 0.07475223191831946,
                  "_deepnote_index_column": "skin"
                },
                {
                  "preg": -0.07353461435162822,
                  "plas": 0.3313571099202092,
                  "pres": 0.08893337837319314,
                  "skin": 0.43678257012001326,
                  "test": 1,
                  "mass": 0.19785905649310145,
                  "pedi": 0.1850709291680993,
                  "age": -0.04216295473537695,
                  "class": 0.13054795488404794,
                  "_deepnote_index_column": "test"
                },
                {
                  "preg": 0.017683090727830565,
                  "plas": 0.2210710694589828,
                  "pres": 0.2818052888499109,
                  "skin": 0.39257320415903835,
                  "test": 0.19785905649310145,
                  "mass": 1,
                  "pedi": 0.14064695254510523,
                  "age": 0.03624187009229395,
                  "class": 0.2926946626444454,
                  "_deepnote_index_column": "mass"
                },
                {
                  "preg": -0.03352267296261304,
                  "plas": 0.13733729982837092,
                  "pres": 0.04126494793009856,
                  "skin": 0.1839275729541631,
                  "test": 0.1850709291680993,
                  "mass": 0.14064695254510523,
                  "pedi": 1,
                  "age": 0.03356131243480539,
                  "class": 0.17384406565296004,
                  "_deepnote_index_column": "pedi"
                },
                {
                  "preg": 0.5443412284023392,
                  "plas": 0.26351431982433343,
                  "pres": 0.23952794642136344,
                  "skin": -0.11397026236774152,
                  "test": -0.04216295473537695,
                  "mass": 0.03624187009229395,
                  "pedi": 0.03356131243480539,
                  "age": 1,
                  "class": 0.23835598302719757,
                  "_deepnote_index_column": "age"
                },
                {
                  "preg": 0.22189815303398636,
                  "plas": 0.46658139830687373,
                  "pres": 0.06506835955033277,
                  "skin": 0.07475223191831946,
                  "test": 0.13054795488404794,
                  "mass": 0.2926946626444454,
                  "pedi": 0.17384406565296004,
                  "age": 0.23835598302719757,
                  "class": 1,
                  "_deepnote_index_column": "class"
                }
              ]
            },
            "text/plain": "           preg      plas      pres      skin      test      mass      pedi  \\\npreg   1.000000  0.129459  0.141282 -0.081672 -0.073535  0.017683 -0.033523   \nplas   0.129459  1.000000  0.152590  0.057328  0.331357  0.221071  0.137337   \npres   0.141282  0.152590  1.000000  0.207371  0.088933  0.281805  0.041265   \nskin  -0.081672  0.057328  0.207371  1.000000  0.436783  0.392573  0.183928   \ntest  -0.073535  0.331357  0.088933  0.436783  1.000000  0.197859  0.185071   \nmass   0.017683  0.221071  0.281805  0.392573  0.197859  1.000000  0.140647   \npedi  -0.033523  0.137337  0.041265  0.183928  0.185071  0.140647  1.000000   \nage    0.544341  0.263514  0.239528 -0.113970 -0.042163  0.036242  0.033561   \nclass  0.221898  0.466581  0.065068  0.074752  0.130548  0.292695  0.173844   \n\n            age     class  \npreg   0.544341  0.221898  \nplas   0.263514  0.466581  \npres   0.239528  0.065068  \nskin  -0.113970  0.074752  \ntest  -0.042163  0.130548  \nmass   0.036242  0.292695  \npedi   0.033561  0.173844  \nage    1.000000  0.238356  \nclass  0.238356  1.000000  ",
            "text/html": "<div>\n<style scoped>\n    .dataframe tbody tr th:only-of-type {\n        vertical-align: middle;\n    }\n\n    .dataframe tbody tr th {\n        vertical-align: top;\n    }\n\n    .dataframe thead th {\n        text-align: right;\n    }\n</style>\n<table border=\"1\" class=\"dataframe\">\n  <thead>\n    <tr style=\"text-align: right;\">\n      <th></th>\n      <th>preg</th>\n      <th>plas</th>\n      <th>pres</th>\n      <th>skin</th>\n      <th>test</th>\n      <th>mass</th>\n      <th>pedi</th>\n      <th>age</th>\n      <th>class</th>\n    </tr>\n  </thead>\n  <tbody>\n    <tr>\n      <th>preg</th>\n      <td>1.000000</td>\n      <td>0.129459</td>\n      <td>0.141282</td>\n      <td>-0.081672</td>\n      <td>-0.073535</td>\n      <td>0.017683</td>\n      <td>-0.033523</td>\n      <td>0.544341</td>\n      <td>0.221898</td>\n    </tr>\n    <tr>\n      <th>plas</th>\n      <td>0.129459</td>\n      <td>1.000000</td>\n      <td>0.152590</td>\n      <td>0.057328</td>\n      <td>0.331357</td>\n      <td>0.221071</td>\n      <td>0.137337</td>\n      <td>0.263514</td>\n      <td>0.466581</td>\n    </tr>\n    <tr>\n      <th>pres</th>\n      <td>0.141282</td>\n      <td>0.152590</td>\n      <td>1.000000</td>\n      <td>0.207371</td>\n      <td>0.088933</td>\n      <td>0.281805</td>\n      <td>0.041265</td>\n      <td>0.239528</td>\n      <td>0.065068</td>\n    </tr>\n    <tr>\n      <th>skin</th>\n      <td>-0.081672</td>\n      <td>0.057328</td>\n      <td>0.207371</td>\n      <td>1.000000</td>\n      <td>0.436783</td>\n      <td>0.392573</td>\n      <td>0.183928</td>\n      <td>-0.113970</td>\n      <td>0.074752</td>\n    </tr>\n    <tr>\n      <th>test</th>\n      <td>-0.073535</td>\n      <td>0.331357</td>\n      <td>0.088933</td>\n      <td>0.436783</td>\n      <td>1.000000</td>\n      <td>0.197859</td>\n      <td>0.185071</td>\n      <td>-0.042163</td>\n      <td>0.130548</td>\n    </tr>\n    <tr>\n      <th>mass</th>\n      <td>0.017683</td>\n      <td>0.221071</td>\n      <td>0.281805</td>\n      <td>0.392573</td>\n      <td>0.197859</td>\n      <td>1.000000</td>\n      <td>0.140647</td>\n      <td>0.036242</td>\n      <td>0.292695</td>\n    </tr>\n    <tr>\n      <th>pedi</th>\n      <td>-0.033523</td>\n      <td>0.137337</td>\n      <td>0.041265</td>\n      <td>0.183928</td>\n      <td>0.185071</td>\n      <td>0.140647</td>\n      <td>1.000000</td>\n      <td>0.033561</td>\n      <td>0.173844</td>\n    </tr>\n    <tr>\n      <th>age</th>\n      <td>0.544341</td>\n      <td>0.263514</td>\n      <td>0.239528</td>\n      <td>-0.113970</td>\n      <td>-0.042163</td>\n      <td>0.036242</td>\n      <td>0.033561</td>\n      <td>1.000000</td>\n      <td>0.238356</td>\n    </tr>\n    <tr>\n      <th>class</th>\n      <td>0.221898</td>\n      <td>0.466581</td>\n      <td>0.065068</td>\n      <td>0.074752</td>\n      <td>0.130548</td>\n      <td>0.292695</td>\n      <td>0.173844</td>\n      <td>0.238356</td>\n      <td>1.000000</td>\n    </tr>\n  </tbody>\n</table>\n</div>"
          },
          "metadata": {}
        }
      ],
      "execution_count": 8
    },
    {
      "cell_type": "markdown",
      "source": "What column has the highest correlation with class? Find the mean() value of that column",
      "metadata": {
        "id": "P_7xRF11h4Uf",
        "colab_type": "text",
        "cell_id": "217da52fd81d4c14bdd199f36506a068",
        "deepnote_cell_type": "markdown"
      }
    },
    {
      "cell_type": "code",
      "source": "high_class = int(np.amax(df.corr()['class'].to_numpy()))\nmean = df[names[high_class]].mean()\n\nnames[high_class], mean",
      "metadata": {
        "id": "clb2Gh8Mn9d4",
        "colab": {},
        "colab_type": "code",
        "source_hash": "47324c78",
        "execution_start": 1689099101512,
        "execution_millis": 165,
        "deepnote_to_be_reexecuted": false,
        "cell_id": "cb62751b44c74ca581d746fd210076f4",
        "deepnote_cell_type": "code"
      },
      "outputs": [
        {
          "output_type": "execute_result",
          "execution_count": 9,
          "data": {
            "text/plain": "('plas', 120.89453125)"
          },
          "metadata": {}
        }
      ],
      "execution_count": 9
    },
    {
      "cell_type": "markdown",
      "source": "Create a new dataframe with only people that are above the mean found in the above cell.",
      "metadata": {
        "id": "64yWhAARoWw-",
        "colab_type": "text",
        "cell_id": "946363539fa342da8da31a47f2bb3d76",
        "deepnote_cell_type": "markdown"
      }
    },
    {
      "cell_type": "code",
      "source": "new_df = df[df[names[high_class]] > mean]\nnew_df.head()",
      "metadata": {
        "id": "HRLjs3agkdPY",
        "colab": {},
        "colab_type": "code",
        "source_hash": "66b9e498",
        "execution_start": 1689099101525,
        "execution_millis": 381,
        "deepnote_to_be_reexecuted": false,
        "cell_id": "650acbd9a47341ae91001baa957244ec",
        "deepnote_cell_type": "code"
      },
      "outputs": [
        {
          "output_type": "execute_result",
          "execution_count": 10,
          "data": {
            "application/vnd.deepnote.dataframe.v3+json": {
              "column_count": 9,
              "row_count": 5,
              "columns": [
                {
                  "name": "preg",
                  "dtype": "int64",
                  "stats": {
                    "unique_count": 4,
                    "nan_count": 0,
                    "min": "0",
                    "max": "8",
                    "histogram": [
                      {
                        "bin_start": 0,
                        "bin_end": 0.8,
                        "count": 1
                      },
                      {
                        "bin_start": 0.8,
                        "bin_end": 1.6,
                        "count": 0
                      },
                      {
                        "bin_start": 1.6,
                        "bin_end": 2.4000000000000004,
                        "count": 1
                      },
                      {
                        "bin_start": 2.4000000000000004,
                        "bin_end": 3.2,
                        "count": 0
                      },
                      {
                        "bin_start": 3.2,
                        "bin_end": 4,
                        "count": 0
                      },
                      {
                        "bin_start": 4,
                        "bin_end": 4.800000000000001,
                        "count": 0
                      },
                      {
                        "bin_start": 4.800000000000001,
                        "bin_end": 5.6000000000000005,
                        "count": 0
                      },
                      {
                        "bin_start": 5.6000000000000005,
                        "bin_end": 6.4,
                        "count": 1
                      },
                      {
                        "bin_start": 6.4,
                        "bin_end": 7.2,
                        "count": 0
                      },
                      {
                        "bin_start": 7.2,
                        "bin_end": 8,
                        "count": 2
                      }
                    ]
                  }
                },
                {
                  "name": "plas",
                  "dtype": "int64",
                  "stats": {
                    "unique_count": 5,
                    "nan_count": 0,
                    "min": "125",
                    "max": "197",
                    "histogram": [
                      {
                        "bin_start": 125,
                        "bin_end": 132.2,
                        "count": 1
                      },
                      {
                        "bin_start": 132.2,
                        "bin_end": 139.4,
                        "count": 1
                      },
                      {
                        "bin_start": 139.4,
                        "bin_end": 146.6,
                        "count": 0
                      },
                      {
                        "bin_start": 146.6,
                        "bin_end": 153.8,
                        "count": 1
                      },
                      {
                        "bin_start": 153.8,
                        "bin_end": 161,
                        "count": 0
                      },
                      {
                        "bin_start": 161,
                        "bin_end": 168.2,
                        "count": 0
                      },
                      {
                        "bin_start": 168.2,
                        "bin_end": 175.4,
                        "count": 0
                      },
                      {
                        "bin_start": 175.4,
                        "bin_end": 182.6,
                        "count": 0
                      },
                      {
                        "bin_start": 182.6,
                        "bin_end": 189.8,
                        "count": 1
                      },
                      {
                        "bin_start": 189.8,
                        "bin_end": 197,
                        "count": 1
                      }
                    ]
                  }
                },
                {
                  "name": "pres",
                  "dtype": "int64",
                  "stats": {
                    "unique_count": 5,
                    "nan_count": 0,
                    "min": "40",
                    "max": "96",
                    "histogram": [
                      {
                        "bin_start": 40,
                        "bin_end": 45.6,
                        "count": 1
                      },
                      {
                        "bin_start": 45.6,
                        "bin_end": 51.2,
                        "count": 0
                      },
                      {
                        "bin_start": 51.2,
                        "bin_end": 56.8,
                        "count": 0
                      },
                      {
                        "bin_start": 56.8,
                        "bin_end": 62.4,
                        "count": 0
                      },
                      {
                        "bin_start": 62.4,
                        "bin_end": 68,
                        "count": 1
                      },
                      {
                        "bin_start": 68,
                        "bin_end": 73.6,
                        "count": 2
                      },
                      {
                        "bin_start": 73.6,
                        "bin_end": 79.19999999999999,
                        "count": 0
                      },
                      {
                        "bin_start": 79.19999999999999,
                        "bin_end": 84.8,
                        "count": 0
                      },
                      {
                        "bin_start": 84.8,
                        "bin_end": 90.4,
                        "count": 0
                      },
                      {
                        "bin_start": 90.4,
                        "bin_end": 96,
                        "count": 1
                      }
                    ]
                  }
                },
                {
                  "name": "skin",
                  "dtype": "int64",
                  "stats": {
                    "unique_count": 3,
                    "nan_count": 0,
                    "min": "0",
                    "max": "45",
                    "histogram": [
                      {
                        "bin_start": 0,
                        "bin_end": 4.5,
                        "count": 2
                      },
                      {
                        "bin_start": 4.5,
                        "bin_end": 9,
                        "count": 0
                      },
                      {
                        "bin_start": 9,
                        "bin_end": 13.5,
                        "count": 0
                      },
                      {
                        "bin_start": 13.5,
                        "bin_end": 18,
                        "count": 0
                      },
                      {
                        "bin_start": 18,
                        "bin_end": 22.5,
                        "count": 0
                      },
                      {
                        "bin_start": 22.5,
                        "bin_end": 27,
                        "count": 0
                      },
                      {
                        "bin_start": 27,
                        "bin_end": 31.5,
                        "count": 0
                      },
                      {
                        "bin_start": 31.5,
                        "bin_end": 36,
                        "count": 2
                      },
                      {
                        "bin_start": 36,
                        "bin_end": 40.5,
                        "count": 0
                      },
                      {
                        "bin_start": 40.5,
                        "bin_end": 45,
                        "count": 1
                      }
                    ]
                  }
                },
                {
                  "name": "test",
                  "dtype": "int64",
                  "stats": {
                    "unique_count": 3,
                    "nan_count": 0,
                    "min": "0",
                    "max": "543",
                    "histogram": [
                      {
                        "bin_start": 0,
                        "bin_end": 54.3,
                        "count": 3
                      },
                      {
                        "bin_start": 54.3,
                        "bin_end": 108.6,
                        "count": 0
                      },
                      {
                        "bin_start": 108.6,
                        "bin_end": 162.89999999999998,
                        "count": 0
                      },
                      {
                        "bin_start": 162.89999999999998,
                        "bin_end": 217.2,
                        "count": 1
                      },
                      {
                        "bin_start": 217.2,
                        "bin_end": 271.5,
                        "count": 0
                      },
                      {
                        "bin_start": 271.5,
                        "bin_end": 325.79999999999995,
                        "count": 0
                      },
                      {
                        "bin_start": 325.79999999999995,
                        "bin_end": 380.09999999999997,
                        "count": 0
                      },
                      {
                        "bin_start": 380.09999999999997,
                        "bin_end": 434.4,
                        "count": 0
                      },
                      {
                        "bin_start": 434.4,
                        "bin_end": 488.7,
                        "count": 0
                      },
                      {
                        "bin_start": 488.7,
                        "bin_end": 543,
                        "count": 1
                      }
                    ]
                  }
                },
                {
                  "name": "mass",
                  "dtype": "float64",
                  "stats": {
                    "unique_count": 5,
                    "nan_count": 0,
                    "min": "0.0",
                    "max": "43.1",
                    "histogram": [
                      {
                        "bin_start": 0,
                        "bin_end": 4.3100000000000005,
                        "count": 1
                      },
                      {
                        "bin_start": 4.3100000000000005,
                        "bin_end": 8.620000000000001,
                        "count": 0
                      },
                      {
                        "bin_start": 8.620000000000001,
                        "bin_end": 12.930000000000001,
                        "count": 0
                      },
                      {
                        "bin_start": 12.930000000000001,
                        "bin_end": 17.240000000000002,
                        "count": 0
                      },
                      {
                        "bin_start": 17.240000000000002,
                        "bin_end": 21.550000000000004,
                        "count": 0
                      },
                      {
                        "bin_start": 21.550000000000004,
                        "bin_end": 25.860000000000003,
                        "count": 1
                      },
                      {
                        "bin_start": 25.860000000000003,
                        "bin_end": 30.17,
                        "count": 0
                      },
                      {
                        "bin_start": 30.17,
                        "bin_end": 34.480000000000004,
                        "count": 2
                      },
                      {
                        "bin_start": 34.480000000000004,
                        "bin_end": 38.790000000000006,
                        "count": 0
                      },
                      {
                        "bin_start": 38.790000000000006,
                        "bin_end": 43.1,
                        "count": 1
                      }
                    ]
                  }
                },
                {
                  "name": "pedi",
                  "dtype": "float64",
                  "stats": {
                    "unique_count": 5,
                    "nan_count": 0,
                    "min": "0.158",
                    "max": "2.288",
                    "histogram": [
                      {
                        "bin_start": 0.158,
                        "bin_end": 0.371,
                        "count": 2
                      },
                      {
                        "bin_start": 0.371,
                        "bin_end": 0.584,
                        "count": 0
                      },
                      {
                        "bin_start": 0.584,
                        "bin_end": 0.797,
                        "count": 2
                      },
                      {
                        "bin_start": 0.797,
                        "bin_end": 1.01,
                        "count": 0
                      },
                      {
                        "bin_start": 1.01,
                        "bin_end": 1.2229999999999999,
                        "count": 0
                      },
                      {
                        "bin_start": 1.2229999999999999,
                        "bin_end": 1.436,
                        "count": 0
                      },
                      {
                        "bin_start": 1.436,
                        "bin_end": 1.6489999999999998,
                        "count": 0
                      },
                      {
                        "bin_start": 1.6489999999999998,
                        "bin_end": 1.8619999999999999,
                        "count": 0
                      },
                      {
                        "bin_start": 1.8619999999999999,
                        "bin_end": 2.075,
                        "count": 0
                      },
                      {
                        "bin_start": 2.075,
                        "bin_end": 2.288,
                        "count": 1
                      }
                    ]
                  }
                },
                {
                  "name": "age",
                  "dtype": "int64",
                  "stats": {
                    "unique_count": 5,
                    "nan_count": 0,
                    "min": "32",
                    "max": "54",
                    "histogram": [
                      {
                        "bin_start": 32,
                        "bin_end": 34.2,
                        "count": 2
                      },
                      {
                        "bin_start": 34.2,
                        "bin_end": 36.4,
                        "count": 0
                      },
                      {
                        "bin_start": 36.4,
                        "bin_end": 38.6,
                        "count": 0
                      },
                      {
                        "bin_start": 38.6,
                        "bin_end": 40.8,
                        "count": 0
                      },
                      {
                        "bin_start": 40.8,
                        "bin_end": 43,
                        "count": 0
                      },
                      {
                        "bin_start": 43,
                        "bin_end": 45.2,
                        "count": 0
                      },
                      {
                        "bin_start": 45.2,
                        "bin_end": 47.400000000000006,
                        "count": 0
                      },
                      {
                        "bin_start": 47.400000000000006,
                        "bin_end": 49.6,
                        "count": 0
                      },
                      {
                        "bin_start": 49.6,
                        "bin_end": 51.8,
                        "count": 1
                      },
                      {
                        "bin_start": 51.8,
                        "bin_end": 54,
                        "count": 2
                      }
                    ]
                  }
                },
                {
                  "name": "class",
                  "dtype": "int64",
                  "stats": {
                    "unique_count": 1,
                    "nan_count": 0,
                    "min": "1",
                    "max": "1",
                    "histogram": [
                      {
                        "bin_start": 0.5,
                        "bin_end": 0.6,
                        "count": 0
                      },
                      {
                        "bin_start": 0.6,
                        "bin_end": 0.7,
                        "count": 0
                      },
                      {
                        "bin_start": 0.7,
                        "bin_end": 0.8,
                        "count": 0
                      },
                      {
                        "bin_start": 0.8,
                        "bin_end": 0.9,
                        "count": 0
                      },
                      {
                        "bin_start": 0.9,
                        "bin_end": 1,
                        "count": 0
                      },
                      {
                        "bin_start": 1,
                        "bin_end": 1.1,
                        "count": 5
                      },
                      {
                        "bin_start": 1.1,
                        "bin_end": 1.2000000000000002,
                        "count": 0
                      },
                      {
                        "bin_start": 1.2000000000000002,
                        "bin_end": 1.3,
                        "count": 0
                      },
                      {
                        "bin_start": 1.3,
                        "bin_end": 1.4,
                        "count": 0
                      },
                      {
                        "bin_start": 1.4,
                        "bin_end": 1.5,
                        "count": 0
                      }
                    ]
                  }
                },
                {
                  "name": "_deepnote_index_column",
                  "dtype": "int64"
                }
              ],
              "rows": [
                {
                  "preg": 6,
                  "plas": 148,
                  "pres": 72,
                  "skin": 35,
                  "test": 0,
                  "mass": 33.6,
                  "pedi": 0.627,
                  "age": 50,
                  "class": 1,
                  "_deepnote_index_column": 0
                },
                {
                  "preg": 8,
                  "plas": 183,
                  "pres": 64,
                  "skin": 0,
                  "test": 0,
                  "mass": 23.3,
                  "pedi": 0.672,
                  "age": 32,
                  "class": 1,
                  "_deepnote_index_column": 2
                },
                {
                  "preg": 0,
                  "plas": 137,
                  "pres": 40,
                  "skin": 35,
                  "test": 168,
                  "mass": 43.1,
                  "pedi": 2.288,
                  "age": 33,
                  "class": 1,
                  "_deepnote_index_column": 4
                },
                {
                  "preg": 2,
                  "plas": 197,
                  "pres": 70,
                  "skin": 45,
                  "test": 543,
                  "mass": 30.5,
                  "pedi": 0.158,
                  "age": 53,
                  "class": 1,
                  "_deepnote_index_column": 8
                },
                {
                  "preg": 8,
                  "plas": 125,
                  "pres": 96,
                  "skin": 0,
                  "test": 0,
                  "mass": 0,
                  "pedi": 0.232,
                  "age": 54,
                  "class": 1,
                  "_deepnote_index_column": 9
                }
              ]
            },
            "text/plain": "   preg  plas  pres  skin  test  mass   pedi  age  class\n0     6   148    72    35     0  33.6  0.627   50      1\n2     8   183    64     0     0  23.3  0.672   32      1\n4     0   137    40    35   168  43.1  2.288   33      1\n8     2   197    70    45   543  30.5  0.158   53      1\n9     8   125    96     0     0   0.0  0.232   54      1",
            "text/html": "<div>\n<style scoped>\n    .dataframe tbody tr th:only-of-type {\n        vertical-align: middle;\n    }\n\n    .dataframe tbody tr th {\n        vertical-align: top;\n    }\n\n    .dataframe thead th {\n        text-align: right;\n    }\n</style>\n<table border=\"1\" class=\"dataframe\">\n  <thead>\n    <tr style=\"text-align: right;\">\n      <th></th>\n      <th>preg</th>\n      <th>plas</th>\n      <th>pres</th>\n      <th>skin</th>\n      <th>test</th>\n      <th>mass</th>\n      <th>pedi</th>\n      <th>age</th>\n      <th>class</th>\n    </tr>\n  </thead>\n  <tbody>\n    <tr>\n      <th>0</th>\n      <td>6</td>\n      <td>148</td>\n      <td>72</td>\n      <td>35</td>\n      <td>0</td>\n      <td>33.6</td>\n      <td>0.627</td>\n      <td>50</td>\n      <td>1</td>\n    </tr>\n    <tr>\n      <th>2</th>\n      <td>8</td>\n      <td>183</td>\n      <td>64</td>\n      <td>0</td>\n      <td>0</td>\n      <td>23.3</td>\n      <td>0.672</td>\n      <td>32</td>\n      <td>1</td>\n    </tr>\n    <tr>\n      <th>4</th>\n      <td>0</td>\n      <td>137</td>\n      <td>40</td>\n      <td>35</td>\n      <td>168</td>\n      <td>43.1</td>\n      <td>2.288</td>\n      <td>33</td>\n      <td>1</td>\n    </tr>\n    <tr>\n      <th>8</th>\n      <td>2</td>\n      <td>197</td>\n      <td>70</td>\n      <td>45</td>\n      <td>543</td>\n      <td>30.5</td>\n      <td>0.158</td>\n      <td>53</td>\n      <td>1</td>\n    </tr>\n    <tr>\n      <th>9</th>\n      <td>8</td>\n      <td>125</td>\n      <td>96</td>\n      <td>0</td>\n      <td>0</td>\n      <td>0.0</td>\n      <td>0.232</td>\n      <td>54</td>\n      <td>1</td>\n    </tr>\n  </tbody>\n</table>\n</div>"
          },
          "metadata": {}
        }
      ],
      "execution_count": 10
    },
    {
      "cell_type": "markdown",
      "source": "Create a new dataframe that only includes people who are above the average value for each column in the dataset. In other words, find the average value for each column, and then find which users have values above all of these average column values.",
      "metadata": {
        "id": "RxGIQp0JrUnq",
        "colab_type": "text",
        "cell_id": "2772e7c6d0a84d29b151a97646f8cca2",
        "deepnote_cell_type": "markdown"
      }
    },
    {
      "cell_type": "code",
      "source": "avg = df.mean()\nnew_df = df[(df > avg).all(axis=1)]\nnew_df.head()",
      "metadata": {
        "id": "Ylf4p6NNrfME",
        "colab": {},
        "colab_type": "code",
        "source_hash": "f11b6d19",
        "execution_start": 1689099101614,
        "execution_millis": 189,
        "deepnote_to_be_reexecuted": false,
        "cell_id": "21f546e7ee0343c19a2af3e399a19205",
        "deepnote_cell_type": "code"
      },
      "outputs": [
        {
          "output_type": "execute_result",
          "execution_count": 11,
          "data": {
            "application/vnd.deepnote.dataframe.v3+json": {
              "column_count": 9,
              "row_count": 5,
              "columns": [
                {
                  "name": "preg",
                  "dtype": "int64",
                  "stats": {
                    "unique_count": 3,
                    "nan_count": 0,
                    "min": "8",
                    "max": "17",
                    "histogram": [
                      {
                        "bin_start": 8,
                        "bin_end": 8.9,
                        "count": 2
                      },
                      {
                        "bin_start": 8.9,
                        "bin_end": 9.8,
                        "count": 2
                      },
                      {
                        "bin_start": 9.8,
                        "bin_end": 10.7,
                        "count": 0
                      },
                      {
                        "bin_start": 10.7,
                        "bin_end": 11.6,
                        "count": 0
                      },
                      {
                        "bin_start": 11.6,
                        "bin_end": 12.5,
                        "count": 0
                      },
                      {
                        "bin_start": 12.5,
                        "bin_end": 13.4,
                        "count": 0
                      },
                      {
                        "bin_start": 13.4,
                        "bin_end": 14.3,
                        "count": 0
                      },
                      {
                        "bin_start": 14.3,
                        "bin_end": 15.2,
                        "count": 0
                      },
                      {
                        "bin_start": 15.2,
                        "bin_end": 16.1,
                        "count": 0
                      },
                      {
                        "bin_start": 16.1,
                        "bin_end": 17,
                        "count": 1
                      }
                    ]
                  }
                },
                {
                  "name": "plas",
                  "dtype": "int64",
                  "stats": {
                    "unique_count": 5,
                    "nan_count": 0,
                    "min": "156",
                    "max": "196",
                    "histogram": [
                      {
                        "bin_start": 156,
                        "bin_end": 160,
                        "count": 1
                      },
                      {
                        "bin_start": 160,
                        "bin_end": 164,
                        "count": 1
                      },
                      {
                        "bin_start": 164,
                        "bin_end": 168,
                        "count": 0
                      },
                      {
                        "bin_start": 168,
                        "bin_end": 172,
                        "count": 1
                      },
                      {
                        "bin_start": 172,
                        "bin_end": 176,
                        "count": 0
                      },
                      {
                        "bin_start": 176,
                        "bin_end": 180,
                        "count": 1
                      },
                      {
                        "bin_start": 180,
                        "bin_end": 184,
                        "count": 0
                      },
                      {
                        "bin_start": 184,
                        "bin_end": 188,
                        "count": 0
                      },
                      {
                        "bin_start": 188,
                        "bin_end": 192,
                        "count": 0
                      },
                      {
                        "bin_start": 192,
                        "bin_end": 196,
                        "count": 1
                      }
                    ]
                  }
                },
                {
                  "name": "pres",
                  "dtype": "int64",
                  "stats": {
                    "unique_count": 4,
                    "nan_count": 0,
                    "min": "72",
                    "max": "110",
                    "histogram": [
                      {
                        "bin_start": 72,
                        "bin_end": 75.8,
                        "count": 2
                      },
                      {
                        "bin_start": 75.8,
                        "bin_end": 79.6,
                        "count": 1
                      },
                      {
                        "bin_start": 79.6,
                        "bin_end": 83.4,
                        "count": 0
                      },
                      {
                        "bin_start": 83.4,
                        "bin_end": 87.2,
                        "count": 1
                      },
                      {
                        "bin_start": 87.2,
                        "bin_end": 91,
                        "count": 0
                      },
                      {
                        "bin_start": 91,
                        "bin_end": 94.8,
                        "count": 0
                      },
                      {
                        "bin_start": 94.8,
                        "bin_end": 98.6,
                        "count": 0
                      },
                      {
                        "bin_start": 98.6,
                        "bin_end": 102.4,
                        "count": 0
                      },
                      {
                        "bin_start": 102.4,
                        "bin_end": 106.19999999999999,
                        "count": 0
                      },
                      {
                        "bin_start": 106.19999999999999,
                        "bin_end": 110,
                        "count": 1
                      }
                    ]
                  }
                },
                {
                  "name": "skin",
                  "dtype": "int64",
                  "stats": {
                    "unique_count": 5,
                    "nan_count": 0,
                    "min": "24",
                    "max": "42",
                    "histogram": [
                      {
                        "bin_start": 24,
                        "bin_end": 25.8,
                        "count": 1
                      },
                      {
                        "bin_start": 25.8,
                        "bin_end": 27.6,
                        "count": 0
                      },
                      {
                        "bin_start": 27.6,
                        "bin_end": 29.4,
                        "count": 2
                      },
                      {
                        "bin_start": 29.4,
                        "bin_end": 31.2,
                        "count": 0
                      },
                      {
                        "bin_start": 31.2,
                        "bin_end": 33,
                        "count": 0
                      },
                      {
                        "bin_start": 33,
                        "bin_end": 34.8,
                        "count": 0
                      },
                      {
                        "bin_start": 34.8,
                        "bin_end": 36.6,
                        "count": 0
                      },
                      {
                        "bin_start": 36.6,
                        "bin_end": 38.4,
                        "count": 0
                      },
                      {
                        "bin_start": 38.4,
                        "bin_end": 40.2,
                        "count": 0
                      },
                      {
                        "bin_start": 40.2,
                        "bin_end": 42,
                        "count": 2
                      }
                    ]
                  }
                },
                {
                  "name": "test",
                  "dtype": "int64",
                  "stats": {
                    "unique_count": 5,
                    "nan_count": 0,
                    "min": "114",
                    "max": "280",
                    "histogram": [
                      {
                        "bin_start": 114,
                        "bin_end": 130.6,
                        "count": 2
                      },
                      {
                        "bin_start": 130.6,
                        "bin_end": 147.2,
                        "count": 0
                      },
                      {
                        "bin_start": 147.2,
                        "bin_end": 163.8,
                        "count": 1
                      },
                      {
                        "bin_start": 163.8,
                        "bin_end": 180.4,
                        "count": 0
                      },
                      {
                        "bin_start": 180.4,
                        "bin_end": 197,
                        "count": 0
                      },
                      {
                        "bin_start": 197,
                        "bin_end": 213.60000000000002,
                        "count": 0
                      },
                      {
                        "bin_start": 213.60000000000002,
                        "bin_end": 230.20000000000002,
                        "count": 0
                      },
                      {
                        "bin_start": 230.20000000000002,
                        "bin_end": 246.8,
                        "count": 1
                      },
                      {
                        "bin_start": 246.8,
                        "bin_end": 263.4,
                        "count": 0
                      },
                      {
                        "bin_start": 263.4,
                        "bin_end": 280,
                        "count": 1
                      }
                    ]
                  }
                },
                {
                  "name": "mass",
                  "dtype": "float64",
                  "stats": {
                    "unique_count": 5,
                    "nan_count": 0,
                    "min": "32.7",
                    "max": "45.4",
                    "histogram": [
                      {
                        "bin_start": 32.7,
                        "bin_end": 33.97,
                        "count": 1
                      },
                      {
                        "bin_start": 33.97,
                        "bin_end": 35.24,
                        "count": 1
                      },
                      {
                        "bin_start": 35.24,
                        "bin_end": 36.510000000000005,
                        "count": 0
                      },
                      {
                        "bin_start": 36.510000000000005,
                        "bin_end": 37.78,
                        "count": 1
                      },
                      {
                        "bin_start": 37.78,
                        "bin_end": 39.05,
                        "count": 0
                      },
                      {
                        "bin_start": 39.05,
                        "bin_end": 40.32,
                        "count": 0
                      },
                      {
                        "bin_start": 40.32,
                        "bin_end": 41.59,
                        "count": 1
                      },
                      {
                        "bin_start": 41.59,
                        "bin_end": 42.86,
                        "count": 0
                      },
                      {
                        "bin_start": 42.86,
                        "bin_end": 44.129999999999995,
                        "count": 0
                      },
                      {
                        "bin_start": 44.129999999999995,
                        "bin_end": 45.4,
                        "count": 1
                      }
                    ]
                  }
                },
                {
                  "name": "pedi",
                  "dtype": "float64",
                  "stats": {
                    "unique_count": 5,
                    "nan_count": 0,
                    "min": "0.605",
                    "max": "1.189",
                    "histogram": [
                      {
                        "bin_start": 0.605,
                        "bin_end": 0.6634,
                        "count": 1
                      },
                      {
                        "bin_start": 0.6634,
                        "bin_end": 0.7218,
                        "count": 2
                      },
                      {
                        "bin_start": 0.7218,
                        "bin_end": 0.7802,
                        "count": 0
                      },
                      {
                        "bin_start": 0.7802,
                        "bin_end": 0.8386,
                        "count": 1
                      },
                      {
                        "bin_start": 0.8386,
                        "bin_end": 0.897,
                        "count": 0
                      },
                      {
                        "bin_start": 0.897,
                        "bin_end": 0.9554,
                        "count": 0
                      },
                      {
                        "bin_start": 0.9554,
                        "bin_end": 1.0138,
                        "count": 0
                      },
                      {
                        "bin_start": 1.0138,
                        "bin_end": 1.0722,
                        "count": 0
                      },
                      {
                        "bin_start": 1.0722,
                        "bin_end": 1.1306,
                        "count": 0
                      },
                      {
                        "bin_start": 1.1306,
                        "bin_end": 1.189,
                        "count": 1
                      }
                    ]
                  }
                },
                {
                  "name": "age",
                  "dtype": "int64",
                  "stats": {
                    "unique_count": 5,
                    "nan_count": 0,
                    "min": "36",
                    "max": "57",
                    "histogram": [
                      {
                        "bin_start": 36,
                        "bin_end": 38.1,
                        "count": 1
                      },
                      {
                        "bin_start": 38.1,
                        "bin_end": 40.2,
                        "count": 0
                      },
                      {
                        "bin_start": 40.2,
                        "bin_end": 42.3,
                        "count": 1
                      },
                      {
                        "bin_start": 42.3,
                        "bin_end": 44.4,
                        "count": 0
                      },
                      {
                        "bin_start": 44.4,
                        "bin_end": 46.5,
                        "count": 0
                      },
                      {
                        "bin_start": 46.5,
                        "bin_end": 48.6,
                        "count": 1
                      },
                      {
                        "bin_start": 48.6,
                        "bin_end": 50.7,
                        "count": 0
                      },
                      {
                        "bin_start": 50.7,
                        "bin_end": 52.8,
                        "count": 0
                      },
                      {
                        "bin_start": 52.8,
                        "bin_end": 54.900000000000006,
                        "count": 1
                      },
                      {
                        "bin_start": 54.900000000000006,
                        "bin_end": 57,
                        "count": 1
                      }
                    ]
                  }
                },
                {
                  "name": "class",
                  "dtype": "int64",
                  "stats": {
                    "unique_count": 1,
                    "nan_count": 0,
                    "min": "1",
                    "max": "1",
                    "histogram": [
                      {
                        "bin_start": 0.5,
                        "bin_end": 0.6,
                        "count": 0
                      },
                      {
                        "bin_start": 0.6,
                        "bin_end": 0.7,
                        "count": 0
                      },
                      {
                        "bin_start": 0.7,
                        "bin_end": 0.8,
                        "count": 0
                      },
                      {
                        "bin_start": 0.8,
                        "bin_end": 0.9,
                        "count": 0
                      },
                      {
                        "bin_start": 0.9,
                        "bin_end": 1,
                        "count": 0
                      },
                      {
                        "bin_start": 1,
                        "bin_end": 1.1,
                        "count": 5
                      },
                      {
                        "bin_start": 1.1,
                        "bin_end": 1.2000000000000002,
                        "count": 0
                      },
                      {
                        "bin_start": 1.2000000000000002,
                        "bin_end": 1.3,
                        "count": 0
                      },
                      {
                        "bin_start": 1.3,
                        "bin_end": 1.4,
                        "count": 0
                      },
                      {
                        "bin_start": 1.4,
                        "bin_end": 1.5,
                        "count": 0
                      }
                    ]
                  }
                },
                {
                  "name": "_deepnote_index_column",
                  "dtype": "int64"
                }
              ],
              "rows": [
                {
                  "preg": 9,
                  "plas": 171,
                  "pres": 110,
                  "skin": 24,
                  "test": 240,
                  "mass": 45.4,
                  "pedi": 0.721,
                  "age": 54,
                  "class": 1,
                  "_deepnote_index_column": 43
                },
                {
                  "preg": 9,
                  "plas": 156,
                  "pres": 86,
                  "skin": 28,
                  "test": 155,
                  "mass": 34.3,
                  "pedi": 1.189,
                  "age": 42,
                  "class": 1,
                  "_deepnote_index_column": 152
                },
                {
                  "preg": 17,
                  "plas": 163,
                  "pres": 72,
                  "skin": 41,
                  "test": 114,
                  "mass": 40.9,
                  "pedi": 0.817,
                  "age": 47,
                  "class": 1,
                  "_deepnote_index_column": 159
                },
                {
                  "preg": 8,
                  "plas": 179,
                  "pres": 72,
                  "skin": 42,
                  "test": 130,
                  "mass": 32.7,
                  "pedi": 0.719,
                  "age": 36,
                  "class": 1,
                  "_deepnote_index_column": 175
                },
                {
                  "preg": 8,
                  "plas": 196,
                  "pres": 76,
                  "skin": 29,
                  "test": 280,
                  "mass": 37.5,
                  "pedi": 0.605,
                  "age": 57,
                  "class": 1,
                  "_deepnote_index_column": 206
                }
              ]
            },
            "text/plain": "     preg  plas  pres  skin  test  mass   pedi  age  class\n43      9   171   110    24   240  45.4  0.721   54      1\n152     9   156    86    28   155  34.3  1.189   42      1\n159    17   163    72    41   114  40.9  0.817   47      1\n175     8   179    72    42   130  32.7  0.719   36      1\n206     8   196    76    29   280  37.5  0.605   57      1",
            "text/html": "<div>\n<style scoped>\n    .dataframe tbody tr th:only-of-type {\n        vertical-align: middle;\n    }\n\n    .dataframe tbody tr th {\n        vertical-align: top;\n    }\n\n    .dataframe thead th {\n        text-align: right;\n    }\n</style>\n<table border=\"1\" class=\"dataframe\">\n  <thead>\n    <tr style=\"text-align: right;\">\n      <th></th>\n      <th>preg</th>\n      <th>plas</th>\n      <th>pres</th>\n      <th>skin</th>\n      <th>test</th>\n      <th>mass</th>\n      <th>pedi</th>\n      <th>age</th>\n      <th>class</th>\n    </tr>\n  </thead>\n  <tbody>\n    <tr>\n      <th>43</th>\n      <td>9</td>\n      <td>171</td>\n      <td>110</td>\n      <td>24</td>\n      <td>240</td>\n      <td>45.4</td>\n      <td>0.721</td>\n      <td>54</td>\n      <td>1</td>\n    </tr>\n    <tr>\n      <th>152</th>\n      <td>9</td>\n      <td>156</td>\n      <td>86</td>\n      <td>28</td>\n      <td>155</td>\n      <td>34.3</td>\n      <td>1.189</td>\n      <td>42</td>\n      <td>1</td>\n    </tr>\n    <tr>\n      <th>159</th>\n      <td>17</td>\n      <td>163</td>\n      <td>72</td>\n      <td>41</td>\n      <td>114</td>\n      <td>40.9</td>\n      <td>0.817</td>\n      <td>47</td>\n      <td>1</td>\n    </tr>\n    <tr>\n      <th>175</th>\n      <td>8</td>\n      <td>179</td>\n      <td>72</td>\n      <td>42</td>\n      <td>130</td>\n      <td>32.7</td>\n      <td>0.719</td>\n      <td>36</td>\n      <td>1</td>\n    </tr>\n    <tr>\n      <th>206</th>\n      <td>8</td>\n      <td>196</td>\n      <td>76</td>\n      <td>29</td>\n      <td>280</td>\n      <td>37.5</td>\n      <td>0.605</td>\n      <td>57</td>\n      <td>1</td>\n    </tr>\n  </tbody>\n</table>\n</div>"
          },
          "metadata": {}
        }
      ],
      "execution_count": 11
    },
    {
      "cell_type": "markdown",
      "source": "*Note: the next 3 problems were not explicitly shown in our tutorial—being able to effectively google and look through documentation is a very important coding tool!* ¯\\\\\\_(ツ)_/¯",
      "metadata": {
        "id": "Cy_6ce7_8qAB",
        "colab_type": "text",
        "cell_id": "9761de7d950f426faece0a1f0512ce36",
        "deepnote_cell_type": "markdown"
      }
    },
    {
      "cell_type": "markdown",
      "source": "Ignoring the index (resetting the index to 0) and using the dataframe from the cell above, sort the values based on `\"skin\"`, `\"test\"`, and `\"pedi\"` values in ascending order. Please write this in one line.",
      "metadata": {
        "id": "24pCgP2xbCwZ",
        "colab_type": "text",
        "cell_id": "a390fc04cb034808bb5ec2c1db98360c",
        "deepnote_cell_type": "markdown"
      }
    },
    {
      "cell_type": "code",
      "source": "df.sort_values(by=['skin','test','pedi'], ascending=True)",
      "metadata": {
        "id": "wXZysbVwa7i5",
        "colab": {},
        "colab_type": "code",
        "source_hash": "9f752923",
        "execution_start": 1689099101649,
        "execution_millis": 194,
        "deepnote_to_be_reexecuted": false,
        "cell_id": "134f3b0c485b41e8b4e6c3c1fda6ec99",
        "deepnote_cell_type": "code"
      },
      "outputs": [
        {
          "output_type": "execute_result",
          "execution_count": 12,
          "data": {
            "application/vnd.deepnote.dataframe.v3+json": {
              "column_count": 9,
              "row_count": 768,
              "columns": [
                {
                  "name": "preg",
                  "dtype": "int64",
                  "stats": {
                    "unique_count": 17,
                    "nan_count": 0,
                    "min": "0",
                    "max": "17",
                    "histogram": [
                      {
                        "bin_start": 0,
                        "bin_end": 1.7,
                        "count": 246
                      },
                      {
                        "bin_start": 1.7,
                        "bin_end": 3.4,
                        "count": 178
                      },
                      {
                        "bin_start": 3.4,
                        "bin_end": 5.1,
                        "count": 125
                      },
                      {
                        "bin_start": 5.1,
                        "bin_end": 6.8,
                        "count": 50
                      },
                      {
                        "bin_start": 6.8,
                        "bin_end": 8.5,
                        "count": 83
                      },
                      {
                        "bin_start": 8.5,
                        "bin_end": 10.2,
                        "count": 52
                      },
                      {
                        "bin_start": 10.2,
                        "bin_end": 11.9,
                        "count": 11
                      },
                      {
                        "bin_start": 11.9,
                        "bin_end": 13.6,
                        "count": 19
                      },
                      {
                        "bin_start": 13.6,
                        "bin_end": 15.299999999999999,
                        "count": 3
                      },
                      {
                        "bin_start": 15.299999999999999,
                        "bin_end": 17,
                        "count": 1
                      }
                    ]
                  }
                },
                {
                  "name": "plas",
                  "dtype": "int64",
                  "stats": {
                    "unique_count": 136,
                    "nan_count": 0,
                    "min": "0",
                    "max": "199",
                    "histogram": [
                      {
                        "bin_start": 0,
                        "bin_end": 19.9,
                        "count": 5
                      },
                      {
                        "bin_start": 19.9,
                        "bin_end": 39.8,
                        "count": 0
                      },
                      {
                        "bin_start": 39.8,
                        "bin_end": 59.699999999999996,
                        "count": 4
                      },
                      {
                        "bin_start": 59.699999999999996,
                        "bin_end": 79.6,
                        "count": 32
                      },
                      {
                        "bin_start": 79.6,
                        "bin_end": 99.5,
                        "count": 156
                      },
                      {
                        "bin_start": 99.5,
                        "bin_end": 119.39999999999999,
                        "count": 211
                      },
                      {
                        "bin_start": 119.39999999999999,
                        "bin_end": 139.29999999999998,
                        "count": 163
                      },
                      {
                        "bin_start": 139.29999999999998,
                        "bin_end": 159.2,
                        "count": 95
                      },
                      {
                        "bin_start": 159.2,
                        "bin_end": 179.1,
                        "count": 56
                      },
                      {
                        "bin_start": 179.1,
                        "bin_end": 199,
                        "count": 46
                      }
                    ]
                  }
                },
                {
                  "name": "pres",
                  "dtype": "int64",
                  "stats": {
                    "unique_count": 47,
                    "nan_count": 0,
                    "min": "0",
                    "max": "122",
                    "histogram": [
                      {
                        "bin_start": 0,
                        "bin_end": 12.2,
                        "count": 35
                      },
                      {
                        "bin_start": 12.2,
                        "bin_end": 24.4,
                        "count": 1
                      },
                      {
                        "bin_start": 24.4,
                        "bin_end": 36.599999999999994,
                        "count": 2
                      },
                      {
                        "bin_start": 36.599999999999994,
                        "bin_end": 48.8,
                        "count": 13
                      },
                      {
                        "bin_start": 48.8,
                        "bin_end": 61,
                        "count": 107
                      },
                      {
                        "bin_start": 61,
                        "bin_end": 73.19999999999999,
                        "count": 261
                      },
                      {
                        "bin_start": 73.19999999999999,
                        "bin_end": 85.39999999999999,
                        "count": 243
                      },
                      {
                        "bin_start": 85.39999999999999,
                        "bin_end": 97.6,
                        "count": 87
                      },
                      {
                        "bin_start": 97.6,
                        "bin_end": 109.8,
                        "count": 14
                      },
                      {
                        "bin_start": 109.8,
                        "bin_end": 122,
                        "count": 5
                      }
                    ]
                  }
                },
                {
                  "name": "skin",
                  "dtype": "int64",
                  "stats": {
                    "unique_count": 51,
                    "nan_count": 0,
                    "min": "0",
                    "max": "99",
                    "histogram": [
                      {
                        "bin_start": 0,
                        "bin_end": 9.9,
                        "count": 231
                      },
                      {
                        "bin_start": 9.9,
                        "bin_end": 19.8,
                        "count": 107
                      },
                      {
                        "bin_start": 19.8,
                        "bin_end": 29.700000000000003,
                        "count": 165
                      },
                      {
                        "bin_start": 29.700000000000003,
                        "bin_end": 39.6,
                        "count": 175
                      },
                      {
                        "bin_start": 39.6,
                        "bin_end": 49.5,
                        "count": 78
                      },
                      {
                        "bin_start": 49.5,
                        "bin_end": 59.400000000000006,
                        "count": 9
                      },
                      {
                        "bin_start": 59.400000000000006,
                        "bin_end": 69.3,
                        "count": 2
                      },
                      {
                        "bin_start": 69.3,
                        "bin_end": 79.2,
                        "count": 0
                      },
                      {
                        "bin_start": 79.2,
                        "bin_end": 89.10000000000001,
                        "count": 0
                      },
                      {
                        "bin_start": 89.10000000000001,
                        "bin_end": 99,
                        "count": 1
                      }
                    ]
                  }
                },
                {
                  "name": "test",
                  "dtype": "int64",
                  "stats": {
                    "unique_count": 186,
                    "nan_count": 0,
                    "min": "0",
                    "max": "846",
                    "histogram": [
                      {
                        "bin_start": 0,
                        "bin_end": 84.6,
                        "count": 487
                      },
                      {
                        "bin_start": 84.6,
                        "bin_end": 169.2,
                        "count": 155
                      },
                      {
                        "bin_start": 169.2,
                        "bin_end": 253.79999999999998,
                        "count": 70
                      },
                      {
                        "bin_start": 253.79999999999998,
                        "bin_end": 338.4,
                        "count": 30
                      },
                      {
                        "bin_start": 338.4,
                        "bin_end": 423,
                        "count": 8
                      },
                      {
                        "bin_start": 423,
                        "bin_end": 507.59999999999997,
                        "count": 9
                      },
                      {
                        "bin_start": 507.59999999999997,
                        "bin_end": 592.1999999999999,
                        "count": 5
                      },
                      {
                        "bin_start": 592.1999999999999,
                        "bin_end": 676.8,
                        "count": 1
                      },
                      {
                        "bin_start": 676.8,
                        "bin_end": 761.4,
                        "count": 2
                      },
                      {
                        "bin_start": 761.4,
                        "bin_end": 846,
                        "count": 1
                      }
                    ]
                  }
                },
                {
                  "name": "mass",
                  "dtype": "float64",
                  "stats": {
                    "unique_count": 248,
                    "nan_count": 0,
                    "min": "0.0",
                    "max": "67.1",
                    "histogram": [
                      {
                        "bin_start": 0,
                        "bin_end": 6.709999999999999,
                        "count": 11
                      },
                      {
                        "bin_start": 6.709999999999999,
                        "bin_end": 13.419999999999998,
                        "count": 0
                      },
                      {
                        "bin_start": 13.419999999999998,
                        "bin_end": 20.129999999999995,
                        "count": 15
                      },
                      {
                        "bin_start": 20.129999999999995,
                        "bin_end": 26.839999999999996,
                        "count": 156
                      },
                      {
                        "bin_start": 26.839999999999996,
                        "bin_end": 33.55,
                        "count": 268
                      },
                      {
                        "bin_start": 33.55,
                        "bin_end": 40.25999999999999,
                        "count": 224
                      },
                      {
                        "bin_start": 40.25999999999999,
                        "bin_end": 46.96999999999999,
                        "count": 78
                      },
                      {
                        "bin_start": 46.96999999999999,
                        "bin_end": 53.67999999999999,
                        "count": 12
                      },
                      {
                        "bin_start": 53.67999999999999,
                        "bin_end": 60.38999999999999,
                        "count": 3
                      },
                      {
                        "bin_start": 60.38999999999999,
                        "bin_end": 67.1,
                        "count": 1
                      }
                    ]
                  }
                },
                {
                  "name": "pedi",
                  "dtype": "float64",
                  "stats": {
                    "unique_count": 517,
                    "nan_count": 0,
                    "min": "0.078",
                    "max": "2.42",
                    "histogram": [
                      {
                        "bin_start": 0.078,
                        "bin_end": 0.31220000000000003,
                        "count": 318
                      },
                      {
                        "bin_start": 0.31220000000000003,
                        "bin_end": 0.5464,
                        "count": 206
                      },
                      {
                        "bin_start": 0.5464,
                        "bin_end": 0.7806000000000001,
                        "count": 136
                      },
                      {
                        "bin_start": 0.7806000000000001,
                        "bin_end": 1.0148000000000001,
                        "count": 58
                      },
                      {
                        "bin_start": 1.0148000000000001,
                        "bin_end": 1.249,
                        "count": 25
                      },
                      {
                        "bin_start": 1.249,
                        "bin_end": 1.4832000000000003,
                        "count": 15
                      },
                      {
                        "bin_start": 1.4832000000000003,
                        "bin_end": 1.7174000000000003,
                        "count": 3
                      },
                      {
                        "bin_start": 1.7174000000000003,
                        "bin_end": 1.9516000000000002,
                        "count": 3
                      },
                      {
                        "bin_start": 1.9516000000000002,
                        "bin_end": 2.1858,
                        "count": 1
                      },
                      {
                        "bin_start": 2.1858,
                        "bin_end": 2.42,
                        "count": 3
                      }
                    ]
                  }
                },
                {
                  "name": "age",
                  "dtype": "int64",
                  "stats": {
                    "unique_count": 52,
                    "nan_count": 0,
                    "min": "21",
                    "max": "81",
                    "histogram": [
                      {
                        "bin_start": 21,
                        "bin_end": 27,
                        "count": 300
                      },
                      {
                        "bin_start": 27,
                        "bin_end": 33,
                        "count": 157
                      },
                      {
                        "bin_start": 33,
                        "bin_end": 39,
                        "count": 92
                      },
                      {
                        "bin_start": 39,
                        "bin_end": 45,
                        "count": 86
                      },
                      {
                        "bin_start": 45,
                        "bin_end": 51,
                        "count": 52
                      },
                      {
                        "bin_start": 51,
                        "bin_end": 57,
                        "count": 34
                      },
                      {
                        "bin_start": 57,
                        "bin_end": 63,
                        "count": 26
                      },
                      {
                        "bin_start": 63,
                        "bin_end": 69,
                        "count": 16
                      },
                      {
                        "bin_start": 69,
                        "bin_end": 75,
                        "count": 4
                      },
                      {
                        "bin_start": 75,
                        "bin_end": 81,
                        "count": 1
                      }
                    ]
                  }
                },
                {
                  "name": "class",
                  "dtype": "int64",
                  "stats": {
                    "unique_count": 2,
                    "nan_count": 0,
                    "min": "0",
                    "max": "1",
                    "histogram": [
                      {
                        "bin_start": 0,
                        "bin_end": 0.1,
                        "count": 500
                      },
                      {
                        "bin_start": 0.1,
                        "bin_end": 0.2,
                        "count": 0
                      },
                      {
                        "bin_start": 0.2,
                        "bin_end": 0.30000000000000004,
                        "count": 0
                      },
                      {
                        "bin_start": 0.30000000000000004,
                        "bin_end": 0.4,
                        "count": 0
                      },
                      {
                        "bin_start": 0.4,
                        "bin_end": 0.5,
                        "count": 0
                      },
                      {
                        "bin_start": 0.5,
                        "bin_end": 0.6000000000000001,
                        "count": 0
                      },
                      {
                        "bin_start": 0.6000000000000001,
                        "bin_end": 0.7000000000000001,
                        "count": 0
                      },
                      {
                        "bin_start": 0.7000000000000001,
                        "bin_end": 0.8,
                        "count": 0
                      },
                      {
                        "bin_start": 0.8,
                        "bin_end": 0.9,
                        "count": 0
                      },
                      {
                        "bin_start": 0.9,
                        "bin_end": 1,
                        "count": 268
                      }
                    ]
                  }
                },
                {
                  "name": "_deepnote_index_column",
                  "dtype": "int64"
                }
              ],
              "rows": [
                {
                  "preg": 0,
                  "plas": 102,
                  "pres": 52,
                  "skin": 0,
                  "test": 0,
                  "mass": 25.1,
                  "pedi": 0.078,
                  "age": 21,
                  "class": 0,
                  "_deepnote_index_column": 268
                },
                {
                  "preg": 6,
                  "plas": 87,
                  "pres": 80,
                  "skin": 0,
                  "test": 0,
                  "mass": 23.2,
                  "pedi": 0.084,
                  "age": 32,
                  "class": 0,
                  "_deepnote_index_column": 180
                },
                {
                  "preg": 1,
                  "plas": 173,
                  "pres": 74,
                  "skin": 0,
                  "test": 0,
                  "mass": 36.8,
                  "pedi": 0.088,
                  "age": 38,
                  "class": 1,
                  "_deepnote_index_column": 598
                },
                {
                  "preg": 2,
                  "plas": 74,
                  "pres": 0,
                  "skin": 0,
                  "test": 0,
                  "mass": 0,
                  "pedi": 0.102,
                  "age": 22,
                  "class": 0,
                  "_deepnote_index_column": 81
                },
                {
                  "preg": 2,
                  "plas": 99,
                  "pres": 0,
                  "skin": 0,
                  "test": 0,
                  "mass": 22.2,
                  "pedi": 0.108,
                  "age": 23,
                  "class": 0,
                  "_deepnote_index_column": 430
                },
                {
                  "preg": 6,
                  "plas": 125,
                  "pres": 76,
                  "skin": 0,
                  "test": 0,
                  "mass": 33.8,
                  "pedi": 0.121,
                  "age": 54,
                  "class": 1,
                  "_deepnote_index_column": 560
                },
                {
                  "preg": 3,
                  "plas": 102,
                  "pres": 74,
                  "skin": 0,
                  "test": 0,
                  "mass": 29.5,
                  "pedi": 0.121,
                  "age": 32,
                  "class": 0,
                  "_deepnote_index_column": 714
                },
                {
                  "preg": 4,
                  "plas": 114,
                  "pres": 64,
                  "skin": 0,
                  "test": 0,
                  "mass": 28.9,
                  "pedi": 0.126,
                  "age": 24,
                  "class": 0,
                  "_deepnote_index_column": 474
                },
                {
                  "preg": 3,
                  "plas": 121,
                  "pres": 52,
                  "skin": 0,
                  "test": 0,
                  "mass": 36,
                  "pedi": 0.127,
                  "age": 25,
                  "class": 1,
                  "_deepnote_index_column": 678
                },
                {
                  "preg": 6,
                  "plas": 194,
                  "pres": 78,
                  "skin": 0,
                  "test": 0,
                  "mass": 23.5,
                  "pedi": 0.129,
                  "age": 59,
                  "class": 1,
                  "_deepnote_index_column": 319
                }
              ]
            },
            "text/plain": "     preg  plas  pres  skin  test  mass   pedi  age  class\n268     0   102    52     0     0  25.1  0.078   21      0\n180     6    87    80     0     0  23.2  0.084   32      0\n598     1   173    74     0     0  36.8  0.088   38      1\n81      2    74     0     0     0   0.0  0.102   22      0\n430     2    99     0     0     0  22.2  0.108   23      0\n..    ...   ...   ...   ...   ...   ...    ...  ...    ...\n211     0   147    85    54     0  42.8  0.375   24      0\n120     0   162    76    56   100  53.2  0.759   25      1\n57      0   100    88    60   110  46.8  0.962   31      0\n445     0   180    78    63    14  59.4  2.420   25      1\n579     2   197    70    99     0  34.7  0.575   62      1\n\n[768 rows x 9 columns]",
            "text/html": "<div>\n<style scoped>\n    .dataframe tbody tr th:only-of-type {\n        vertical-align: middle;\n    }\n\n    .dataframe tbody tr th {\n        vertical-align: top;\n    }\n\n    .dataframe thead th {\n        text-align: right;\n    }\n</style>\n<table border=\"1\" class=\"dataframe\">\n  <thead>\n    <tr style=\"text-align: right;\">\n      <th></th>\n      <th>preg</th>\n      <th>plas</th>\n      <th>pres</th>\n      <th>skin</th>\n      <th>test</th>\n      <th>mass</th>\n      <th>pedi</th>\n      <th>age</th>\n      <th>class</th>\n    </tr>\n  </thead>\n  <tbody>\n    <tr>\n      <th>268</th>\n      <td>0</td>\n      <td>102</td>\n      <td>52</td>\n      <td>0</td>\n      <td>0</td>\n      <td>25.1</td>\n      <td>0.078</td>\n      <td>21</td>\n      <td>0</td>\n    </tr>\n    <tr>\n      <th>180</th>\n      <td>6</td>\n      <td>87</td>\n      <td>80</td>\n      <td>0</td>\n      <td>0</td>\n      <td>23.2</td>\n      <td>0.084</td>\n      <td>32</td>\n      <td>0</td>\n    </tr>\n    <tr>\n      <th>598</th>\n      <td>1</td>\n      <td>173</td>\n      <td>74</td>\n      <td>0</td>\n      <td>0</td>\n      <td>36.8</td>\n      <td>0.088</td>\n      <td>38</td>\n      <td>1</td>\n    </tr>\n    <tr>\n      <th>81</th>\n      <td>2</td>\n      <td>74</td>\n      <td>0</td>\n      <td>0</td>\n      <td>0</td>\n      <td>0.0</td>\n      <td>0.102</td>\n      <td>22</td>\n      <td>0</td>\n    </tr>\n    <tr>\n      <th>430</th>\n      <td>2</td>\n      <td>99</td>\n      <td>0</td>\n      <td>0</td>\n      <td>0</td>\n      <td>22.2</td>\n      <td>0.108</td>\n      <td>23</td>\n      <td>0</td>\n    </tr>\n    <tr>\n      <th>...</th>\n      <td>...</td>\n      <td>...</td>\n      <td>...</td>\n      <td>...</td>\n      <td>...</td>\n      <td>...</td>\n      <td>...</td>\n      <td>...</td>\n      <td>...</td>\n    </tr>\n    <tr>\n      <th>211</th>\n      <td>0</td>\n      <td>147</td>\n      <td>85</td>\n      <td>54</td>\n      <td>0</td>\n      <td>42.8</td>\n      <td>0.375</td>\n      <td>24</td>\n      <td>0</td>\n    </tr>\n    <tr>\n      <th>120</th>\n      <td>0</td>\n      <td>162</td>\n      <td>76</td>\n      <td>56</td>\n      <td>100</td>\n      <td>53.2</td>\n      <td>0.759</td>\n      <td>25</td>\n      <td>1</td>\n    </tr>\n    <tr>\n      <th>57</th>\n      <td>0</td>\n      <td>100</td>\n      <td>88</td>\n      <td>60</td>\n      <td>110</td>\n      <td>46.8</td>\n      <td>0.962</td>\n      <td>31</td>\n      <td>0</td>\n    </tr>\n    <tr>\n      <th>445</th>\n      <td>0</td>\n      <td>180</td>\n      <td>78</td>\n      <td>63</td>\n      <td>14</td>\n      <td>59.4</td>\n      <td>2.420</td>\n      <td>25</td>\n      <td>1</td>\n    </tr>\n    <tr>\n      <th>579</th>\n      <td>2</td>\n      <td>197</td>\n      <td>70</td>\n      <td>99</td>\n      <td>0</td>\n      <td>34.7</td>\n      <td>0.575</td>\n      <td>62</td>\n      <td>1</td>\n    </tr>\n  </tbody>\n</table>\n<p>768 rows × 9 columns</p>\n</div>"
          },
          "metadata": {}
        }
      ],
      "execution_count": 12
    },
    {
      "cell_type": "markdown",
      "source": "Now let's find the 4 largest values for `\"age\"`",
      "metadata": {
        "id": "BIJkXsK4ch-u",
        "colab_type": "text",
        "cell_id": "cc8ed55910ad405d8ba652550bed112d",
        "deepnote_cell_type": "markdown"
      }
    },
    {
      "cell_type": "code",
      "source": "df.nlargest(4, 'age')",
      "metadata": {
        "id": "kSl28jLLdAF9",
        "colab": {},
        "colab_type": "code",
        "source_hash": "579be585",
        "execution_start": 1689099101668,
        "execution_millis": 536,
        "deepnote_to_be_reexecuted": false,
        "cell_id": "2509842b7f5243afa7901ab2cceb8983",
        "deepnote_cell_type": "code"
      },
      "outputs": [
        {
          "output_type": "execute_result",
          "execution_count": 13,
          "data": {
            "application/vnd.deepnote.dataframe.v3+json": {
              "column_count": 9,
              "row_count": 4,
              "columns": [
                {
                  "name": "preg",
                  "dtype": "int64",
                  "stats": {
                    "unique_count": 4,
                    "nan_count": 0,
                    "min": "2",
                    "max": "9",
                    "histogram": [
                      {
                        "bin_start": 2,
                        "bin_end": 2.7,
                        "count": 1
                      },
                      {
                        "bin_start": 2.7,
                        "bin_end": 3.4,
                        "count": 0
                      },
                      {
                        "bin_start": 3.4,
                        "bin_end": 4.1,
                        "count": 1
                      },
                      {
                        "bin_start": 4.1,
                        "bin_end": 4.8,
                        "count": 0
                      },
                      {
                        "bin_start": 4.8,
                        "bin_end": 5.5,
                        "count": 1
                      },
                      {
                        "bin_start": 5.5,
                        "bin_end": 6.199999999999999,
                        "count": 0
                      },
                      {
                        "bin_start": 6.199999999999999,
                        "bin_end": 6.8999999999999995,
                        "count": 0
                      },
                      {
                        "bin_start": 6.8999999999999995,
                        "bin_end": 7.6,
                        "count": 0
                      },
                      {
                        "bin_start": 7.6,
                        "bin_end": 8.3,
                        "count": 0
                      },
                      {
                        "bin_start": 8.3,
                        "bin_end": 9,
                        "count": 1
                      }
                    ]
                  }
                },
                {
                  "name": "plas",
                  "dtype": "int64",
                  "stats": {
                    "unique_count": 4,
                    "nan_count": 0,
                    "min": "119",
                    "max": "145",
                    "histogram": [
                      {
                        "bin_start": 119,
                        "bin_end": 121.6,
                        "count": 1
                      },
                      {
                        "bin_start": 121.6,
                        "bin_end": 124.2,
                        "count": 0
                      },
                      {
                        "bin_start": 124.2,
                        "bin_end": 126.8,
                        "count": 0
                      },
                      {
                        "bin_start": 126.8,
                        "bin_end": 129.4,
                        "count": 0
                      },
                      {
                        "bin_start": 129.4,
                        "bin_end": 132,
                        "count": 0
                      },
                      {
                        "bin_start": 132,
                        "bin_end": 134.6,
                        "count": 2
                      },
                      {
                        "bin_start": 134.6,
                        "bin_end": 137.2,
                        "count": 0
                      },
                      {
                        "bin_start": 137.2,
                        "bin_end": 139.8,
                        "count": 0
                      },
                      {
                        "bin_start": 139.8,
                        "bin_end": 142.4,
                        "count": 0
                      },
                      {
                        "bin_start": 142.4,
                        "bin_end": 145,
                        "count": 1
                      }
                    ]
                  }
                },
                {
                  "name": "pres",
                  "dtype": "int64",
                  "stats": {
                    "unique_count": 4,
                    "nan_count": 0,
                    "min": "0",
                    "max": "82",
                    "histogram": [
                      {
                        "bin_start": 0,
                        "bin_end": 8.2,
                        "count": 1
                      },
                      {
                        "bin_start": 8.2,
                        "bin_end": 16.4,
                        "count": 0
                      },
                      {
                        "bin_start": 16.4,
                        "bin_end": 24.599999999999998,
                        "count": 0
                      },
                      {
                        "bin_start": 24.599999999999998,
                        "bin_end": 32.8,
                        "count": 0
                      },
                      {
                        "bin_start": 32.8,
                        "bin_end": 41,
                        "count": 0
                      },
                      {
                        "bin_start": 41,
                        "bin_end": 49.199999999999996,
                        "count": 0
                      },
                      {
                        "bin_start": 49.199999999999996,
                        "bin_end": 57.39999999999999,
                        "count": 0
                      },
                      {
                        "bin_start": 57.39999999999999,
                        "bin_end": 65.6,
                        "count": 0
                      },
                      {
                        "bin_start": 65.6,
                        "bin_end": 73.8,
                        "count": 0
                      },
                      {
                        "bin_start": 73.8,
                        "bin_end": 82,
                        "count": 3
                      }
                    ]
                  }
                },
                {
                  "name": "skin",
                  "dtype": "int64",
                  "stats": {
                    "unique_count": 3,
                    "nan_count": 0,
                    "min": "0",
                    "max": "33",
                    "histogram": [
                      {
                        "bin_start": 0,
                        "bin_end": 3.3,
                        "count": 2
                      },
                      {
                        "bin_start": 3.3,
                        "bin_end": 6.6,
                        "count": 0
                      },
                      {
                        "bin_start": 6.6,
                        "bin_end": 9.899999999999999,
                        "count": 0
                      },
                      {
                        "bin_start": 9.899999999999999,
                        "bin_end": 13.2,
                        "count": 0
                      },
                      {
                        "bin_start": 13.2,
                        "bin_end": 16.5,
                        "count": 0
                      },
                      {
                        "bin_start": 16.5,
                        "bin_end": 19.799999999999997,
                        "count": 1
                      },
                      {
                        "bin_start": 19.799999999999997,
                        "bin_end": 23.099999999999998,
                        "count": 0
                      },
                      {
                        "bin_start": 23.099999999999998,
                        "bin_end": 26.4,
                        "count": 0
                      },
                      {
                        "bin_start": 26.4,
                        "bin_end": 29.7,
                        "count": 0
                      },
                      {
                        "bin_start": 29.7,
                        "bin_end": 33,
                        "count": 1
                      }
                    ]
                  }
                },
                {
                  "name": "test",
                  "dtype": "int64",
                  "stats": {
                    "unique_count": 2,
                    "nan_count": 0,
                    "min": "0",
                    "max": "60",
                    "histogram": [
                      {
                        "bin_start": 0,
                        "bin_end": 6,
                        "count": 3
                      },
                      {
                        "bin_start": 6,
                        "bin_end": 12,
                        "count": 0
                      },
                      {
                        "bin_start": 12,
                        "bin_end": 18,
                        "count": 0
                      },
                      {
                        "bin_start": 18,
                        "bin_end": 24,
                        "count": 0
                      },
                      {
                        "bin_start": 24,
                        "bin_end": 30,
                        "count": 0
                      },
                      {
                        "bin_start": 30,
                        "bin_end": 36,
                        "count": 0
                      },
                      {
                        "bin_start": 36,
                        "bin_end": 42,
                        "count": 0
                      },
                      {
                        "bin_start": 42,
                        "bin_end": 48,
                        "count": 0
                      },
                      {
                        "bin_start": 48,
                        "bin_end": 54,
                        "count": 0
                      },
                      {
                        "bin_start": 54,
                        "bin_end": 60,
                        "count": 1
                      }
                    ]
                  }
                },
                {
                  "name": "mass",
                  "dtype": "float64",
                  "stats": {
                    "unique_count": 4,
                    "nan_count": 0,
                    "min": "19.6",
                    "max": "32.5",
                    "histogram": [
                      {
                        "bin_start": 19.6,
                        "bin_end": 20.89,
                        "count": 1
                      },
                      {
                        "bin_start": 20.89,
                        "bin_end": 22.18,
                        "count": 0
                      },
                      {
                        "bin_start": 22.18,
                        "bin_end": 23.47,
                        "count": 0
                      },
                      {
                        "bin_start": 23.47,
                        "bin_end": 24.76,
                        "count": 0
                      },
                      {
                        "bin_start": 24.76,
                        "bin_end": 26.05,
                        "count": 1
                      },
                      {
                        "bin_start": 26.05,
                        "bin_end": 27.34,
                        "count": 1
                      },
                      {
                        "bin_start": 27.34,
                        "bin_end": 28.630000000000003,
                        "count": 0
                      },
                      {
                        "bin_start": 28.630000000000003,
                        "bin_end": 29.92,
                        "count": 0
                      },
                      {
                        "bin_start": 29.92,
                        "bin_end": 31.21,
                        "count": 0
                      },
                      {
                        "bin_start": 31.21,
                        "bin_end": 32.5,
                        "count": 1
                      }
                    ]
                  }
                },
                {
                  "name": "pedi",
                  "dtype": "float64",
                  "stats": {
                    "unique_count": 4,
                    "nan_count": 0,
                    "min": "0.186",
                    "max": "0.832",
                    "histogram": [
                      {
                        "bin_start": 0.186,
                        "bin_end": 0.2506,
                        "count": 2
                      },
                      {
                        "bin_start": 0.2506,
                        "bin_end": 0.3152,
                        "count": 0
                      },
                      {
                        "bin_start": 0.3152,
                        "bin_end": 0.37979999999999997,
                        "count": 0
                      },
                      {
                        "bin_start": 0.37979999999999997,
                        "bin_end": 0.44439999999999996,
                        "count": 0
                      },
                      {
                        "bin_start": 0.44439999999999996,
                        "bin_end": 0.5089999999999999,
                        "count": 1
                      },
                      {
                        "bin_start": 0.5089999999999999,
                        "bin_end": 0.5735999999999999,
                        "count": 0
                      },
                      {
                        "bin_start": 0.5735999999999999,
                        "bin_end": 0.6381999999999999,
                        "count": 0
                      },
                      {
                        "bin_start": 0.6381999999999999,
                        "bin_end": 0.7027999999999999,
                        "count": 0
                      },
                      {
                        "bin_start": 0.7027999999999999,
                        "bin_end": 0.7673999999999999,
                        "count": 0
                      },
                      {
                        "bin_start": 0.7673999999999999,
                        "bin_end": 0.832,
                        "count": 1
                      }
                    ]
                  }
                },
                {
                  "name": "age",
                  "dtype": "int64",
                  "stats": {
                    "unique_count": 4,
                    "nan_count": 0,
                    "min": "69",
                    "max": "81",
                    "histogram": [
                      {
                        "bin_start": 69,
                        "bin_end": 70.2,
                        "count": 2
                      },
                      {
                        "bin_start": 70.2,
                        "bin_end": 71.4,
                        "count": 0
                      },
                      {
                        "bin_start": 71.4,
                        "bin_end": 72.6,
                        "count": 1
                      },
                      {
                        "bin_start": 72.6,
                        "bin_end": 73.8,
                        "count": 0
                      },
                      {
                        "bin_start": 73.8,
                        "bin_end": 75,
                        "count": 0
                      },
                      {
                        "bin_start": 75,
                        "bin_end": 76.2,
                        "count": 0
                      },
                      {
                        "bin_start": 76.2,
                        "bin_end": 77.4,
                        "count": 0
                      },
                      {
                        "bin_start": 77.4,
                        "bin_end": 78.6,
                        "count": 0
                      },
                      {
                        "bin_start": 78.6,
                        "bin_end": 79.8,
                        "count": 0
                      },
                      {
                        "bin_start": 79.8,
                        "bin_end": 81,
                        "count": 1
                      }
                    ]
                  }
                },
                {
                  "name": "class",
                  "dtype": "int64",
                  "stats": {
                    "unique_count": 2,
                    "nan_count": 0,
                    "min": "0",
                    "max": "1",
                    "histogram": [
                      {
                        "bin_start": 0,
                        "bin_end": 0.1,
                        "count": 3
                      },
                      {
                        "bin_start": 0.1,
                        "bin_end": 0.2,
                        "count": 0
                      },
                      {
                        "bin_start": 0.2,
                        "bin_end": 0.30000000000000004,
                        "count": 0
                      },
                      {
                        "bin_start": 0.30000000000000004,
                        "bin_end": 0.4,
                        "count": 0
                      },
                      {
                        "bin_start": 0.4,
                        "bin_end": 0.5,
                        "count": 0
                      },
                      {
                        "bin_start": 0.5,
                        "bin_end": 0.6000000000000001,
                        "count": 0
                      },
                      {
                        "bin_start": 0.6000000000000001,
                        "bin_end": 0.7000000000000001,
                        "count": 0
                      },
                      {
                        "bin_start": 0.7000000000000001,
                        "bin_end": 0.8,
                        "count": 0
                      },
                      {
                        "bin_start": 0.8,
                        "bin_end": 0.9,
                        "count": 0
                      },
                      {
                        "bin_start": 0.9,
                        "bin_end": 1,
                        "count": 1
                      }
                    ]
                  }
                },
                {
                  "name": "_deepnote_index_column",
                  "dtype": "int64"
                }
              ],
              "rows": [
                {
                  "preg": 9,
                  "plas": 134,
                  "pres": 74,
                  "skin": 33,
                  "test": 60,
                  "mass": 25.9,
                  "pedi": 0.46,
                  "age": 81,
                  "class": 0,
                  "_deepnote_index_column": 459
                },
                {
                  "preg": 2,
                  "plas": 119,
                  "pres": 0,
                  "skin": 0,
                  "test": 0,
                  "mass": 19.6,
                  "pedi": 0.832,
                  "age": 72,
                  "class": 0,
                  "_deepnote_index_column": 453
                },
                {
                  "preg": 4,
                  "plas": 145,
                  "pres": 82,
                  "skin": 18,
                  "test": 0,
                  "mass": 32.5,
                  "pedi": 0.235,
                  "age": 70,
                  "class": 1,
                  "_deepnote_index_column": 666
                },
                {
                  "preg": 5,
                  "plas": 132,
                  "pres": 80,
                  "skin": 0,
                  "test": 0,
                  "mass": 26.8,
                  "pedi": 0.186,
                  "age": 69,
                  "class": 0,
                  "_deepnote_index_column": 123
                }
              ]
            },
            "text/plain": "     preg  plas  pres  skin  test  mass   pedi  age  class\n459     9   134    74    33    60  25.9  0.460   81      0\n453     2   119     0     0     0  19.6  0.832   72      0\n666     4   145    82    18     0  32.5  0.235   70      1\n123     5   132    80     0     0  26.8  0.186   69      0",
            "text/html": "<div>\n<style scoped>\n    .dataframe tbody tr th:only-of-type {\n        vertical-align: middle;\n    }\n\n    .dataframe tbody tr th {\n        vertical-align: top;\n    }\n\n    .dataframe thead th {\n        text-align: right;\n    }\n</style>\n<table border=\"1\" class=\"dataframe\">\n  <thead>\n    <tr style=\"text-align: right;\">\n      <th></th>\n      <th>preg</th>\n      <th>plas</th>\n      <th>pres</th>\n      <th>skin</th>\n      <th>test</th>\n      <th>mass</th>\n      <th>pedi</th>\n      <th>age</th>\n      <th>class</th>\n    </tr>\n  </thead>\n  <tbody>\n    <tr>\n      <th>459</th>\n      <td>9</td>\n      <td>134</td>\n      <td>74</td>\n      <td>33</td>\n      <td>60</td>\n      <td>25.9</td>\n      <td>0.460</td>\n      <td>81</td>\n      <td>0</td>\n    </tr>\n    <tr>\n      <th>453</th>\n      <td>2</td>\n      <td>119</td>\n      <td>0</td>\n      <td>0</td>\n      <td>0</td>\n      <td>19.6</td>\n      <td>0.832</td>\n      <td>72</td>\n      <td>0</td>\n    </tr>\n    <tr>\n      <th>666</th>\n      <td>4</td>\n      <td>145</td>\n      <td>82</td>\n      <td>18</td>\n      <td>0</td>\n      <td>32.5</td>\n      <td>0.235</td>\n      <td>70</td>\n      <td>1</td>\n    </tr>\n    <tr>\n      <th>123</th>\n      <td>5</td>\n      <td>132</td>\n      <td>80</td>\n      <td>0</td>\n      <td>0</td>\n      <td>26.8</td>\n      <td>0.186</td>\n      <td>69</td>\n      <td>0</td>\n    </tr>\n  </tbody>\n</table>\n</div>"
          },
          "metadata": {}
        }
      ],
      "execution_count": 13
    },
    {
      "cell_type": "markdown",
      "source": "Now find the smallest 4 values for `\"pedi\"` and `\"plas\"` in reverse order (smallest to largest).",
      "metadata": {
        "id": "fJRwe8UfqvNG",
        "colab_type": "text",
        "cell_id": "130b91c6dd524728992934faf862c98d",
        "deepnote_cell_type": "markdown"
      }
    },
    {
      "cell_type": "code",
      "source": "df.nsmallest(4, ['pedi', 'plas'])[::-1]",
      "metadata": {
        "id": "icQcbPg1quNI",
        "colab": {},
        "colab_type": "code",
        "source_hash": "acafe63",
        "execution_start": 1689099101731,
        "execution_millis": 166,
        "deepnote_to_be_reexecuted": false,
        "cell_id": "9a365f4d60914f15b842870ecd246ef7",
        "deepnote_cell_type": "code"
      },
      "outputs": [
        {
          "output_type": "execute_result",
          "execution_count": 14,
          "data": {
            "application/vnd.deepnote.dataframe.v3+json": {
              "column_count": 9,
              "row_count": 4,
              "columns": [
                {
                  "name": "preg",
                  "dtype": "int64",
                  "stats": {
                    "unique_count": 3,
                    "nan_count": 0,
                    "min": "0",
                    "max": "6",
                    "histogram": [
                      {
                        "bin_start": 0,
                        "bin_end": 0.6,
                        "count": 1
                      },
                      {
                        "bin_start": 0.6,
                        "bin_end": 1.2,
                        "count": 0
                      },
                      {
                        "bin_start": 1.2,
                        "bin_end": 1.7999999999999998,
                        "count": 0
                      },
                      {
                        "bin_start": 1.7999999999999998,
                        "bin_end": 2.4,
                        "count": 1
                      },
                      {
                        "bin_start": 2.4,
                        "bin_end": 3,
                        "count": 0
                      },
                      {
                        "bin_start": 3,
                        "bin_end": 3.5999999999999996,
                        "count": 0
                      },
                      {
                        "bin_start": 3.5999999999999996,
                        "bin_end": 4.2,
                        "count": 0
                      },
                      {
                        "bin_start": 4.2,
                        "bin_end": 4.8,
                        "count": 0
                      },
                      {
                        "bin_start": 4.8,
                        "bin_end": 5.3999999999999995,
                        "count": 0
                      },
                      {
                        "bin_start": 5.3999999999999995,
                        "bin_end": 6,
                        "count": 2
                      }
                    ]
                  }
                },
                {
                  "name": "plas",
                  "dtype": "int64",
                  "stats": {
                    "unique_count": 4,
                    "nan_count": 0,
                    "min": "87",
                    "max": "102",
                    "histogram": [
                      {
                        "bin_start": 87,
                        "bin_end": 88.5,
                        "count": 1
                      },
                      {
                        "bin_start": 88.5,
                        "bin_end": 90,
                        "count": 0
                      },
                      {
                        "bin_start": 90,
                        "bin_end": 91.5,
                        "count": 1
                      },
                      {
                        "bin_start": 91.5,
                        "bin_end": 93,
                        "count": 1
                      },
                      {
                        "bin_start": 93,
                        "bin_end": 94.5,
                        "count": 0
                      },
                      {
                        "bin_start": 94.5,
                        "bin_end": 96,
                        "count": 0
                      },
                      {
                        "bin_start": 96,
                        "bin_end": 97.5,
                        "count": 0
                      },
                      {
                        "bin_start": 97.5,
                        "bin_end": 99,
                        "count": 0
                      },
                      {
                        "bin_start": 99,
                        "bin_end": 100.5,
                        "count": 0
                      },
                      {
                        "bin_start": 100.5,
                        "bin_end": 102,
                        "count": 1
                      }
                    ]
                  }
                },
                {
                  "name": "pres",
                  "dtype": "int64",
                  "stats": {
                    "unique_count": 4,
                    "nan_count": 0,
                    "min": "52",
                    "max": "80",
                    "histogram": [
                      {
                        "bin_start": 52,
                        "bin_end": 54.8,
                        "count": 1
                      },
                      {
                        "bin_start": 54.8,
                        "bin_end": 57.6,
                        "count": 0
                      },
                      {
                        "bin_start": 57.6,
                        "bin_end": 60.4,
                        "count": 0
                      },
                      {
                        "bin_start": 60.4,
                        "bin_end": 63.2,
                        "count": 1
                      },
                      {
                        "bin_start": 63.2,
                        "bin_end": 66,
                        "count": 0
                      },
                      {
                        "bin_start": 66,
                        "bin_end": 68.8,
                        "count": 0
                      },
                      {
                        "bin_start": 68.8,
                        "bin_end": 71.6,
                        "count": 1
                      },
                      {
                        "bin_start": 71.6,
                        "bin_end": 74.4,
                        "count": 0
                      },
                      {
                        "bin_start": 74.4,
                        "bin_end": 77.2,
                        "count": 0
                      },
                      {
                        "bin_start": 77.2,
                        "bin_end": 80,
                        "count": 1
                      }
                    ]
                  }
                },
                {
                  "name": "skin",
                  "dtype": "int64",
                  "stats": {
                    "unique_count": 3,
                    "nan_count": 0,
                    "min": "0",
                    "max": "32",
                    "histogram": [
                      {
                        "bin_start": 0,
                        "bin_end": 3.2,
                        "count": 2
                      },
                      {
                        "bin_start": 3.2,
                        "bin_end": 6.4,
                        "count": 0
                      },
                      {
                        "bin_start": 6.4,
                        "bin_end": 9.600000000000001,
                        "count": 0
                      },
                      {
                        "bin_start": 9.600000000000001,
                        "bin_end": 12.8,
                        "count": 0
                      },
                      {
                        "bin_start": 12.8,
                        "bin_end": 16,
                        "count": 0
                      },
                      {
                        "bin_start": 16,
                        "bin_end": 19.200000000000003,
                        "count": 1
                      },
                      {
                        "bin_start": 19.200000000000003,
                        "bin_end": 22.400000000000002,
                        "count": 0
                      },
                      {
                        "bin_start": 22.400000000000002,
                        "bin_end": 25.6,
                        "count": 0
                      },
                      {
                        "bin_start": 25.6,
                        "bin_end": 28.8,
                        "count": 0
                      },
                      {
                        "bin_start": 28.8,
                        "bin_end": 32,
                        "count": 1
                      }
                    ]
                  }
                },
                {
                  "name": "test",
                  "dtype": "int64",
                  "stats": {
                    "unique_count": 2,
                    "nan_count": 0,
                    "min": "0",
                    "max": "126",
                    "histogram": [
                      {
                        "bin_start": 0,
                        "bin_end": 12.6,
                        "count": 3
                      },
                      {
                        "bin_start": 12.6,
                        "bin_end": 25.2,
                        "count": 0
                      },
                      {
                        "bin_start": 25.2,
                        "bin_end": 37.8,
                        "count": 0
                      },
                      {
                        "bin_start": 37.8,
                        "bin_end": 50.4,
                        "count": 0
                      },
                      {
                        "bin_start": 50.4,
                        "bin_end": 63,
                        "count": 0
                      },
                      {
                        "bin_start": 63,
                        "bin_end": 75.6,
                        "count": 0
                      },
                      {
                        "bin_start": 75.6,
                        "bin_end": 88.2,
                        "count": 0
                      },
                      {
                        "bin_start": 88.2,
                        "bin_end": 100.8,
                        "count": 0
                      },
                      {
                        "bin_start": 100.8,
                        "bin_end": 113.39999999999999,
                        "count": 0
                      },
                      {
                        "bin_start": 113.39999999999999,
                        "bin_end": 126,
                        "count": 1
                      }
                    ]
                  }
                },
                {
                  "name": "mass",
                  "dtype": "float64",
                  "stats": {
                    "unique_count": 4,
                    "nan_count": 0,
                    "min": "23.2",
                    "max": "32.0",
                    "histogram": [
                      {
                        "bin_start": 23.2,
                        "bin_end": 24.08,
                        "count": 1
                      },
                      {
                        "bin_start": 24.08,
                        "bin_end": 24.96,
                        "count": 0
                      },
                      {
                        "bin_start": 24.96,
                        "bin_end": 25.84,
                        "count": 1
                      },
                      {
                        "bin_start": 25.84,
                        "bin_end": 26.72,
                        "count": 0
                      },
                      {
                        "bin_start": 26.72,
                        "bin_end": 27.6,
                        "count": 1
                      },
                      {
                        "bin_start": 27.6,
                        "bin_end": 28.48,
                        "count": 0
                      },
                      {
                        "bin_start": 28.48,
                        "bin_end": 29.36,
                        "count": 0
                      },
                      {
                        "bin_start": 29.36,
                        "bin_end": 30.240000000000002,
                        "count": 0
                      },
                      {
                        "bin_start": 30.240000000000002,
                        "bin_end": 31.12,
                        "count": 0
                      },
                      {
                        "bin_start": 31.12,
                        "bin_end": 32,
                        "count": 1
                      }
                    ]
                  }
                },
                {
                  "name": "pedi",
                  "dtype": "float64",
                  "stats": {
                    "unique_count": 3,
                    "nan_count": 0,
                    "min": "0.078",
                    "max": "0.085",
                    "histogram": [
                      {
                        "bin_start": 0.078,
                        "bin_end": 0.0787,
                        "count": 1
                      },
                      {
                        "bin_start": 0.0787,
                        "bin_end": 0.0794,
                        "count": 0
                      },
                      {
                        "bin_start": 0.0794,
                        "bin_end": 0.0801,
                        "count": 0
                      },
                      {
                        "bin_start": 0.0801,
                        "bin_end": 0.0808,
                        "count": 0
                      },
                      {
                        "bin_start": 0.0808,
                        "bin_end": 0.0815,
                        "count": 0
                      },
                      {
                        "bin_start": 0.0815,
                        "bin_end": 0.08220000000000001,
                        "count": 0
                      },
                      {
                        "bin_start": 0.08220000000000001,
                        "bin_end": 0.0829,
                        "count": 0
                      },
                      {
                        "bin_start": 0.0829,
                        "bin_end": 0.08360000000000001,
                        "count": 0
                      },
                      {
                        "bin_start": 0.08360000000000001,
                        "bin_end": 0.0843,
                        "count": 1
                      },
                      {
                        "bin_start": 0.0843,
                        "bin_end": 0.085,
                        "count": 2
                      }
                    ]
                  }
                },
                {
                  "name": "age",
                  "dtype": "int64",
                  "stats": {
                    "unique_count": 4,
                    "nan_count": 0,
                    "min": "21",
                    "max": "46",
                    "histogram": [
                      {
                        "bin_start": 21,
                        "bin_end": 23.5,
                        "count": 2
                      },
                      {
                        "bin_start": 23.5,
                        "bin_end": 26,
                        "count": 0
                      },
                      {
                        "bin_start": 26,
                        "bin_end": 28.5,
                        "count": 0
                      },
                      {
                        "bin_start": 28.5,
                        "bin_end": 31,
                        "count": 0
                      },
                      {
                        "bin_start": 31,
                        "bin_end": 33.5,
                        "count": 1
                      },
                      {
                        "bin_start": 33.5,
                        "bin_end": 36,
                        "count": 0
                      },
                      {
                        "bin_start": 36,
                        "bin_end": 38.5,
                        "count": 0
                      },
                      {
                        "bin_start": 38.5,
                        "bin_end": 41,
                        "count": 0
                      },
                      {
                        "bin_start": 41,
                        "bin_end": 43.5,
                        "count": 0
                      },
                      {
                        "bin_start": 43.5,
                        "bin_end": 46,
                        "count": 1
                      }
                    ]
                  }
                },
                {
                  "name": "class",
                  "dtype": "int64",
                  "stats": {
                    "unique_count": 1,
                    "nan_count": 0,
                    "min": "0",
                    "max": "0",
                    "histogram": [
                      {
                        "bin_start": -0.5,
                        "bin_end": -0.4,
                        "count": 0
                      },
                      {
                        "bin_start": -0.4,
                        "bin_end": -0.3,
                        "count": 0
                      },
                      {
                        "bin_start": -0.3,
                        "bin_end": -0.19999999999999996,
                        "count": 0
                      },
                      {
                        "bin_start": -0.19999999999999996,
                        "bin_end": -0.09999999999999998,
                        "count": 0
                      },
                      {
                        "bin_start": -0.09999999999999998,
                        "bin_end": 0,
                        "count": 0
                      },
                      {
                        "bin_start": 0,
                        "bin_end": 0.10000000000000009,
                        "count": 4
                      },
                      {
                        "bin_start": 0.10000000000000009,
                        "bin_end": 0.20000000000000007,
                        "count": 0
                      },
                      {
                        "bin_start": 0.20000000000000007,
                        "bin_end": 0.30000000000000004,
                        "count": 0
                      },
                      {
                        "bin_start": 0.30000000000000004,
                        "bin_end": 0.4,
                        "count": 0
                      },
                      {
                        "bin_start": 0.4,
                        "bin_end": 0.5,
                        "count": 0
                      }
                    ]
                  }
                },
                {
                  "name": "_deepnote_index_column",
                  "dtype": "int64"
                }
              ],
              "rows": [
                {
                  "preg": 6,
                  "plas": 92,
                  "pres": 62,
                  "skin": 32,
                  "test": 126,
                  "mass": 32,
                  "pedi": 0.085,
                  "age": 46,
                  "class": 0,
                  "_deepnote_index_column": 567
                },
                {
                  "preg": 2,
                  "plas": 90,
                  "pres": 70,
                  "skin": 17,
                  "test": 0,
                  "mass": 27.3,
                  "pedi": 0.085,
                  "age": 22,
                  "class": 0,
                  "_deepnote_index_column": 149
                },
                {
                  "preg": 6,
                  "plas": 87,
                  "pres": 80,
                  "skin": 0,
                  "test": 0,
                  "mass": 23.2,
                  "pedi": 0.084,
                  "age": 32,
                  "class": 0,
                  "_deepnote_index_column": 180
                },
                {
                  "preg": 0,
                  "plas": 102,
                  "pres": 52,
                  "skin": 0,
                  "test": 0,
                  "mass": 25.1,
                  "pedi": 0.078,
                  "age": 21,
                  "class": 0,
                  "_deepnote_index_column": 268
                }
              ]
            },
            "text/plain": "     preg  plas  pres  skin  test  mass   pedi  age  class\n567     6    92    62    32   126  32.0  0.085   46      0\n149     2    90    70    17     0  27.3  0.085   22      0\n180     6    87    80     0     0  23.2  0.084   32      0\n268     0   102    52     0     0  25.1  0.078   21      0",
            "text/html": "<div>\n<style scoped>\n    .dataframe tbody tr th:only-of-type {\n        vertical-align: middle;\n    }\n\n    .dataframe tbody tr th {\n        vertical-align: top;\n    }\n\n    .dataframe thead th {\n        text-align: right;\n    }\n</style>\n<table border=\"1\" class=\"dataframe\">\n  <thead>\n    <tr style=\"text-align: right;\">\n      <th></th>\n      <th>preg</th>\n      <th>plas</th>\n      <th>pres</th>\n      <th>skin</th>\n      <th>test</th>\n      <th>mass</th>\n      <th>pedi</th>\n      <th>age</th>\n      <th>class</th>\n    </tr>\n  </thead>\n  <tbody>\n    <tr>\n      <th>567</th>\n      <td>6</td>\n      <td>92</td>\n      <td>62</td>\n      <td>32</td>\n      <td>126</td>\n      <td>32.0</td>\n      <td>0.085</td>\n      <td>46</td>\n      <td>0</td>\n    </tr>\n    <tr>\n      <th>149</th>\n      <td>2</td>\n      <td>90</td>\n      <td>70</td>\n      <td>17</td>\n      <td>0</td>\n      <td>27.3</td>\n      <td>0.085</td>\n      <td>22</td>\n      <td>0</td>\n    </tr>\n    <tr>\n      <th>180</th>\n      <td>6</td>\n      <td>87</td>\n      <td>80</td>\n      <td>0</td>\n      <td>0</td>\n      <td>23.2</td>\n      <td>0.084</td>\n      <td>32</td>\n      <td>0</td>\n    </tr>\n    <tr>\n      <th>268</th>\n      <td>0</td>\n      <td>102</td>\n      <td>52</td>\n      <td>0</td>\n      <td>0</td>\n      <td>25.1</td>\n      <td>0.078</td>\n      <td>21</td>\n      <td>0</td>\n    </tr>\n  </tbody>\n</table>\n</div>"
          },
          "metadata": {}
        }
      ],
      "execution_count": 14
    },
    {
      "cell_type": "markdown",
      "source": "<a style='text-decoration:none;line-height:16px;display:flex;color:#5B5B62;padding:10px;justify-content:end;' href='https://deepnote.com?utm_source=created-in-deepnote-cell&projectId=15bb2479-59c8-4dfc-b518-9976ce5eb9cb' target=\"_blank\">\n<img alt='Created in deepnote.com' style='display:inline;max-height:16px;margin:0px;margin-right:7.5px;' src='data:image/svg+xml;base64,PD94bWwgdmVyc2lvbj0iMS4wIiBlbmNvZGluZz0iVVRGLTgiPz4KPHN2ZyB3aWR0aD0iODBweCIgaGVpZ2h0PSI4MHB4IiB2aWV3Qm94PSIwIDAgODAgODAiIHZlcnNpb249IjEuMSIgeG1sbnM9Imh0dHA6Ly93d3cudzMub3JnLzIwMDAvc3ZnIiB4bWxuczp4bGluaz0iaHR0cDovL3d3dy53My5vcmcvMTk5OS94bGluayI+CiAgICA8IS0tIEdlbmVyYXRvcjogU2tldGNoIDU0LjEgKDc2NDkwKSAtIGh0dHBzOi8vc2tldGNoYXBwLmNvbSAtLT4KICAgIDx0aXRsZT5Hcm91cCAzPC90aXRsZT4KICAgIDxkZXNjPkNyZWF0ZWQgd2l0aCBTa2V0Y2guPC9kZXNjPgogICAgPGcgaWQ9IkxhbmRpbmciIHN0cm9rZT0ibm9uZSIgc3Ryb2tlLXdpZHRoPSIxIiBmaWxsPSJub25lIiBmaWxsLXJ1bGU9ImV2ZW5vZGQiPgogICAgICAgIDxnIGlkPSJBcnRib2FyZCIgdHJhbnNmb3JtPSJ0cmFuc2xhdGUoLTEyMzUuMDAwMDAwLCAtNzkuMDAwMDAwKSI+CiAgICAgICAgICAgIDxnIGlkPSJHcm91cC0zIiB0cmFuc2Zvcm09InRyYW5zbGF0ZSgxMjM1LjAwMDAwMCwgNzkuMDAwMDAwKSI+CiAgICAgICAgICAgICAgICA8cG9seWdvbiBpZD0iUGF0aC0yMCIgZmlsbD0iIzAyNjVCNCIgcG9pbnRzPSIyLjM3NjIzNzYyIDgwIDM4LjA0NzY2NjcgODAgNTcuODIxNzgyMiA3My44MDU3NTkyIDU3LjgyMTc4MjIgMzIuNzU5MjczOSAzOS4xNDAyMjc4IDMxLjY4MzE2ODMiPjwvcG9seWdvbj4KICAgICAgICAgICAgICAgIDxwYXRoIGQ9Ik0zNS4wMDc3MTgsODAgQzQyLjkwNjIwMDcsNzYuNDU0OTM1OCA0Ny41NjQ5MTY3LDcxLjU0MjI2NzEgNDguOTgzODY2LDY1LjI2MTk5MzkgQzUxLjExMjI4OTksNTUuODQxNTg0MiA0MS42NzcxNzk1LDQ5LjIxMjIyODQgMjUuNjIzOTg0Niw0OS4yMTIyMjg0IEMyNS40ODQ5Mjg5LDQ5LjEyNjg0NDggMjkuODI2MTI5Niw0My4yODM4MjQ4IDM4LjY0NzU4NjksMzEuNjgzMTY4MyBMNzIuODcxMjg3MSwzMi41NTQ0MjUgTDY1LjI4MDk3Myw2Ny42NzYzNDIxIEw1MS4xMTIyODk5LDc3LjM3NjE0NCBMMzUuMDA3NzE4LDgwIFoiIGlkPSJQYXRoLTIyIiBmaWxsPSIjMDAyODY4Ij48L3BhdGg+CiAgICAgICAgICAgICAgICA8cGF0aCBkPSJNMCwzNy43MzA0NDA1IEwyNy4xMTQ1MzcsMC4yNTcxMTE0MzYgQzYyLjM3MTUxMjMsLTEuOTkwNzE3MDEgODAsMTAuNTAwMzkyNyA4MCwzNy43MzA0NDA1IEM4MCw2NC45NjA0ODgyIDY0Ljc3NjUwMzgsNzkuMDUwMzQxNCAzNC4zMjk1MTEzLDgwIEM0Ny4wNTUzNDg5LDc3LjU2NzA4MDggNTMuNDE4MjY3Nyw3MC4zMTM2MTAzIDUzLjQxODI2NzcsNTguMjM5NTg4NSBDNTMuNDE4MjY3Nyw0MC4xMjg1NTU3IDM2LjMwMzk1NDQsMzcuNzMwNDQwNSAyNS4yMjc0MTcsMzcuNzMwNDQwNSBDMTcuODQzMDU4NiwzNy43MzA0NDA1IDkuNDMzOTE5NjYsMzcuNzMwNDQwNSAwLDM3LjczMDQ0MDUgWiIgaWQ9IlBhdGgtMTkiIGZpbGw9IiMzNzkzRUYiPjwvcGF0aD4KICAgICAgICAgICAgPC9nPgogICAgICAgIDwvZz4KICAgIDwvZz4KPC9zdmc+' > </img>\nCreated in <span style='font-weight:600;margin-left:4px;'>Deepnote</span></a>",
      "metadata": {
        "created_in_deepnote_cell": true,
        "deepnote_cell_type": "markdown"
      }
    }
  ],
  "nbformat": 4,
  "nbformat_minor": 0,
  "metadata": {
    "colab": {
      "name": "Pandas_Exercises",
      "provenance": [],
      "collapsed_sections": []
    },
    "deepnote": {},
    "kernelspec": {
      "name": "python3",
      "language": "python",
      "display_name": "Python 3"
    },
    "language_info": {
      "name": "python",
      "version": "3.7.3",
      "mimetype": "text/x-python",
      "file_extension": ".py",
      "pygments_lexer": "ipython3",
      "codemirror_mode": {
        "name": "ipython",
        "version": 3
      },
      "nbconvert_exporter": "python"
    },
    "deepnote_notebook_id": "3f0ab53feb8b475a9560d6699b9dfe8b",
    "deepnote_execution_queue": []
  }
}